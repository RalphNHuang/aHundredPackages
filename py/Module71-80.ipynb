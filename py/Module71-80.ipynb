{
 "cells": [
  {
   "cell_type": "markdown",
   "metadata": {},
   "source": [
    "# Module71-80\n",
    "## 20200921-20200925\n",
    "\n",
    "1. alibi\n",
    "1. yellowbrick\n",
    "1. sklearnplot\n",
    "1. Eli5\n",
    "1. LIME\n",
    "1. pyspark\n",
    "1. findspark\n",
    "1. dlib\n",
    "1. glob\n",
    "1. cv2"
   ]
  },
  {
   "cell_type": "markdown",
   "metadata": {},
   "source": [
    "---\n",
    "## 8.71 dtw"
   ]
  },
  {
   "cell_type": "code",
   "execution_count": 3,
   "metadata": {},
   "outputs": [
    {
     "data": {
      "text/plain": [
       "8.261297173761164"
      ]
     },
     "execution_count": 3,
     "metadata": {},
     "output_type": "execute_result"
    }
   ],
   "source": [
    "# 样例 二维测试\n",
    "from dtw import dtw\n",
    "\n",
    "# Here, we use L2 norm as the element comparison distance\n",
    "l2_norm = lambda x, y: ((x[0] - y[0]) ** 2 + (x[1] - y[1]) ** 2) ** 0.5\n",
    "\n",
    "dist, cost_matrix, acc_cost_matrix, path = dtw(x, y, dist=l2_norm)\n",
    "\n",
    "dist"
   ]
  },
  {
   "cell_type": "code",
   "execution_count": 72,
   "metadata": {},
   "outputs": [],
   "source": [
    "import psycopg2\n",
    "from dtw import dtw\n",
    "import numpy as np\n",
    "from math import radians, cos, sin, asin, sqrt\n",
    "import folium\n",
    "from sklearn.cluster import AgglomerativeClustering\n",
    "\n",
    "# 经纬度距离计算\n",
    "def geodistance(x, y):\n",
    "    #lng1,lat1,lng2,lat2 = (120.12802999999997,30.28708,115.86572000000001,28.7427)\n",
    "    lng1 = x['lon']\n",
    "    lat1 = x['lat']\n",
    "    lng2 = y['lon']\n",
    "    lat2 = y['lat']\n",
    "    lng1, lat1, lng2, lat2 = map(radians, [float(lng1), float(lat1), float(lng2), float(lat2)]) # 经纬度转换成弧度\n",
    "    dlon=lng2-lng1\n",
    "    dlat=lat2-lat1\n",
    "    a=sin(dlat/2)**2 + cos(lat1) * cos(lat2) * sin(dlon/2)**2 \n",
    "    distance=2*asin(sqrt(a))*6371*1000 # 地球平均半径，6371km\n",
    "    distance=round(distance,3)\n",
    "    return distance\n",
    "\n",
    "def getData(vin  = 'LL2274099JW110244'):\n",
    "    conn = psycopg2.connect(database=\"staging\", user=\"dater\", password=\"q1w2e3r4\", host=\"127.0.0.1\", port=\"5432\")\n",
    "    cur = conn.cursor()\n",
    "    cur.execute((\"\"\"select distinct  time,vin,gps_longitude,gps_latitude\n",
    "        from public.wm_caninfo_sample20190826\n",
    "        where vin='%s' and gps_longitude>0\n",
    "        order by time\"\"\") % (vin))\n",
    "    dat = cur.fetchall()\n",
    "    conn.commit()\n",
    "    return(dat)\n",
    "\n",
    "#dat = getData()\n",
    "#len(dat)\n",
    "\n",
    "\n",
    "\n",
    "def devisionData(dat, save = False):\n",
    "    label = 0\n",
    "    allDat = []\n",
    "    tmpDat = []\n",
    "    dtTable = []\n",
    "    for i in range(len(dat)):\n",
    "    #for i in range(100):\n",
    "        if i!=1 and (dat[i][0] - dat[i-1][0]).seconds >180:\n",
    "            if tmpDat!=[] and geodistance(tmpDat[0], tmpDat[len(tmpDat)-1])>1000 and  len(tmpDat)>10:\n",
    "                allDat.append(tmpDat)\n",
    "            label = label+1\n",
    "            tmpDat = []\n",
    "        inDat = {'lon': dat[i][2],\n",
    "                 'lat': dat[i][3],\n",
    "                 'label': label,\n",
    "                 'time':str(dat[i][0])\n",
    "                }\n",
    "        dtTable.append([dat[i][2], dat[i][3],label,str(dat[i][0])])\n",
    "        tmpDat.append(inDat)\n",
    "\n",
    "        \n",
    "    print(len(allDat))\n",
    "    if(save):\n",
    "        conn = psycopg2.connect(database=\"staging\", user=\"dater\", password=\"q1w2e3r4\", host=\"127.0.0.1\", port=\"5432\")\n",
    "        cur = conn.cursor()\n",
    "        cur.execute(\"drop table tmp_tracesplit\")\n",
    "        cur.execute('''CREATE TABLE tmp_tracesplit\n",
    "               (lon     float,\n",
    "                lat             float,\n",
    "                label            int,\n",
    "                dtime               TEXT);''')\n",
    "        conn.commit()\n",
    "        print(\"Table created successfully\")\n",
    "\n",
    "        conn = psycopg2.connect(database=\"staging\", user=\"dater\", password=\"q1w2e3r4\", host=\"127.0.0.1\", port=\"5432\")\n",
    "        cur = conn.cursor()\n",
    "        sql = 'INSERT INTO tmp_tracesplit values(%s,%s,%s,%s)'\n",
    "        cur.executemany(sql, dtTable)\n",
    "        conn.commit()\n",
    "\n",
    "    #cur.execute(\"select * from tmp_tracesplit;\")\n",
    "    #cur.fetchmany(5)\n",
    "    return(allDat)\n",
    "\n",
    "#dat = getData()\n",
    "#allDat = devisionData(dat)\n",
    "#len(allDat)\n",
    "\n",
    "def trainClusterModel(allDat):\n",
    "\n",
    "    # print(allDat[1][1])\n",
    "    # geodistance(allDat[1][1],allDat[1][2])\n",
    "    # Here, we use L2 norm as the element comparison distance\n",
    "    # 距离矩阵建立\n",
    "    outMatrix = []\n",
    "    tmpArray = []\n",
    "\n",
    "    for i in range(len(allDat)):\n",
    "        for j in range(len(allDat)):\n",
    "            #if j <= i : continue\n",
    "            #or i==0 or j==0 \n",
    "            #or len(allDat[i])<=10 or len(allDat[j])<=10 or \\\n",
    "            #geodistance(allDat[i][0], allDat[i][len(allDat[i])-1])<1000 or \\\n",
    "            #geodistance(allDat[j][0], allDat[j][len(allDat[j])-1])<1000 : continue\n",
    "            dist, cost_matrix, acc_cost_matrix, path = dtw(allDat[i], allDat[j], dist=geodistance)\n",
    "            tmpArray.append(dist/1000)\n",
    "            if dist/1000<200 :\n",
    "                print (i, j, len(allDat[i]), len(allDat[j]), dist)\n",
    "        outMatrix.append(tmpArray)\n",
    "        tmpArray = []\n",
    "\n",
    "    #print(outMatrix)\n",
    "    \n",
    "    clustering = AgglomerativeClustering(affinity = 'precomputed',\n",
    "                                     linkage = 'average',\n",
    "                                     n_clusters = None,\n",
    "                                     distance_threshold = 200).fit(outMatrix)\n",
    "    return(clustering)\n",
    "\n",
    "\n",
    "def plotMap(lineArray=[ 3, 10, 15, 17, 42, 51], allDat=allDat):\n",
    "    Map = folium.Map(tiles='http://webrd02.is.autonavi.com/appmaptile?lang=zh_cn&size=1&scale=1&style=7&x={x}&y={y}&z={z}',\n",
    "              attr='default',\n",
    "              location=[39.90,116.40],\n",
    "              zoom_start=11)\n",
    "    colorList = ['green','blue','skyblue','red','purple','black','green','blue','skyblue','red','purple','black']\n",
    "    m = 0\n",
    "    for i in lineArray:\n",
    "        tmp = allDat[i]\n",
    "        lineArray=[]\n",
    "        for j in range(len(tmp)):\n",
    "            lineArray.append([tmp[j]['lat'],tmp[j]['lon']])\n",
    "        folium.PolyLine(lineArray,color=colorList[m]).add_to(Map)\n",
    "        m += 1\n",
    "\n",
    "    return(Map)"
   ]
  },
  {
   "cell_type": "code",
   "execution_count": 5,
   "metadata": {},
   "outputs": [],
   "source": [
    "def main(vin):\n",
    "    dat = getData(vin)\n",
    "    allDat = devisionData(dat)\n",
    "    clustering = trainClusterModel(allDat)\n",
    "    return(clustering,allDat)"
   ]
  },
  {
   "cell_type": "code",
   "execution_count": 64,
   "metadata": {},
   "outputs": [
    {
     "name": "stdout",
     "output_type": "stream",
     "text": [
      "63\n",
      "0 0 143 143 0.0\n",
      "1 1 40 40 0.0\n",
      "2 2 138 138 0.0\n",
      "3 3 76 76 0.0\n",
      "4 4 62 62 0.0\n",
      "5 5 21 21 0.0\n",
      "6 6 13 13 0.0\n",
      "7 7 95 95 0.0\n",
      "8 8 14 14 0.0\n",
      "9 9 16 16 0.0\n",
      "10 10 81 81 0.0\n",
      "11 11 14 14 0.0\n",
      "12 12 26 26 0.0\n",
      "13 13 52 52 0.0\n",
      "14 14 164 164 0.0\n",
      "15 15 87 87 0.0\n",
      "16 16 111 111 0.0\n",
      "17 17 77 77 0.0\n",
      "18 18 32 32 0.0\n",
      "19 19 72 72 0.0\n",
      "20 20 145 145 0.0\n",
      "21 21 25 25 0.0\n",
      "22 22 84 84 0.0\n",
      "23 23 68 68 0.0\n",
      "24 24 67 67 0.0\n",
      "25 25 51 51 0.0\n",
      "26 26 58 58 0.0\n",
      "27 27 74 74 0.0\n",
      "28 28 88 88 0.0\n",
      "29 29 82 82 0.0\n",
      "30 30 126 126 0.0\n",
      "31 31 21 21 0.0\n",
      "32 32 29 29 0.0\n",
      "33 33 25 25 0.0\n",
      "34 34 166 166 0.0\n",
      "35 35 86 86 0.0\n",
      "36 36 150 150 0.0\n",
      "37 37 59 59 0.0\n",
      "38 38 43 43 0.0\n",
      "39 39 26 26 0.0\n",
      "40 40 65 65 0.0\n",
      "41 41 51 51 0.0\n",
      "42 42 84 84 0.0\n",
      "43 43 77 77 0.0\n",
      "44 44 80 80 0.0\n",
      "45 45 46 46 0.0\n",
      "46 46 172 172 0.0\n",
      "47 47 15 15 0.0\n",
      "48 48 53 53 0.0\n",
      "49 49 88 88 0.0\n",
      "50 50 111 111 0.0\n",
      "51 51 80 80 0.0\n",
      "52 52 95 95 0.0\n",
      "53 53 27 27 0.0\n",
      "54 54 26 26 0.0\n",
      "55 55 119 119 0.0\n",
      "56 56 77 77 0.0\n",
      "57 57 63 63 0.0\n",
      "58 58 26 26 0.0\n",
      "59 59 19 19 0.0\n",
      "60 60 68 68 0.0\n",
      "61 61 62 62 0.0\n",
      "62 62 28 28 0.0\n"
     ]
    }
   ],
   "source": [
    "(clustering,allDat) = main('LL2274099JW110244')"
   ]
  },
  {
   "cell_type": "code",
   "execution_count": 58,
   "metadata": {},
   "outputs": [],
   "source": [
    "dist, cost_matrix, acc_cost_matrix, path = dtw(allDat[1], allDat[5], dist=geodistance)"
   ]
  },
  {
   "cell_type": "code",
   "execution_count": 61,
   "metadata": {},
   "outputs": [
    {
     "data": {
      "text/plain": [
       "(32491.737999999987,\n",
       " array([[   15.79 ,    15.811,    17.934, ..., 10115.904, 10114.943,\n",
       "         10115.078],\n",
       "        [   15.348,    15.37 ,    17.63 , ..., 10115.462, 10114.502,\n",
       "         10114.636],\n",
       "        [   52.896,    53.062,    37.646, ..., 10106.315, 10105.339,\n",
       "         10105.468],\n",
       "        ...,\n",
       "        [10358.05 , 10358.112, 10355.676, ...,  2704.412,  2701.013,\n",
       "          2699.834],\n",
       "        [10631.822, 10631.877, 10630.226, ...,  2262.02 ,  2258.807,\n",
       "          2257.615],\n",
       "        [10966.338, 10966.388, 10965.18 , ...,  2115.355,  2112.479,\n",
       "          2111.314]]),\n",
       " array([[1.57900000e+01, 3.16010000e+01, 4.95350000e+01, ...,\n",
       "         4.57680070e+05, 4.67795013e+05, 4.77910091e+05],\n",
       "        [3.11380000e+01, 3.11600000e+01, 4.87900000e+01, ...,\n",
       "         4.57665099e+05, 4.67779601e+05, 4.77894237e+05],\n",
       "        [8.40340000e+01, 8.42000000e+01, 6.88060000e+01, ...,\n",
       "         4.54873844e+05, 4.64979183e+05, 4.75084651e+05],\n",
       "        ...,\n",
       "        [3.57277781e+05, 3.57277843e+05, 3.56444499e+05, ...,\n",
       "         3.71731230e+04, 3.98741360e+04, 4.25739700e+04],\n",
       "        [3.67909603e+05, 3.67909658e+05, 3.67074725e+05, ...,\n",
       "         3.09818670e+04, 3.32406740e+04, 3.54982890e+04],\n",
       "        [3.78875941e+05, 3.78875991e+05, 3.78039905e+05, ...,\n",
       "         2.82679450e+04, 3.03804240e+04, 3.24917380e+04]]),\n",
       " (array([ 0,  1,  1,  2,  2,  2,  3,  4,  5,  5,  6,  7,  8,  9, 10, 11, 12,\n",
       "         13, 14, 15, 16, 17, 18, 19, 20, 21, 22, 23, 24, 25, 26, 26, 27, 28,\n",
       "         29, 30, 31, 32, 33, 34, 35, 36, 37, 38, 39, 40, 41, 42, 43, 44, 45,\n",
       "         46, 47, 48, 49, 50, 51, 52, 53, 54, 54, 55, 56, 57, 58, 59, 59, 60,\n",
       "         61, 62, 63, 64, 65, 66, 67, 68, 69, 70, 71, 72, 73, 74, 75, 75, 75,\n",
       "         75, 75, 75, 75, 75, 75, 75, 75, 75, 75]),\n",
       "  array([ 0,  1,  2,  3,  4,  5,  6,  7,  8,  9, 10, 11, 11, 12, 12, 13, 14,\n",
       "         15, 15, 16, 16, 16, 17, 18, 18, 19, 19, 19, 19, 20, 21, 22, 23, 24,\n",
       "         25, 26, 27, 28, 29, 30, 31, 32, 33, 33, 33, 34, 35, 36, 37, 38, 39,\n",
       "         40, 41, 42, 42, 43, 44, 45, 46, 47, 48, 49, 50, 50, 51, 52, 53, 54,\n",
       "         55, 56, 57, 58, 59, 60, 61, 61, 62, 63, 64, 65, 66, 67, 68, 69, 70,\n",
       "         71, 72, 73, 74, 75, 76, 77, 78, 79, 80])))"
      ]
     },
     "execution_count": 61,
     "metadata": {},
     "output_type": "execute_result"
    }
   ],
   "source": [
    "dtw(allDat[1], allDat[5], dist=geodistance)"
   ]
  },
  {
   "cell_type": "code",
   "execution_count": 81,
   "metadata": {},
   "outputs": [
    {
     "data": {
      "text/html": [
       "<div style=\"width:100%;\"><div style=\"position:relative;width:100%;height:0;padding-bottom:60%;\"><span style=\"color:#565656\">Make this Notebook Trusted to load map: File -> Trust Notebook</span><iframe src=\"about:blank\" style=\"position:absolute;width:100%;height:100%;left:0;top:0;border:none !important;\" data-html=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 onload=\"this.contentDocument.open();this.contentDocument.write(atob(this.getAttribute('data-html')));this.contentDocument.close();\" allowfullscreen webkitallowfullscreen mozallowfullscreen></iframe></div></div>"
      ],
      "text/plain": [
       "<folium.folium.Map at 0x7f3f8f234ba8>"
      ]
     },
     "execution_count": 81,
     "metadata": {},
     "output_type": "execute_result"
    }
   ],
   "source": [
    "plotMap([31,58], allDat)"
   ]
  },
  {
   "cell_type": "code",
   "execution_count": 88,
   "metadata": {},
   "outputs": [
    {
     "data": {
      "text/html": [
       "<div style=\"width:100%;\"><div style=\"position:relative;width:100%;height:0;padding-bottom:60%;\"><span style=\"color:#565656\">Make this Notebook Trusted to load map: File -> Trust Notebook</span><iframe src=\"about:blank\" style=\"position:absolute;width:100%;height:100%;left:0;top:0;border:none !important;\" data-html=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 onload=\"this.contentDocument.open();this.contentDocument.write(atob(this.getAttribute('data-html')));this.contentDocument.close();\" allowfullscreen webkitallowfullscreen mozallowfullscreen></iframe></div></div>"
      ],
      "text/plain": [
       "<folium.folium.Map at 0x7f3f943d4908>"
      ]
     },
     "execution_count": 88,
     "metadata": {},
     "output_type": "execute_result"
    }
   ],
   "source": [
    "plotMap(np.where(clustering.labels_==12)[0], allDat)"
   ]
  },
  {
   "cell_type": "code",
   "execution_count": 87,
   "metadata": {},
   "outputs": [
    {
     "data": {
      "text/plain": [
       "array([ 3, 10, 15, 17, 22, 35, 42, 44, 51])"
      ]
     },
     "execution_count": 87,
     "metadata": {},
     "output_type": "execute_result"
    }
   ],
   "source": [
    "np.where(clustering.labels_==12)[0]"
   ]
  },
  {
   "cell_type": "code",
   "execution_count": 84,
   "metadata": {},
   "outputs": [
    {
     "name": "stdout",
     "output_type": "stream",
     "text": [
      "{'lon': 116.273888, 'lat': 39.896171, 'label': 75, 'time': '2018-11-24 10:43:58+08:00'}\n",
      "{'lon': 116.285308, 'lat': 39.859881, 'label': 76, 'time': '2018-11-24 15:08:40+08:00'}\n"
     ]
    },
    {
     "data": {
      "text/plain": [
       "4151.264"
      ]
     },
     "execution_count": 84,
     "metadata": {},
     "output_type": "execute_result"
    }
   ],
   "source": [
    "i =31\n",
    "j = 32\n",
    "print(allDat[i][0])\n",
    "print(allDat[j][0])\n",
    "\n",
    "geodistance(allDat[i][0],allDat[j][0])"
   ]
  },
  {
   "cell_type": "code",
   "execution_count": null,
   "metadata": {},
   "outputs": [],
   "source": []
  },
  {
   "cell_type": "code",
   "execution_count": null,
   "metadata": {},
   "outputs": [],
   "source": []
  },
  {
   "cell_type": "code",
   "execution_count": null,
   "metadata": {},
   "outputs": [],
   "source": [
    "dtw(allDat[31], allDat[32], dist=geodistance)"
   ]
  },
  {
   "cell_type": "code",
   "execution_count": 66,
   "metadata": {},
   "outputs": [
    {
     "name": "stdout",
     "output_type": "stream",
     "text": [
      "(array([ 7, 16, 26, 29, 43, 48, 50, 52]),)\n",
      "(array([31, 32, 33, 58]),)\n",
      "(array([ 6, 11, 47, 54, 62]),)\n",
      "(array([56]),)\n",
      "(array([18, 38, 39, 59]),)\n",
      "(array([ 1, 23, 40, 45]),)\n",
      "(array([ 5, 12]),)\n",
      "(array([46]),)\n",
      "(array([34]),)\n",
      "(array([41, 60]),)\n",
      "(array([57]),)\n",
      "(array([49, 61]),)\n",
      "(array([ 3, 10, 15, 17, 22, 35, 42, 44, 51]),)\n",
      "(array([ 8,  9, 21, 53]),)\n",
      "(array([24]),)\n",
      "(array([0]),)\n",
      "(array([20]),)\n",
      "(array([27]),)\n",
      "(array([4]),)\n",
      "(array([14]),)\n",
      "(array([25, 37]),)\n",
      "(array([36]),)\n",
      "(array([19]),)\n",
      "(array([2]),)\n",
      "(array([55]),)\n",
      "(array([28]),)\n",
      "(array([13]),)\n",
      "(array([30]),)\n"
     ]
    }
   ],
   "source": [
    "for i in range(clustering.n_clusters_):\n",
    "    print(np.where(clustering.labels_==i))\n",
    "    \n"
   ]
  },
  {
   "cell_type": "code",
   "execution_count": null,
   "metadata": {},
   "outputs": [],
   "source": []
  },
  {
   "cell_type": "code",
   "execution_count": 33,
   "metadata": {},
   "outputs": [
    {
     "data": {
      "text/plain": [
       "array([1, 1, 1, 1, 1, 1, 1, 1, 1, 1, 1, 1, 1, 1, 1, 1, 1, 1, 1, 1, 1, 1,\n",
       "       1, 1, 1, 1, 1, 1, 1, 1, 1, 1, 1, 1, 1, 1, 1, 1, 1, 1, 1, 1, 1, 1,\n",
       "       1, 1, 1, 1, 1, 1, 1, 1, 1, 1, 1, 1, 1, 1, 1, 1, 1, 1, 1, 1, 1, 1,\n",
       "       1, 1, 1, 1, 1, 1, 1, 1, 1, 1, 1, 1, 1, 1, 1, 1, 1, 1, 1, 1, 1, 1,\n",
       "       1, 1])"
      ]
     },
     "execution_count": 33,
     "metadata": {},
     "output_type": "execute_result"
    }
   ],
   "source": [
    "np.bincount(clustering.labels_)"
   ]
  },
  {
   "cell_type": "code",
   "execution_count": null,
   "metadata": {},
   "outputs": [],
   "source": [
    "plotMap([22, 35, 44])"
   ]
  },
  {
   "cell_type": "code",
   "execution_count": null,
   "metadata": {},
   "outputs": [],
   "source": [
    "plotMap([7, 26, 43, 52])"
   ]
  },
  {
   "cell_type": "markdown",
   "metadata": {},
   "source": [
    "## 8.72 pykeyboard"
   ]
  },
  {
   "cell_type": "code",
   "execution_count": null,
   "metadata": {},
   "outputs": [],
   "source": [
    "from pykeyboard import PyKeyboard\n",
    "k = PyKeyboard()\n",
    "k.tap_key(k.caps_lock_key,n=1000,interval=200) \n",
    "#模拟点击H键，2次，每次间隔5秒 \n"
   ]
  },
  {
   "cell_type": "markdown",
   "metadata": {},
   "source": [
    "## 8.73 pymouse"
   ]
  },
  {
   "cell_type": "code",
   "execution_count": null,
   "metadata": {},
   "outputs": [],
   "source": [
    "from pymouse import PyMouse \n",
    "import time\n",
    "myMouse = PyMouse()\n",
    "nowP = myMouse.position()\n",
    "print(nowP)\n",
    "i = 0\n",
    "while i<1000:\n",
    "    i+=1\n",
    "    time.sleep(3)\n",
    "    nowP = myMouse.position()\n",
    "    print(nowP)\n",
    "    myMouse.click(x = 218,y=213,button=1)\n",
    "    myMouse.click(x = 204,y=243,button=1)"
   ]
  },
  {
   "cell_type": "markdown",
   "metadata": {},
   "source": [
    "## 8.74 pyinstaller"
   ]
  },
  {
   "cell_type": "raw",
   "metadata": {},
   "source": [
    "pyinstaller.exe -F usage.py -n 使用大屏.exe\n",
    "pyinstaller.exe -F order.py -n 订单大屏.exe\n",
    "pyinstaller.exe -F charge.py -n 充电大屏.exe\n",
    "pyinstaller.exe -F hu.py -n 车内交互.exe\n",
    "\n",
    "mv 使用大屏.exe ../使用大屏.exe\n",
    "mv 订单大屏.exe ../订单大屏.exe\n",
    "mv 充电大屏.exe ../充电大屏.exe\n"
   ]
  },
  {
   "cell_type": "code",
   "execution_count": null,
   "metadata": {},
   "outputs": [],
   "source": []
  },
  {
   "cell_type": "markdown",
   "metadata": {},
   "source": [
    "## 8.75 wxpy"
   ]
  },
  {
   "cell_type": "markdown",
   "metadata": {},
   "source": [
    "## 8.76 elasticsearch"
   ]
  },
  {
   "cell_type": "code",
   "execution_count": null,
   "metadata": {},
   "outputs": [],
   "source": [
    "# coding: utf-8\n",
    "\n",
    "# 导入模块\n",
    "from wxpy import *\n",
    "from elasticsearch import Elasticsearch\n",
    "\n",
    "import datetime,threading,time\n",
    "lockObject = threading.Lock()\n",
    "\n",
    "\n",
    "# 初始化机器人，扫码登陆\n",
    "bot = Bot()\n",
    "\n",
    "es = Elasticsearch(\"10.60.10.28:9200\")\n",
    "\n",
    "\n",
    "def __len__(self):\n",
    "    return len(self.names)\n",
    "\n",
    "\n",
    "def esinto(msgid, msgsender, msgmember, msgtext, num, updateTime):\n",
    "    data = {\n",
    "        \"updateTime\": updateTime * 1000,\n",
    "        \"mediaId\": \"5000\",\n",
    "        \"publishTime\": updateTime * 1000,\n",
    "        \"author\": msgmember,\n",
    "        \"content\": msgtext,\n",
    "        \"id\": msgid,\n",
    "        \"title\": msgsender,\n",
    "        \"forumName\": num\n",
    "    }\n",
    "    es.index(index=\"saas-forum-details-2019\", doc_type=\"details\", body=data)\n",
    "\n",
    "def uptTime():\n",
    "    global lockObject\n",
    "    lockObject.acquire()\n",
    "    t = datetime.datetime.now()\n",
    "    timeStamp = time.mktime(t.timetuple())\n",
    "    lockObject.release()\n",
    "    return timeStamp\n",
    "\n",
    "def getTodayTimeStamp():\n",
    "    global lockObject\n",
    "    lockObject.acquire()\n",
    "    now = datetime.datetime.now()\n",
    "    timeStamp = '%s 00:00:00' % now.strftime( '%Y-%m-%d' )\n",
    "    timeStamp = time.strptime( timeStamp, '%Y-%m-%d %X' )\n",
    "    timeStamp = int(time.mktime( timeStamp ))\n",
    "    lockObject.release()\n",
    "\n",
    "    return timeStamp\n",
    "\n",
    "# 消息接收监听器\n",
    "@bot.register()\n",
    "def print_msg(msg):\n",
    "    try:\n",
    "        # 群人数（forumname）\n",
    "        # num = len(msg.sender.members)\n",
    "        # forumName\n",
    "        num = \"威马车主群\"\n",
    "        msgid = msg.id\n",
    "        #群名（标题）\n",
    "        msgsender = msg.sender.name\n",
    "        #发消息用户（author）\n",
    "        msgmember = msg.member.name\n",
    "        #消息内容（content）\n",
    "        msgtext = msg.text\n",
    "        # 更新时间\n",
    "        updateTime = getTodayTimeStamp()\n",
    "        if '威马' in msgsender:\n",
    "            esinto(msgid, msgsender, msgmember, msgtext, num, updateTime)\n",
    "    except Exception as e:\n",
    "        print('except:', e)\n",
    "\n",
    "\n",
    "embed()\n"
   ]
  },
  {
   "cell_type": "code",
   "execution_count": null,
   "metadata": {},
   "outputs": [],
   "source": []
  },
  {
   "cell_type": "markdown",
   "metadata": {},
   "source": [
    "## 8.77 qrcode"
   ]
  },
  {
   "cell_type": "code",
   "execution_count": 92,
   "metadata": {},
   "outputs": [
    {
     "name": "stdout",
     "output_type": "stream",
     "text": [
      "<qrcode.main.QRCode object at 0x7f3f8f1ad4a8>\n"
     ]
    }
   ],
   "source": [
    "import qrcode\n",
    "img = qrcode.make('helloworld')\n",
    "#带图片的编码方式\n",
    "qr = qrcode.QRCode(\n",
    "    version=5,\n",
    "    error_correction=qrcode.constants.ERROR_CORRECT_H,\n",
    "    box_size=8,\n",
    "    border=4)\n",
    "print(qr)"
   ]
  },
  {
   "cell_type": "code",
   "execution_count": 95,
   "metadata": {},
   "outputs": [
    {
     "data": {
      "image/png": "[encoded data removed]",
      "text/plain": [
       "<qrcode.image.pil.PilImage at 0x7f3f8ef5a8d0>"
      ]
     },
     "execution_count": 95,
     "metadata": {},
     "output_type": "execute_result"
    }
   ],
   "source": [
    "qr.make_image()"
   ]
  },
  {
   "cell_type": "markdown",
   "metadata": {},
   "source": [
    "## 8.78 PyPDF2"
   ]
  },
  {
   "cell_type": "code",
   "execution_count": 97,
   "metadata": {},
   "outputs": [
    {
     "name": "stdout",
     "output_type": "stream",
     "text": [
      "\n",
      "    Information about ./data/storytelling-with-data-cole-nussbaumer-knaflic.pdf:\n",
      "    \n",
      "    Author:Cole Nussbaumer Knaflic\n",
      "    Creator:Adobe InDesign CS4 (6.0)\n",
      "    Producer:Adobe PDF Library 9.0\n",
      "    Subject:None\n",
      "    Title:Storytelling with Data\n",
      "    Number of pages:284\n",
      "    \n"
     ]
    },
    {
     "data": {
      "text/plain": [
       "{'/Author': 'Cole Nussbaumer Knaflic',\n",
       " '/CreationDate': \"D:20151008145533+05'30'\",\n",
       " '/Creator': 'Adobe InDesign CS4 (6.0)',\n",
       " '/ModDate': \"D:20151008193107+05'30'\",\n",
       " '/Producer': 'Adobe PDF Library 9.0',\n",
       " '/Title': 'Storytelling with Data',\n",
       " '/Trapped': '/False',\n",
       " '/EBX_PUBLISHER': '/Wiley'}"
      ]
     },
     "execution_count": 97,
     "metadata": {},
     "output_type": "execute_result"
    }
   ],
   "source": [
    "from PyPDF2 import PdfFileReader\n",
    "\n",
    "def extract_information(pdf_path):\n",
    "    with open(pdf_path,'rb') as f:\n",
    "        pdf = PdfFileReader(f)\n",
    "        information = pdf.getDocumentInfo()\n",
    "        number_of_pages = pdf.getNumPages()\n",
    "        \n",
    "    txt = f\"\"\"\n",
    "    Information about {pdf_path}:\n",
    "    \n",
    "    Author:{information.author}\n",
    "    Creator:{information.creator}\n",
    "    Producer:{information.producer}\n",
    "    Subject:{information.subject}\n",
    "    Title:{information.title}\n",
    "    Number of pages:{number_of_pages}\n",
    "    \"\"\"\n",
    "    \n",
    "    print(txt)\n",
    "    return information\n",
    "\n",
    "\n",
    "path = r'./data/storytelling-with-data-cole-nussbaumer-knaflic.pdf'\n",
    "#这是我个人PDF的路径\n",
    "extract_information(path)"
   ]
  },
  {
   "cell_type": "code",
   "execution_count": 99,
   "metadata": {},
   "outputs": [],
   "source": [
    "# pdf_splitting.py\n",
    "\n",
    "from PyPDF2 import PdfFileReader, PdfFileWriter\n",
    "\n",
    "def split(path, name_of_split):\n",
    "    pdf = PdfFileReader(path)\n",
    "    for page in range(5):\n",
    "        pdf_writer = PdfFileWriter()\n",
    "        pdf_writer.addPage(pdf.getPage(page))\n",
    "\n",
    "        output = f'{name_of_split}{page}.pdf'\n",
    "        with open(output, 'wb') as output_pdf:\n",
    "            pdf_writer.write(output_pdf)\n",
    "\n",
    "\n",
    "path = r'./data/storytelling-with-data-cole-nussbaumer-knaflic.pdf'\n",
    "split(path, './data/jupyter_page')"
   ]
  },
  {
   "cell_type": "markdown",
   "metadata": {},
   "source": [
    "## 8.79 easyOCR"
   ]
  },
  {
   "cell_type": "code",
   "execution_count": null,
   "metadata": {},
   "outputs": [],
   "source": []
  },
  {
   "cell_type": "code",
   "execution_count": 110,
   "metadata": {},
   "outputs": [
    {
     "name": "stderr",
     "output_type": "stream",
     "text": [
      "CUDA not available - defaulting to CPU. Note: This module is much faster with a GPU.\n"
     ]
    }
   ],
   "source": [
    "import easyocr\n",
    "reader = easyocr.Reader(['ch_sim','en']) # need to run only once to load model into memory\n",
    "result = reader.readtext('./data/example2.png')"
   ]
  },
  {
   "cell_type": "code",
   "execution_count": 114,
   "metadata": {},
   "outputs": [
    {
     "data": {
      "text/plain": [
       "<matplotlib.image.AxesImage at 0x7f3f2822ffd0>"
      ]
     },
     "execution_count": 114,
     "metadata": {},
     "output_type": "execute_result"
    },
    {
     "data": {
      "image/png": "[encoded data removed]",
      "text/plain": [
       "<Figure size 432x288 with 1 Axes>"
      ]
     },
     "metadata": {
      "needs_background": "light"
     },
     "output_type": "display_data"
    }
   ],
   "source": [
    "import matplotlib.pyplot as plt\n",
    "import matplotlib.image as mpimg \n",
    "plt.imshow(mpimg.imread('./data/example2.png'))"
   ]
  },
  {
   "cell_type": "code",
   "execution_count": 111,
   "metadata": {},
   "outputs": [
    {
     "data": {
      "text/plain": [
       "[([[380, 14], [812, 14], [812, 40], [380, 40]],\n",
       "  \"[([[189, 75], [469, 75], [469, 165], [189, 165]],'愚园路'\",\n",
       "  0.002910847309976816),\n",
       " ([[819, 17], [1007, 17], [1007, 37], [819, 37]],\n",
       "  '0.3754989504814148),',\n",
       "  0.2510387897491455),\n",
       " ([[386, 40], [730, 40], [730, 64], [386, 64]],\n",
       "  '([[86, 80], [134, 80], [134, 128], [86, 128]],',\n",
       "  0.07421829551458359),\n",
       " ([[767, 41], [967, 41], [967, 61], [767, 61]],\n",
       "  '0.40452659130096436),',\n",
       "  0.33180123567581177),\n",
       " ([[104, 42], [264, 42], [264, 92], [104, 92]], '愚园路', 0.7537217140197754),\n",
       " ([[294, 46], [320, 46], [320, 72], [294, 72]], '|', 0.04481464624404907),\n",
       " ([[51, 47], [73, 47], [73, 67], [51, 67]], '西', 0.2998722791671753),\n",
       " ([[386, 64], [750, 64], [750, 88], [386, 88]],\n",
       "  '([[517, 81], [565, 81], [565, 123], [517, 123]],',\n",
       "  0.0658586174249649),\n",
       " ([[757, 65], [779, 65], [779, 85], [757, 85]], \"东'\", 0.980998158454895),\n",
       " ([[787, 65], [973, 65], [973, 85], [787, 85]],\n",
       "  '0.9989598989486694)',\n",
       "  0.17584623396396637),\n",
       " ([[291, 71], [325, 71], [325, 89], [291, 89]], 'SU9', 0.43675675988197327),\n",
       " ([[45, 73], [77, 73], [77, 87], [45, 87]], '91', 0.026881210505962372),\n",
       " ([[387, 85], [749, 85], [749, 105], [387, 105]],\n",
       "  '([[78, 126], [136, 126], [136, 156], [78, 156]],',\n",
       "  0.01961907558143139),\n",
       " ([[757, 85], [987, 85], [987, 105], [757, 105]],\n",
       "  \"315', 0.8125889301300049)\",\n",
       "  0.24038727581501007),\n",
       " ([[300, 98], [322, 98], [322, 122], [300, 122]], 'E', 0.357450395822525),\n",
       " ([[45, 99], [71, 99], [71, 119], [45, 119]], 'W', 0.5073295831680298),\n",
       " ([[133, 99], [231, 99], [231, 119], [133, 119]],\n",
       "  'Yuyuan Rd',\n",
       "  0.546579897403717),\n",
       " ([[386, 100], [771, 100], [771, 127], [386, 127]],\n",
       "  '.[[514, 126], [574, 126], [574, 156], [514, 156]],',\n",
       "  0.016370829194784164),\n",
       " ([[777, 103], [1011, 103], [1011, 123], [777, 123]],\n",
       "  \"309', 0.4971577227115631),\",\n",
       "  0.22374780476093292),\n",
       " ([[386, 118], [866, 118], [866, 147], [386, 147]],\n",
       "  \"([[226, 170], [414, 170], [414, 220], [226, 220]],'Yuyuan Rd.\",\n",
       "  0.00048244683421216905),\n",
       " ([[879, 123], [1065, 123], [1065, 143], [879, 143]],\n",
       "  '0.8261902332305908)',\n",
       "  0.24794557690620422),\n",
       " ([[386, 138], [750, 138], [750, 164], [386, 164]],\n",
       "  '[[[79, 173], [125, 173], [125, 213], [79, 213]],',\n",
       "  0.046026695519685745),\n",
       " ([[755, 140], [977, 140], [977, 161], [755, 161]],\n",
       "  \"'[/', 0.9848111271858215),\",\n",
       "  0.07078561186790466),\n",
       " ([[777, 160], [993, 160], [993, 181], [777, 181]],\n",
       "  \"E', 0.8405593633651733)]\",\n",
       "  0.25223904848098755),\n",
       " ([[387, 161], [769, 161], [769, 181], [387, 181]],\n",
       "  '([[529, 173], [569, 173], [569, 213], [529, 213]],',\n",
       "  0.005077173467725515),\n",
       " ([[687, 213], [781, 213], [781, 253], [687, 253]],\n",
       "  '[95158}5]1,',\n",
       "  0.007968834601342678),\n",
       " ([[775, 215], [867, 215], [867, 235], [775, 235]],\n",
       "  '术<拮乙禁止!',\n",
       "  0.07639046013355255),\n",
       " ([[887, 215], [1045, 215], [1045, 235], [887, 235]],\n",
       "  '0.6339447498321533)',\n",
       "  0.6303977370262146),\n",
       " ([[381, 217], [433, 217], [433, 237], [381, 237]],\n",
       "  '[([[71',\n",
       "  0.39373189210891724),\n",
       " ([[625, 217], [667, 217], [667, 235], [625, 235]],\n",
       "  '159],',\n",
       "  0.6738587617874146),\n",
       " ([[37, 217], [261, 217], [261, 279], [37, 279]],\n",
       "  '术1拾乙禁止!',\n",
       "  0.06579246371984482),\n",
       " ([[445, 219], [475, 219], [475, 235], [445, 235]], '49]', 0.8365363478660583),\n",
       " ([[487, 219], [523, 219], [523, 235], [487, 235]],\n",
       "  '[489',\n",
       "  0.3480387032032013),\n",
       " ([[535, 219], [563, 219], [563, 235], [535, 235]], '49]', 0.9659630656242371),\n",
       " ([[577, 219], [613, 219], [613, 235], [577, 235]],\n",
       "  '[489',\n",
       "  0.6903069019317627),\n",
       " ([[673, 219], [707, 219], [707, 235], [673, 235]], '[71,', 0.926660418510437),\n",
       " ([[387, 231], [433, 231], [433, 251], [387, 251]],\n",
       "  '( [[95',\n",
       "  0.23776938021183014),\n",
       " ([[443, 231], [481, 231], [481, 251], [443, 251]], '149]', 0.768191933631897),\n",
       " ([[493, 231], [531, 231], [531, 251], [493, 251]],\n",
       "  '[461',\n",
       "  0.9644661545753479),\n",
       " ([[543, 233], [585, 233], [585, 251], [543, 251]],\n",
       "  '149],',\n",
       "  0.7168200016021729),\n",
       " ([[593, 233], [683, 233], [683, 251], [593, 251]],\n",
       "  '[461,235],',\n",
       "  0.5822984576225281),\n",
       " ([[405, 249], [475, 249], [475, 265], [405, 265]],\n",
       "  'NOLITTER',\n",
       "  0.6389492750167847),\n",
       " ([[396, 260], [564, 260], [564, 284], [396, 284]],\n",
       "  '0.32493865489959717)',\n",
       "  0.6653786301612854),\n",
       " ([[46, 268], [244, 268], [244, 317], [46, 317]],\n",
       "  'MUIU',\n",
       "  0.009220634587109089),\n",
       " ([[540, 272], [586, 272], [586, 300], [540, 300]],\n",
       "  '232],',\n",
       "  0.7501339912414551),\n",
       " ([[430, 275], [543, 275], [543, 318], [430, 318]],\n",
       "  'c舐公充',\n",
       "  8.953142241807655e-06),\n",
       " ([[493, 279], [531, 279], [531, 299], [493, 299]],\n",
       "  '[475',\n",
       "  0.9130207300186157),\n",
       " ([[407, 281], [435, 281], [435, 297], [407, 297]], '[80', 0.4513359069824219),\n",
       " ([[593, 281], [635, 281], [635, 299], [593, 299]],\n",
       "  '[475,',\n",
       "  0.8989149332046509),\n",
       " ([[641, 281], [683, 281], [683, 299], [641, 299]],\n",
       "  '2BB],',\n",
       "  0.7792040705680847),\n",
       " ([[691, 281], [719, 281], [719, 299], [691, 299]], '[B0', 0.2945927083492279),\n",
       " ([[729, 281], [775, 281], [775, 299], [729, 299]],\n",
       "  '288]1',\n",
       "  0.5239568948745728),\n",
       " ([[405, 295], [437, 295], [437, 315], [405, 315]], '清漯', 0.08485529571771622),\n",
       " ([[413, 313], [547, 313], [547, 329], [413, 329]],\n",
       "  '9784268140792847',\n",
       "  0.7787688374519348),\n",
       " ([[44, 314], [252, 314], [252, 342], [44, 342]],\n",
       "  \"清槊乙芑札'书港区态\",\n",
       "  3.046721212740522e-05),\n",
       " ([[502, 317], [595, 317], [595, 348], [502, 348]],\n",
       "  '[437,`289],',\n",
       "  0.1265636533498764),\n",
       " ([[399, 329], [443, 329], [443, 345], [399, 345]],\n",
       "  '[[109',\n",
       "  0.25757285952568054),\n",
       " ([[453, 329], [491, 329], [491, 345], [453, 345]], '289]', 0.580631673336029),\n",
       " ([[601, 329], [643, 329], [643, 345], [601, 345]],\n",
       "  '[437,',\n",
       "  0.9089839458465576),\n",
       " ([[649, 329], [691, 329], [691, 345], [649, 345]],\n",
       "  '333],',\n",
       "  0.9031970500946045),\n",
       " ([[699, 329], [739, 329], [739, 345], [699, 345]],\n",
       "  '[ID9,',\n",
       "  0.5642396211624146),\n",
       " ([[745, 329], [797, 329], [797, 345], [745, 345]],\n",
       "  '333]],',\n",
       "  0.5877938866615295),\n",
       " ([[403, 341], [543, 341], [543, 361], [403, 361]],\n",
       "  '港区 MINAT0 CITV',\n",
       "  0.29978397488594055),\n",
       " ([[61, 345], [231, 345], [231, 365], [61, 365]],\n",
       "  '老区 MINATO CITY',\n",
       "  0.4260583221912384),\n",
       " ([[396, 352], [570, 352], [570, 378], [396, 378]],\n",
       "  '0.18788912892341614)]',\n",
       "  0.6916281580924988),\n",
       " ([[440, 390], [490, 390], [490, 444], [440, 444]],\n",
       "  '冤:',\n",
       "  0.033067427575588226),\n",
       " ([[483, 393], [517, 393], [517, 411], [483, 411]],\n",
       "  '[292',\n",
       "  0.9084492921829224),\n",
       " ([[753, 393], [781, 393], [781, 413], [753, 413]], ')', 0.059507276862859726),\n",
       " ([[527, 395], [555, 395], [555, 411], [527, 411]], '79]', 0.9156625270843506),\n",
       " ([[567, 395], [597, 395], [597, 411], [567, 411]],\n",
       "  '[292',\n",
       "  0.7487650513648987),\n",
       " ([[609, 395], [643, 395], [643, 411], [609, 411]],\n",
       "  '183]',\n",
       "  0.9084547758102417),\n",
       " ([[653, 395], [687, 395], [687, 411], [653, 411]],\n",
       "  '[129',\n",
       "  0.40356653928756714),\n",
       " ([[697, 395], [737, 395], [737, 411], [697, 411]],\n",
       "  '183]]',\n",
       "  0.8291635513305664),\n",
       " ([[815, 395], [943, 395], [943, 411], [815, 411]],\n",
       "  '9718757271766663)',\n",
       "  0.8621279001235962),\n",
       " ([[531, 399], [579, 399], [579, 443], [531, 443]],\n",
       "  'm}:',\n",
       "  0.02875012531876564),\n",
       " ([[707, 399], [763, 399], [763, 443], [707, 443]],\n",
       "  'l}:',\n",
       "  0.009895066730678082),\n",
       " ([[828, 402], [964, 402], [964, 426], [828, 426]],\n",
       "  '9701956510543823),',\n",
       "  0.5998920798301697),\n",
       " ([[767, 405], [797, 405], [797, 425], [767, 425]],\n",
       "  '峦&',\n",
       "  0.017758438363671303),\n",
       " ([[619, 405], [665, 405], [665, 443], [619, 443]],\n",
       "  '弼;',\n",
       "  0.013118792325258255),\n",
       " ([[491, 407], [525, 407], [525, 425], [491, 425]], '[531', 0.803646445274353),\n",
       " ([[405, 409], [437, 409], [437, 425], [405, 425]],\n",
       "  '[368',\n",
       "  0.9110123515129089),\n",
       " ([[581, 409], [613, 409], [613, 425], [581, 425]], '[531', 0.671067476272583),\n",
       " ([[669, 409], [701, 409], [701, 425], [669, 425]],\n",
       "  '[368',\n",
       "  0.7835935950279236),\n",
       " ([[399, 423], [437, 423], [437, 439], [399, 439]],\n",
       "  '[[159',\n",
       "  0.33108922839164734),\n",
       " ([[493, 423], [525, 423], [525, 439], [493, 439]],\n",
       "  '[258',\n",
       "  0.9460128545761108),\n",
       " ([[581, 423], [617, 423], [617, 439], [581, 439]],\n",
       "  '[258,',\n",
       "  0.786887526512146),\n",
       " ([[669, 423], [701, 423], [701, 439], [669, 439]],\n",
       "  '[159',\n",
       "  0.7043043375015259),\n",
       " ([[403, 439], [443, 439], [443, 453], [403, 453]],\n",
       "  'Seoul',\n",
       "  0.7974706888198853),\n",
       " ([[67, 443], [135, 443], [135, 487], [67, 487]], '刈昌', 0.4564519226551056),\n",
       " ([[409, 447], [537, 447], [537, 467], [409, 467]],\n",
       "  '8239474892616272)',\n",
       "  0.5703378915786743),\n",
       " ([[181, 455], [203, 455], [203, 475], [181, 475]], '匹', 0.23215210437774658),\n",
       " ([[530, 455], [577, 455], [577, 485], [530, 485]],\n",
       "  '189],',\n",
       "  0.8418121933937073),\n",
       " ([[215, 455], [251, 455], [251, 495], [215, 495]], '&', 0.49266043305397034),\n",
       " ([[391, 465], [441, 465], [441, 481], [391, 481]],\n",
       "  '1[ [342,',\n",
       "  0.14935453236103058),\n",
       " ([[447, 467], [481, 467], [481, 483], [447, 483]],\n",
       "  '189]',\n",
       "  0.7121582627296448),\n",
       " ([[491, 467], [525, 467], [525, 483], [491, 483]],\n",
       "  '[539',\n",
       "  0.6444311141967773),\n",
       " ([[581, 467], [663, 467], [663, 483], [581, 483]],\n",
       "  '[539, 262],',\n",
       "  0.10555583238601685),\n",
       " ([[669, 467], [757, 467], [757, 483], [669, 483]],\n",
       "  '[342,262]1,',\n",
       "  0.18536242842674255),\n",
       " ([[402, 480], [479, 480], [479, 498], [402, 498]],\n",
       "  'Pyeonqyang',\n",
       "  0.47484615445137024),\n",
       " ([[76, 486], [122, 486], [122, 510], [76, 510]],\n",
       "  'Seoul',\n",
       "  0.21898888051509857),\n",
       " ([[162, 492], [253, 492], [253, 525], [162, 525]],\n",
       "  'Pyeongyang',\n",
       "  0.3118493854999542),\n",
       " ([[409, 495], [539, 495], [539, 511], [409, 511]],\n",
       "  '3528004288673401)',\n",
       "  0.7439836263656616),\n",
       " ([[492, 498], [576, 498], [576, 526], [492, 526]],\n",
       "  '[289,`276],',\n",
       "  0.12307588011026382),\n",
       " ([[391, 509], [437, 509], [437, 525], [391, 525]],\n",
       "  '|[[186',\n",
       "  0.1383131593465805),\n",
       " ([[447, 509], [485, 509], [485, 525], [447, 525]],\n",
       "  '276],',\n",
       "  0.7623541951179504),\n",
       " ([[581, 509], [663, 509], [663, 525], [581, 525]],\n",
       "  '[289 ,333],',\n",
       "  0.24469181895256042),\n",
       " ([[669, 509], [753, 509], [753, 525], [669, 525]],\n",
       "  '[186,33311',\n",
       "  0.2992643117904663),\n",
       " ([[403, 523], [437, 523], [437, 539], [403, 539]],\n",
       "  'SGKm',\n",
       "  0.8131376504898071),\n",
       " ([[90, 532], [136, 532], [136, 558], [90, 558]], 'Bokm', 0.116298608481884),\n",
       " ([[160, 535], [219, 535], [219, 564], [160, 564]],\n",
       "  'ZoSK',\n",
       "  0.20789572596549988),\n",
       " ([[411, 536], [539, 536], [539, 552], [411, 552]],\n",
       "  '6299744844436646)',\n",
       "  0.43911921977996826),\n",
       " ([[489, 541], [620, 541], [620, 571], [489, 571]],\n",
       "  '[461, 288],  [461,',\n",
       "  0.028845785185694695),\n",
       " ([[390, 549], [443, 549], [443, 569], [390, 569]],\n",
       "  '([[344,',\n",
       "  0.33475640416145325),\n",
       " ([[447, 553], [479, 553], [479, 567], [447, 567]],\n",
       "  '288]',\n",
       "  0.9490459561347961),\n",
       " ([[623, 553], [663, 553], [663, 567], [623, 567]],\n",
       "  '344],',\n",
       "  0.8855074644088745),\n",
       " ([[669, 553], [757, 553], [757, 569], [669, 569]],\n",
       "  '[344,344]],',\n",
       "  0.26084524393081665),\n",
       " ([[403, 567], [445, 567], [445, 581], [403, 581]],\n",
       "  '20SKD',\n",
       "  0.04213685169816017),\n",
       " ([[409, 575], [537, 575], [537, 595], [409, 595]],\n",
       "  '3810771405696869 )',\n",
       "  0.2614212930202484)]"
      ]
     },
     "execution_count": 111,
     "metadata": {},
     "output_type": "execute_result"
    }
   ],
   "source": [
    "result"
   ]
  },
  {
   "cell_type": "code",
   "execution_count": 116,
   "metadata": {},
   "outputs": [
    {
     "data": {
      "text/plain": [
       "<matplotlib.image.AxesImage at 0x7f3f28197fd0>"
      ]
     },
     "execution_count": 116,
     "metadata": {},
     "output_type": "execute_result"
    },
    {
     "data": {
      "image/png": "[encoded data removed]",
      "text/plain": [
       "<Figure size 432x288 with 1 Axes>"
      ]
     },
     "metadata": {
      "needs_background": "light"
     },
     "output_type": "display_data"
    }
   ],
   "source": [
    "result = reader.readtext('./data/test2.png')\n",
    "plt.imshow(mpimg.imread('./data/test2.png'))"
   ]
  },
  {
   "cell_type": "code",
   "execution_count": 117,
   "metadata": {},
   "outputs": [
    {
     "data": {
      "text/plain": [
       "[([[5, 5], [85, 5], [85, 23], [5, 23]], 'nEw pici', 0.1192731261253357),\n",
       " ([[114, 5], [207, 5], [207, 25], [114, 25]], 'rearrange', 0.9170975089073181),\n",
       " ([[293, 5], [345, 5], [345, 23], [293, 23]], 'pici)', 0.8864076733589172),\n",
       " ([[202.65465441200737, 6.520119853208112],\n",
       "   [254.82601742123165, 2.1841198756198983],\n",
       "   [256.3453455879926, 20.47988014679189],\n",
       "   [204.17398257876835, 24.8158801243801]],\n",
       "  '_pic',\n",
       "  0.1871252804994583),\n",
       " ([[257, 7], [287, 7], [287, 23], [257, 23]], '(IP', 0.2931778132915497),\n",
       " ([[22, 38], [128, 38], [128, 62], [22, 62]], '明细df建立', 0.30060186982154846),\n",
       " ([[5, 63], [29, 63], [29, 79], [5, 79]], 'cf', 0.1314825862646103),\n",
       " ([[35, 63], [137, 63], [137, 79], [35, 79]],\n",
       "  'keliu list',\n",
       "  0.26256853342056274),\n",
       " ([[195, 63], [307, 63], [307, 79], [195, 79]],\n",
       "  'Datarrame({',\n",
       "  0.18860313296318054),\n",
       " ([[160.65465441200737, 64.52011985320812],\n",
       "   [188.54192350325417, 60.72623710600742],\n",
       "   [190.34534558799263, 78.47988014679188],\n",
       "   [162.45807649674583, 82.27376289399258]],\n",
       "  'pa',\n",
       "  0.39830294251441956),\n",
       " ([[51, 79], [117, 79], [117, 99], [51, 99]], \"批次':\", 0.6870808601379395),\n",
       " ([[160.71963120067105, 81.46355744080525],\n",
       "   [206.76232053612713, 77.05436459037081],\n",
       "   [208.28036879932895, 96.53644255919475],\n",
       "   [162.23767946387287, 100.94563540962919]],\n",
       "  'pici',\n",
       "  0.8002915382385254),\n",
       " ([[123, 85], [157, 85], [157, 97], [123, 97]], 'ILETT', 0.07521018385887146),\n",
       " ([[53, 97], [119, 97], [119, 117], [53, 117]], '门店id', 0.6525332927703857),\n",
       " ([[203, 99], [231, 99], [231, 117], [203, 117]], 'id', 0.7558922171592712),\n",
       " ([[145, 103], [197, 103], [197, 117], [145, 117]],\n",
       "  'store',\n",
       "  0.8874160051345825),\n",
       " ([[51, 112], [138, 112], [138, 139], [51, 139]], '门店代码', 0.9711890816688538),\n",
       " ([[164, 119], [217, 119], [217, 137], [164, 137]],\n",
       "  'store',\n",
       "  0.9910303354263306),\n",
       " ([[225, 121], [269, 121], [269, 135], [225, 135]],\n",
       "  'code',\n",
       "  0.7717627286911011),\n",
       " ([[53, 135], [139, 135], [139, 155], [53, 155]], '门店名称', 0.49262717366218567),\n",
       " ([[165, 141], [217, 141], [217, 155], [165, 155]],\n",
       "  'store',\n",
       "  0.8874160051345825),\n",
       " ([[223, 141], [267, 141], [267, 155], [223, 155]],\n",
       "  'nale',\n",
       "  0.8089656233787537),\n",
       " ([[52, 152], [138, 152], [138, 176], [52, 176]], '门店区域', 0.9503307938575745),\n",
       " ([[165, 159], [217, 159], [217, 173], [165, 173]],\n",
       "  'store',\n",
       "  0.9328988194465637),\n",
       " ([[223, 159], [267, 159], [267, 175], [223, 175]],\n",
       "  'area',\n",
       "  0.9973007440567017),\n",
       " ([[55, 173], [125, 173], [125, 193], [55, 193]],\n",
       "  '顾吝ID`',\n",
       "  0.10487436503171921),\n",
       " ([[175, 175], [379, 175], [379, 193], [175, 193]],\n",
       "  'keliu list[`顾FID`]',\n",
       "  0.0009945620549842715),\n",
       " ([[145, 177], [169, 177], [169, 193], [145, 193]], 'cf', 0.1314825862646103),\n",
       " ([[52, 190], [138, 190], [138, 214], [52, 214]], '识别日期', 0.8359236717224121),\n",
       " ([[165, 193], [419, 193], [419, 213], [165, 213]],\n",
       "  \"dE keliu Iist[`识别日期']\",\n",
       "  0.011339519172906876),\n",
       " ([[204, 210], [502, 210], [502, 234], [204, 234]],\n",
       "  \"df keliu_Iist['入口识别时间'],\",\n",
       "  0.018247010186314583),\n",
       " ([[51, 211], [185, 211], [185, 231], [51, 231]],\n",
       "  \"入口识别时间'\",\n",
       "  0.7590727806091309),\n",
       " ([[52, 228], [140, 228], [140, 252], [52, 252]], '滞店时长', 0.9534919261932373),\n",
       " ([[194, 228], [420, 228], [420, 253], [194, 253]],\n",
       "  \"keliu_Iist[`滞店时长']\",\n",
       "  0.19202108681201935),\n",
       " ([[163, 231], [187, 231], [187, 249], [163, 249]], 'df', 0.8843938112258911),\n",
       " ([[53, 249], [141, 249], [141, 269], [53, 269]], '到店次数', 0.6168705224990845),\n",
       " ([[195, 249], [417, 249], [417, 269], [195, 269]],\n",
       "  \"keliu List[`到店次数']\",\n",
       "  0.0494178868830204),\n",
       " ([[163, 251], [187, 251], [187, 269], [163, 269]], 'df', 0.7251337170600891),\n",
       " ([[54, 266], [110, 266], [110, 290], [54, 290]], \"图斤'\", 0.7313571572303772),\n",
       " ([[144, 286], [326, 286], [326, 310], [144, 310]],\n",
       "  \"keliu_Iist['图片']\",\n",
       "  0.09095516800880432),\n",
       " ([[113, 289], [137, 289], [137, 307], [113, 307]], 'df', 0.6782004833221436),\n",
       " ([[53, 291], [87, 291], [87, 307], [53, 307]], 'ULI', 0.6859984397888184)]"
      ]
     },
     "execution_count": 117,
     "metadata": {},
     "output_type": "execute_result"
    }
   ],
   "source": [
    "result"
   ]
  },
  {
   "cell_type": "markdown",
   "metadata": {},
   "source": [
    "## 8.80 faker"
   ]
  },
  {
   "cell_type": "code",
   "execution_count": 103,
   "metadata": {},
   "outputs": [
    {
     "data": {
      "text/plain": [
       "'Age drive lawyer too no while section. If begin hand good. Prevent husband commercial get.\\nSeek power guess indicate phone. Crime this husband generation table community.'"
      ]
     },
     "execution_count": 103,
     "metadata": {},
     "output_type": "execute_result"
    }
   ],
   "source": [
    "from faker import Faker\n",
    "fake = Faker()\n",
    "\n",
    "fake.name()\n",
    "# 'Lucy Cechtelar'\n",
    "\n",
    "fake.address()\n",
    "# '426 Jordy Lodge\n",
    "#  Cartwrightshire, SC 88120-6700'\n",
    "\n",
    "fake.text()"
   ]
  },
  {
   "cell_type": "code",
   "execution_count": 104,
   "metadata": {},
   "outputs": [
    {
     "name": "stdout",
     "output_type": "stream",
     "text": [
      "Lauren Johnson\n",
      "William Hunt\n",
      "Shannon Garcia\n",
      "Daniel Byrd\n",
      "Sara Benitez\n",
      "Debra Ochoa\n",
      "Joseph Bryant\n",
      "Glen Reed\n",
      "Daniel Gonzalez\n",
      "Todd Allen\n"
     ]
    }
   ],
   "source": [
    "for _ in range(10):\n",
    "    print(fake.name())\n"
   ]
  },
  {
   "cell_type": "code",
   "execution_count": 105,
   "metadata": {},
   "outputs": [
    {
     "name": "stdout",
     "output_type": "stream",
     "text": [
      "192.168.146.217\n"
     ]
    }
   ],
   "source": [
    "from faker import Faker\n",
    "from faker.providers import internet\n",
    "\n",
    "fake = Faker()\n",
    "fake.add_provider(internet)\n",
    "\n",
    "print(fake.ipv4_private())"
   ]
  },
  {
   "cell_type": "code",
   "execution_count": 107,
   "metadata": {},
   "outputs": [
    {
     "name": "stdout",
     "output_type": "stream",
     "text": [
      "Raymond Aguilar\n",
      "崔慧\n",
      "Vincent Serrano\n",
      "王建军\n",
      "杨冬梅\n",
      "Stephanie Farley\n",
      "Carrie Rivera\n",
      "村山 涼平\n",
      "Kevin Parks\n",
      "John Simpson\n"
     ]
    }
   ],
   "source": [
    "from faker import Faker\n",
    "fake = Faker(['zh_CN', 'en_US', 'ja_JP'])\n",
    "for _ in range(10):\n",
    "    print(fake.name())"
   ]
  }
 ],
 "metadata": {
  "kernelspec": {
   "display_name": "Python 3",
   "language": "python",
   "name": "python3"
  },
  "language_info": {
   "codemirror_mode": {
    "name": "ipython",
    "version": 3
   },
   "file_extension": ".py",
   "mimetype": "text/x-python",
   "name": "python",
   "nbconvert_exporter": "python",
   "pygments_lexer": "ipython3",
   "version": "3.7.0"
  }
 },
 "nbformat": 4,
 "nbformat_minor": 4
}
