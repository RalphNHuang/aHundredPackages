{
 "cells": [
  {
   "cell_type": "markdown",
   "metadata": {},
   "source": [
    "# Module11~20\n",
    "## 20200817-20200822\n",
    "\n",
    "1. requests\n",
    "1. uncurl\n",
    "1. json\n",
    "1. hashlib\n",
    "1. hmac\n",
    "1. bs4\n",
    "1. selenium\n",
    "1. webbrowser \n",
    "1. http\n",
    "1. numpy  "
   ]
  },
  {
   "cell_type": "markdown",
   "metadata": {},
   "source": [
    "---\n",
    "## 2.11 requests\n",
    "requests为基本网络交互工具\n",
    "类似的库还有：`httplib` `urllib` `urllib2`\n",
    "常用功能：`requests.get`, `requests.post`"
   ]
  },
  {
   "cell_type": "code",
   "execution_count": 1,
   "metadata": {},
   "outputs": [
    {
     "name": "stdout",
     "output_type": "stream",
     "text": [
      "418\n",
      "\n",
      "\n",
      "<!DOCTYPE html>\n",
      "<html lang=\"zh-CN\" class=\"ua-windows ua-webkit book-new-nav\">\n",
      "  <head>\n",
      "    <meta charset=\"utf-8\">\n",
      "    <meta name=\"google-site-verification\" content=\"ok0wCgT20tBBgo9_zat2iAcimtN4Ftf5ccsh092Xeyw\" />\n",
      "    <meta http-equiv=\"Pragma\" content=\"no-cache\">\n",
      "    <meta http-equiv=\"X-UA-Compatible\" content=\"IE=edge,chrome=1\">\n",
      "    <meta http-equiv=\"Expires\" content=\"Sun, 6 Mar 2005 01:00:00 GMT\">\n",
      "    \n",
      "  <meta http-equiv=\"mobile-agent\" content=\"format=xhtml; url=https://m.douban.com/book/\">\n",
      "  <meta name=\"keywords\" content=\"豆瓣读书,新书速递,畅销书,书评,书单\"/>\n",
      "  <meta name=\"description\" content=\"记录你读过的、想读和正在读的书，顺便打分，添加标签及个人附注，写评论。根据你的口味，推荐适合的书给你。\" />\n",
      "  <meta name=\"verify-v1\" content=\"EYARGSAVd5U+06FeTmxO8Mj28Fc/hM/9PqMfrlMo8YA=\">\n",
      "  <meta property=\"wb:webmaster\" content=\"7c86191e898cd20d\">\n",
      "  <meta property=\"qc:admins\" content=\"1520412177364752166375\">\n",
      "\n",
      "    <title>\n",
      "    豆瓣读书\n",
      "</title>\n",
      "    <link rel=\"shortcut icon\" href=\"https://img3.doubanio.com/favicon.ico\"\n",
      "      type=\"image/x-icon\">\n",
      "    <script src=\"\n"
     ]
    }
   ],
   "source": [
    "import requests\n",
    "\n",
    "headers = {\n",
    "        \"Accept\": \"text/html,application/xhtml+xml,application/xml;q=0.9,image/webp,image/apng,*/*;q=0.8,application/signed-exchange;v=b3\",\n",
    "        \"Accept-Language\": \"en-US,en;q=0.9,zh-CN;q=0.8,zh;q=0.7\",\n",
    "        \"Cache-Control\": \"max-age=0\",\n",
    "        \"Connection\": \"keep-alive\",\n",
    "        \"Upgrade-Insecure-Requests\": \"1\",\n",
    "        \"User-Agent\": \"Mozilla/5.0 (Windows NT 10.0; Win64; x64) AppleWebKit/537.36 (KHTML, like Gecko) Chrome/74.0.3729.108 Safari/537.36\"\n",
    "    }\n",
    "\n",
    "\n",
    "\n",
    "doc = requests.get(\"https://book.douban.com/\"\n",
    ")\n",
    "\n",
    "print(doc.status_code)\n",
    "\n",
    "\n",
    "doc = requests.get(\"https://book.douban.com/\",\n",
    "    headers=headers\n",
    ")\n",
    "\n",
    "print(doc.text[0:1000])\n",
    "\n"
   ]
  },
  {
   "cell_type": "code",
   "execution_count": 2,
   "metadata": {},
   "outputs": [
    {
     "name": "stdout",
     "output_type": "stream",
     "text": [
      "<!DOCTYPE html><!--STATUS OK-->\n",
      "\n",
      "\n",
      "    <html><head><meta http-equiv=\"Content-Type\" content=\"text/html;charset=utf-8\"><meta http-equiv=\"X-UA-Compatible\" content=\"IE=edge,chrome=1\"><meta content=\"always\" name=\"referrer\"><meta name=\"theme-color\" content=\"#2932e1\"><meta name=\"description\" content=\"全球最大的中文搜索引擎、致力于让网民更便捷地获取信息，找到所求。百度超过千亿的中文网页数据库，可以瞬间找到相关的搜索结果。\"><link rel=\"shortcut icon\" href=\"/favicon.ico\" type=\"image/x-icon\" /><link rel=\"search\" type=\"application/opensearchdescription+xml\" href=\"/content-search.xml\" title=\"百度搜索\" /><link rel=\"icon\" sizes=\"any\" mask href=\"//www.baidu.com/img/baidu_85beaf5496f291521eb75ba38eacbd87.svg\"><link rel=\"dns-prefetch\" href=\"//dss0.bdstatic.com\"/><link rel=\"dns-prefetch\" href=\"//dss1.bdstatic.com\"/><link rel=\"dns-prefetch\" href=\"//ss1.bdstatic.com\"/><link rel=\"dns-prefetch\" href=\"//sp0.baidu.com\"/><link rel=\"dns-prefetch\" href=\"//sp1.baidu.com\"/><link rel=\"dns-prefetch\" href=\"//sp2.baidu.com\"/><title>百度一下，你就知道</title><style index=\"newi\" type=\"text/css\">\n"
     ]
    }
   ],
   "source": [
    "import requests\n",
    "\n",
    "doc = requests.get(\"https://baidu.com/\",\n",
    "    headers={\n",
    "        \"Accept\": \"text/html,application/xhtml+xml,application/xml;q=0.9,image/webp,image/apng,*/*;q=0.8,application/signed-exchange;v=b3\",\n",
    "        \"Accept-Encoding\": \"gzip, deflate, br\",\n",
    "        \"Accept-Language\": \"en-US,en;q=0.9,zh-CN;q=0.8,zh;q=0.7\",\n",
    "        \"Cache-Control\": \"max-age=0\",\n",
    "        \"Connection\": \"keep-alive\",\n",
    "        \"Upgrade-Insecure-Requests\": \"1\",\n",
    "        \"User-Agent\": \"Mozilla/5.0 (Windows NT 10.0; Win64; x64) AppleWebKit/537.36 (KHTML, like Gecko) Chrome/74.0.3729.108 Safari/537.36\"\n",
    "    }\n",
    ")\n",
    "\n",
    "print(doc.text[0:1000])\n"
   ]
  },
  {
   "cell_type": "markdown",
   "metadata": {},
   "source": [
    "---\n",
    "## 2.12 uncurl\n",
    "uncurl 可以把curl命令转化为Python代码（requests模块）\n",
    "常用功能：`uncurl.parse`"
   ]
  },
  {
   "cell_type": "code",
   "execution_count": 3,
   "metadata": {},
   "outputs": [
    {
     "name": "stdout",
     "output_type": "stream",
     "text": [
      "requests.get(\"https://book.douban.com/\",\n",
      "    headers={\n",
      "        \"Accept\": \"text/html,application/xhtml+xml,application/xml;q=0.9,image/webp,image/apng,*/*;q=0.8,application/signed-exchange;v=b3\",\n",
      "        \"Accept-Encoding\": \"gzip, deflate, br\",\n",
      "        \"Accept-Language\": \"en-US,en;q=0.9,zh-CN;q=0.8,zh;q=0.7\",\n",
      "        \"Cache-Control\": \"max-age=0\",\n",
      "        \"Connection\": \"keep-alive\",\n",
      "        \"Upgrade-Insecure-Requests\": \"1\",\n",
      "        \"User-Agent\": \"Mozilla/5.0 (Windows NT 10.0; Win64; x64) AppleWebKit/537.36 (KHTML, like Gecko) Chrome/74.0.3729.108 Safari/537.36\"\n",
      "    },\n",
      "    cookies={\n",
      "        \"__gads\": \"ID=d58b0f34a8171fd4:T=1597718756:S=ALNI_Macl5IVxm1PB6riU1O3-jQnnauA9w\",\n",
      "        \"__utma\": \"81379588.1954925261.1597718746.1597718746.1597718746.1\",\n",
      "        \"__utmb\": \"81379588.1.10.1597718746\",\n",
      "        \"__utmc\": \"81379588\",\n",
      "        \"__utmt\": \"1\",\n",
      "        \"__utmt_douban\": \"1\",\n",
      "        \"__utmz\": \"81379588.1597718746.1.1.utmcsr=baidu|utmccn=(organic)|utmcmd=organic\",\n",
      "        \"_pk_id.100001.3ac3\": \"efee8f6ae4fc8b5a.1597718749.1.1597718749.1597718749.\",\n",
      "        \"_pk_ref.100001.3ac3\": \"%5B%22%22%2C%22%22%2C1597718749%2C%22https%3A%2F%2Fwww.baidu.com%2Flink%3Furl%3DoHPx3751eMnMMm9iyzClcWNftUTdteNuLxAvJT44ercxLjTtvYRm_9CJ6prWVvlg%26wd%3D%26eqid%3Df3052594001d7586000000065f3b40c0%22%5D\",\n",
      "        \"_pk_ses.100001.3ac3\": \"*\",\n",
      "        \"_vwo_uuid_v2\": \"D5F84865EC2DDE95A868C7FE113BE5C00|15a26edbed437a65ea316806ffc7487c\",\n",
      "        \"bid\": \"UwAOAuKwNuk\",\n",
      "        \"gr_cs1_a5a9f37e-ce09-4709-bba1-2ab02ff8bbc2\": \"user_id%3A0\",\n",
      "        \"gr_session_id_22c937bbd8ebd703f2d8e9445f7dfd03\": \"a5a9f37e-ce09-4709-bba1-2ab02ff8bbc2\",\n",
      "        \"gr_session_id_22c937bbd8ebd703f2d8e9445f7dfd03_a5a9f37e-ce09-4709-bba1-2ab02ff8bbc2\": \"true\",\n",
      "        \"gr_user_id\": \"3822721a-0f72-4857-9eb8-07408745fdfd\"\n",
      "    },\n",
      ")\n"
     ]
    }
   ],
   "source": [
    "import uncurl\n",
    "\n",
    "\n",
    "command = uncurl.parse(\"curl 'https://book.douban.com/' -H 'Connection: keep-alive' -H 'Cache-Control: max-age=0' -H 'Upgrade-Insecure-Requests: 1' -H 'User-Agent: Mozilla/5.0 (Windows NT 10.0; Win64; x64) AppleWebKit/537.36 (KHTML, like Gecko) Chrome/74.0.3729.108 Safari/537.36' -H 'Accept: text/html,application/xhtml+xml,application/xml;q=0.9,image/webp,image/apng,*/*;q=0.8,application/signed-exchange;v=b3' -H 'Accept-Encoding: gzip, deflate, br' -H 'Accept-Language: en-US,en;q=0.9,zh-CN;q=0.8,zh;q=0.7' -H 'Cookie: bid=UwAOAuKwNuk; _vwo_uuid_v2=D5F84865EC2DDE95A868C7FE113BE5C00|15a26edbed437a65ea316806ffc7487c; gr_user_id=3822721a-0f72-4857-9eb8-07408745fdfd; gr_session_id_22c937bbd8ebd703f2d8e9445f7dfd03=a5a9f37e-ce09-4709-bba1-2ab02ff8bbc2; gr_cs1_a5a9f37e-ce09-4709-bba1-2ab02ff8bbc2=user_id%3A0; __utma=30149280.1171012025.1597718746.1597718746.1597718746.1; __utmc=30149280; __utmz=30149280.1597718746.1.1.utmcsr=baidu|utmccn=(organic)|utmcmd=organic; __utmt_douban=1; __utmb=30149280.1.10.1597718746; __utma=81379588.1954925261.1597718746.1597718746.1597718746.1; __utmc=81379588; __utmz=81379588.1597718746.1.1.utmcsr=baidu|utmccn=(organic)|utmcmd=organic; __utmt=1; __utmb=81379588.1.10.1597718746; gr_session_id_22c937bbd8ebd703f2d8e9445f7dfd03_a5a9f37e-ce09-4709-bba1-2ab02ff8bbc2=true; _pk_ref.100001.3ac3=%5B%22%22%2C%22%22%2C1597718749%2C%22https%3A%2F%2Fwww.baidu.com%2Flink%3Furl%3DoHPx3751eMnMMm9iyzClcWNftUTdteNuLxAvJT44ercxLjTtvYRm_9CJ6prWVvlg%26wd%3D%26eqid%3Df3052594001d7586000000065f3b40c0%22%5D; _pk_id.100001.3ac3=efee8f6ae4fc8b5a.1597718749.1.1597718749.1597718749.; _pk_ses.100001.3ac3=*; __gads=ID=d58b0f34a8171fd4:T=1597718756:S=ALNI_Macl5IVxm1PB6riU1O3-jQnnauA9w' --compressed\")\n",
    "print(command)"
   ]
  },
  {
   "cell_type": "markdown",
   "metadata": {},
   "source": [
    "---\n",
    "## 2.13 json\n",
    "python object与json相互转化\n",
    "常用功能：`json.loads` `json.dumps`"
   ]
  },
  {
   "cell_type": "code",
   "execution_count": 4,
   "metadata": {},
   "outputs": [
    {
     "name": "stdout",
     "output_type": "stream",
     "text": [
      "\"data\":[{\"id\":\"RBJS01\",\"name\":\"理想汽车北京华熙LIVE零售中心\",\"imgUrl\":\"https://p.ampmake.com/tur/rm/4085a4cd-44aa-41f7-9f88-5dabe9e99d65.jpg\",\"openedAt\":\"2019年5月1日上午10:00\",\"openingHours\":\"周一至周日10:00-22:00\",\"addr\n"
     ]
    }
   ],
   "source": [
    "import json\n",
    "url = 'https://api-web.lixiang.com/mall-api/v1-0/service-centers?types=RETAIL&types=DELIVER&types=AFTERSALE&types=SPRAY'\n",
    "response = requests.get(url)\n",
    "print(response.text[1:200])"
   ]
  },
  {
   "cell_type": "code",
   "execution_count": 5,
   "metadata": {},
   "outputs": [
    {
     "data": {
      "text/plain": [
       "{'id': 'RBJS01',\n",
       " 'name': '理想汽车北京华熙LIVE零售中心',\n",
       " 'imgUrl': 'https://p.ampmake.com/tur/rm/4085a4cd-44aa-41f7-9f88-5dabe9e99d65.jpg',\n",
       " 'openedAt': '2019年5月1日上午10:00',\n",
       " 'openingHours': '周一至周日10:00-22:00',\n",
       " 'address': '北京市海淀区复兴路69号华熙LIVE·五棵松HI-UP B101、102商铺',\n",
       " 'telephone': '010-86488161',\n",
       " 'type': 'RETAIL',\n",
       " 'status': 'INBUSINESS',\n",
       " 'lng': 116.283715,\n",
       " 'lat': 39.915205,\n",
       " 'cityId': 110100,\n",
       " 'cityName': '北京',\n",
       " 'provinceId': 110000,\n",
       " 'provinceName': '北京',\n",
       " 'locations': {'baiduLng': 116.283715,\n",
       "  'baiduLat': 39.915205,\n",
       "  'tencentLng': None,\n",
       "  'tencentLat': None,\n",
       "  'gdLng': 116.277297,\n",
       "  'gdLat': 39.908863},\n",
       " 'testDriveStatus': 1,\n",
       " 'testDriveDesc': '',\n",
       " 'distance': None,\n",
       " 'companyName': '理想智造汽车销售服务（北京）有限公司',\n",
       " 'activityStartedAt': None,\n",
       " 'activityEndedAt': None,\n",
       " 'countyName': '海淀',\n",
       " 'countyId': 110108}"
      ]
     },
     "execution_count": 5,
     "metadata": {},
     "output_type": "execute_result"
    }
   ],
   "source": [
    "import json\n",
    "obj = json.loads(response.text)\n",
    "obj['data'][0]"
   ]
  },
  {
   "cell_type": "code",
   "execution_count": 6,
   "metadata": {},
   "outputs": [
    {
     "data": {
      "text/plain": [
       "'{\"id\": \"RBJS01\", \"name\": \"\\\\u7406\\\\u60f3\\\\u6c7d\\\\u8f66\\\\u5317\\\\u4eac\\\\u534e\\\\u7199LIVE\\\\u96f6\\\\u552e\\\\u4e2d\\\\u5fc3\", \"imgUrl\": \"https://p.ampmake.com/tur/rm/4085a4cd-44aa-41f7-9f88-5dabe9e99d65.jpg\", \"openedAt\": \"2019\\\\u5e745\\\\u67081\\\\u65e5\\\\u4e0a\\\\u534810:00\", \"openingHours\": \"\\\\u5468\\\\u4e00\\\\u81f3\\\\u5468\\\\u65e510:00-22:00\", \"address\": \"\\\\u5317\\\\u4eac\\\\u5e02\\\\u6d77\\\\u6dc0\\\\u533a\\\\u590d\\\\u5174\\\\u8def69\\\\u53f7\\\\u534e\\\\u7199LIVE\\\\u00b7\\\\u4e94\\\\u68f5\\\\u677eHI-UP B101\\\\u3001102\\\\u5546\\\\u94fa\", \"telephone\": \"010-86488161\", \"type\": \"RETAIL\", \"status\": \"INBUSINESS\", \"lng\": 116.283715, \"lat\": 39.915205, \"cityId\": 110100, \"cityName\": \"\\\\u5317\\\\u4eac\", \"provinceId\": 110000, \"provinceName\": \"\\\\u5317\\\\u4eac\", \"locations\": {\"baiduLng\": 116.283715, \"baiduLat\": 39.915205, \"tencentLng\": null, \"tencentLat\": null, \"gdLng\": 116.277297, \"gdLat\": 39.908863}, \"testDriveStatus\": 1, \"testDriveDesc\": \"\", \"distance\": null, \"companyName\": \"\\\\u7406\\\\u60f3\\\\u667a\\\\u9020\\\\u6c7d\\\\u8f66\\\\u9500\\\\u552e\\\\u670d\\\\u52a1\\\\uff08\\\\u5317\\\\u4eac\\\\uff09\\\\u6709\\\\u9650\\\\u516c\\\\u53f8\", \"activityStartedAt\": null, \"activityEndedAt\": null, \"countyName\": \"\\\\u6d77\\\\u6dc0\", \"countyId\": 110108}'"
      ]
     },
     "execution_count": 6,
     "metadata": {},
     "output_type": "execute_result"
    }
   ],
   "source": [
    "json.dumps(obj['data'][0])"
   ]
  },
  {
   "cell_type": "code",
   "execution_count": 7,
   "metadata": {},
   "outputs": [
    {
     "data": {
      "text/html": [
       "<div>\n",
       "<style scoped>\n",
       "    .dataframe tbody tr th:only-of-type {\n",
       "        vertical-align: middle;\n",
       "    }\n",
       "\n",
       "    .dataframe tbody tr th {\n",
       "        vertical-align: top;\n",
       "    }\n",
       "\n",
       "    .dataframe thead th {\n",
       "        text-align: right;\n",
       "    }\n",
       "</style>\n",
       "<table border=\"1\" class=\"dataframe\">\n",
       "  <thead>\n",
       "    <tr style=\"text-align: right;\">\n",
       "      <th></th>\n",
       "      <th>Status</th>\n",
       "      <th>Data</th>\n",
       "      <th>Message</th>\n",
       "    </tr>\n",
       "  </thead>\n",
       "  <tbody>\n",
       "    <tr>\n",
       "      <th>0</th>\n",
       "      <td>200</td>\n",
       "      <td>{'DealerName': '新疆华新汽车销售有限公司', 'Address': '新疆维...</td>\n",
       "      <td>经销商获取成功</td>\n",
       "    </tr>\n",
       "    <tr>\n",
       "      <th>1</th>\n",
       "      <td>200</td>\n",
       "      <td>{'DealerName': '伊犁展彦汽车销售服务有限公司', 'Address': '新...</td>\n",
       "      <td>经销商获取成功</td>\n",
       "    </tr>\n",
       "    <tr>\n",
       "      <th>2</th>\n",
       "      <td>200</td>\n",
       "      <td>{'DealerName': '喀什通工吉沃汽车销售服务有限公司', 'Address': ...</td>\n",
       "      <td>经销商获取成功</td>\n",
       "    </tr>\n",
       "    <tr>\n",
       "      <th>3</th>\n",
       "      <td>200</td>\n",
       "      <td>{'DealerName': '无锡国昌新能源汽车销售有限公司', 'Address': '...</td>\n",
       "      <td>经销商获取成功</td>\n",
       "    </tr>\n",
       "    <tr>\n",
       "      <th>4</th>\n",
       "      <td>200</td>\n",
       "      <td>{'DealerName': '宁波甬成优行新能源汽车销售服务有限公司', 'Address...</td>\n",
       "      <td>经销商获取成功</td>\n",
       "    </tr>\n",
       "    <tr>\n",
       "      <th>5</th>\n",
       "      <td>200</td>\n",
       "      <td>{'DealerName': '上海晋熙汽车销售服务有限公司', 'Address': '上...</td>\n",
       "      <td>经销商获取成功</td>\n",
       "    </tr>\n",
       "    <tr>\n",
       "      <th>6</th>\n",
       "      <td>200</td>\n",
       "      <td>{'DealerName': '宁波帝豪汽车销售服务有限公司', 'Address': '浙...</td>\n",
       "      <td>经销商获取成功</td>\n",
       "    </tr>\n",
       "    <tr>\n",
       "      <th>7</th>\n",
       "      <td>200</td>\n",
       "      <td>{'DealerName': '大连福斯达几何汽车销售服务有限公司', 'Address':...</td>\n",
       "      <td>经销商获取成功</td>\n",
       "    </tr>\n",
       "    <tr>\n",
       "      <th>8</th>\n",
       "      <td>200</td>\n",
       "      <td>{'DealerName': '上海明友泓浩汽车销售有限公司', 'Address': '上...</td>\n",
       "      <td>经销商获取成功</td>\n",
       "    </tr>\n",
       "    <tr>\n",
       "      <th>9</th>\n",
       "      <td>200</td>\n",
       "      <td>{'DealerName': '上海天麦汽车销售服务有限公司', 'Address': '上...</td>\n",
       "      <td>经销商获取成功</td>\n",
       "    </tr>\n",
       "    <tr>\n",
       "      <th>10</th>\n",
       "      <td>200</td>\n",
       "      <td>{'DealerName': '台州吉悦电动汽车销售服务有限公司', 'Address': ...</td>\n",
       "      <td>经销商获取成功</td>\n",
       "    </tr>\n",
       "    <tr>\n",
       "      <th>11</th>\n",
       "      <td>200</td>\n",
       "      <td>{'DealerName': '上海浦之利汽车有限公司', 'Address': '上海市普...</td>\n",
       "      <td>经销商获取成功</td>\n",
       "    </tr>\n",
       "    <tr>\n",
       "      <th>12</th>\n",
       "      <td>200</td>\n",
       "      <td>{'DealerName': '上海华庭汽车销售服务有限公司', 'Address': '上...</td>\n",
       "      <td>经销商获取成功</td>\n",
       "    </tr>\n",
       "    <tr>\n",
       "      <th>13</th>\n",
       "      <td>200</td>\n",
       "      <td>{'DealerName': '上海吉庆新能源汽车销售有限公司', 'Address': '...</td>\n",
       "      <td>经销商获取成功</td>\n",
       "    </tr>\n",
       "    <tr>\n",
       "      <th>14</th>\n",
       "      <td>200</td>\n",
       "      <td>{'DealerName': '温州绿能银盾汽车销售有限公司', 'Address': '浙...</td>\n",
       "      <td>经销商获取成功</td>\n",
       "    </tr>\n",
       "    <tr>\n",
       "      <th>15</th>\n",
       "      <td>200</td>\n",
       "      <td>{'DealerName': '苏州瑞高汽车服务有限公司', 'Address': '江苏省...</td>\n",
       "      <td>经销商获取成功</td>\n",
       "    </tr>\n",
       "    <tr>\n",
       "      <th>16</th>\n",
       "      <td>200</td>\n",
       "      <td>{'DealerName': '南通奥易隆汽车销售服务有限公司', 'Address': '...</td>\n",
       "      <td>经销商获取成功</td>\n",
       "    </tr>\n",
       "    <tr>\n",
       "      <th>17</th>\n",
       "      <td>200</td>\n",
       "      <td>{'DealerName': '温州吉新汽车销售服务有限公司', 'Address': '浙...</td>\n",
       "      <td>经销商获取成功</td>\n",
       "    </tr>\n",
       "    <tr>\n",
       "      <th>18</th>\n",
       "      <td>200</td>\n",
       "      <td>{'DealerName': '瑞安吉瑞汽车服务有限公司', 'Address': '浙江省...</td>\n",
       "      <td>经销商获取成功</td>\n",
       "    </tr>\n",
       "    <tr>\n",
       "      <th>19</th>\n",
       "      <td>200</td>\n",
       "      <td>{'DealerName': '温州华云汽车销售服务有限公司', 'Address': '浙...</td>\n",
       "      <td>经销商获取成功</td>\n",
       "    </tr>\n",
       "    <tr>\n",
       "      <th>20</th>\n",
       "      <td>200</td>\n",
       "      <td>{'DealerName': '绍兴豪庭汽车销售服务有限公司　', 'Address': '...</td>\n",
       "      <td>经销商获取成功</td>\n",
       "    </tr>\n",
       "    <tr>\n",
       "      <th>21</th>\n",
       "      <td>200</td>\n",
       "      <td>{'DealerName': '苏州市天丰汇汽车销售服务有限公司', 'Address': ...</td>\n",
       "      <td>经销商获取成功</td>\n",
       "    </tr>\n",
       "    <tr>\n",
       "      <th>22</th>\n",
       "      <td>200</td>\n",
       "      <td>{'DealerName': '绍兴德能汽车销售服务有限公司', 'Address': '浙...</td>\n",
       "      <td>经销商获取成功</td>\n",
       "    </tr>\n",
       "    <tr>\n",
       "      <th>23</th>\n",
       "      <td>200</td>\n",
       "      <td>{'DealerName': '桐乡市嘉伦汽车销售服务有限公司', 'Address': '...</td>\n",
       "      <td>经销商获取成功</td>\n",
       "    </tr>\n",
       "    <tr>\n",
       "      <th>24</th>\n",
       "      <td>200</td>\n",
       "      <td>{'DealerName': '绍兴君驰汽车销售服务有限公司', 'Address': '浙...</td>\n",
       "      <td>经销商获取成功</td>\n",
       "    </tr>\n",
       "    <tr>\n",
       "      <th>25</th>\n",
       "      <td>200</td>\n",
       "      <td>{'DealerName': '青岛康利捷汽车销售服务有限责任公司', 'Address':...</td>\n",
       "      <td>经销商获取成功</td>\n",
       "    </tr>\n",
       "    <tr>\n",
       "      <th>26</th>\n",
       "      <td>200</td>\n",
       "      <td>{'DealerName': '浙江滨之利汽车有限公司', 'Address': '浙江省杭...</td>\n",
       "      <td>经销商获取成功</td>\n",
       "    </tr>\n",
       "    <tr>\n",
       "      <th>27</th>\n",
       "      <td>200</td>\n",
       "      <td>{'DealerName': '湖州市利驰汽车销售服务有限公司', 'Address': '...</td>\n",
       "      <td>经销商获取成功</td>\n",
       "    </tr>\n",
       "    <tr>\n",
       "      <th>28</th>\n",
       "      <td>200</td>\n",
       "      <td>{'DealerName': '杭州骏业汽车销售有限公司', 'Address': '浙江省...</td>\n",
       "      <td>经销商获取成功</td>\n",
       "    </tr>\n",
       "    <tr>\n",
       "      <th>29</th>\n",
       "      <td>200</td>\n",
       "      <td>{'DealerName': '泰州杰信新能源科技有限公司', 'Address': '江苏...</td>\n",
       "      <td>经销商获取成功</td>\n",
       "    </tr>\n",
       "    <tr>\n",
       "      <th>...</th>\n",
       "      <td>...</td>\n",
       "      <td>...</td>\n",
       "      <td>...</td>\n",
       "    </tr>\n",
       "    <tr>\n",
       "      <th>123</th>\n",
       "      <td>200</td>\n",
       "      <td>{'DealerName': '海南青胜蓝汽车销售服务有限公司', 'Address': '...</td>\n",
       "      <td>经销商获取成功</td>\n",
       "    </tr>\n",
       "    <tr>\n",
       "      <th>124</th>\n",
       "      <td>200</td>\n",
       "      <td>{'DealerName': '海南蔚蓝汽车管理有限公司', 'Address': '海南省...</td>\n",
       "      <td>经销商获取成功</td>\n",
       "    </tr>\n",
       "    <tr>\n",
       "      <th>125</th>\n",
       "      <td>200</td>\n",
       "      <td>{'DealerName': '玉林市先行新能源汽车销售有限公司', 'Address': ...</td>\n",
       "      <td>经销商获取成功</td>\n",
       "    </tr>\n",
       "    <tr>\n",
       "      <th>126</th>\n",
       "      <td>200</td>\n",
       "      <td>{'DealerName': '鄂尔多斯市福华汽车销售服务有限公司', 'Address':...</td>\n",
       "      <td>经销商获取成功</td>\n",
       "    </tr>\n",
       "    <tr>\n",
       "      <th>127</th>\n",
       "      <td>200</td>\n",
       "      <td>{'DealerName': '海南和骏汽车销售有限公司', 'Address': '海南省...</td>\n",
       "      <td>经销商获取成功</td>\n",
       "    </tr>\n",
       "    <tr>\n",
       "      <th>128</th>\n",
       "      <td>200</td>\n",
       "      <td>{'DealerName': '贵州宏吉瑞新能源汽车销售服务有限公司', 'Address'...</td>\n",
       "      <td>经销商获取成功</td>\n",
       "    </tr>\n",
       "    <tr>\n",
       "      <th>129</th>\n",
       "      <td>200</td>\n",
       "      <td>{'DealerName': '陕西新丰泰新能源汽车销售服务有限公司', 'Address'...</td>\n",
       "      <td>经销商获取成功</td>\n",
       "    </tr>\n",
       "    <tr>\n",
       "      <th>130</th>\n",
       "      <td>200</td>\n",
       "      <td>{'DealerName': '陕西龙起汽车贸易有限公司', 'Address': '陕西省...</td>\n",
       "      <td>经销商获取成功</td>\n",
       "    </tr>\n",
       "    <tr>\n",
       "      <th>131</th>\n",
       "      <td>200</td>\n",
       "      <td>{'DealerName': '陕西益新源新能源汽车有限公司', 'Address': '陕...</td>\n",
       "      <td>经销商获取成功</td>\n",
       "    </tr>\n",
       "    <tr>\n",
       "      <th>132</th>\n",
       "      <td>200</td>\n",
       "      <td>{'DealerName': '西安国利汽车服务有限公司', 'Address': '陕西省...</td>\n",
       "      <td>经销商获取成功</td>\n",
       "    </tr>\n",
       "    <tr>\n",
       "      <th>133</th>\n",
       "      <td>200</td>\n",
       "      <td>{'DealerName': '陕西时代明珠汽车销售有限公司', 'Address': '陕...</td>\n",
       "      <td>经销商获取成功</td>\n",
       "    </tr>\n",
       "    <tr>\n",
       "      <th>134</th>\n",
       "      <td>200</td>\n",
       "      <td>{'DealerName': '重庆佳运恒星汽车销售有限公司', 'Address': '重...</td>\n",
       "      <td>经销商获取成功</td>\n",
       "    </tr>\n",
       "    <tr>\n",
       "      <th>135</th>\n",
       "      <td>200</td>\n",
       "      <td>{'DealerName': '广西吉开汽车销售服务有限公司', 'Address': '广...</td>\n",
       "      <td>经销商获取成功</td>\n",
       "    </tr>\n",
       "    <tr>\n",
       "      <th>136</th>\n",
       "      <td>200</td>\n",
       "      <td>{'DealerName': '贵州祥隆汽车销售服务有限责任公司', 'Address': ...</td>\n",
       "      <td>经销商获取成功</td>\n",
       "    </tr>\n",
       "    <tr>\n",
       "      <th>137</th>\n",
       "      <td>200</td>\n",
       "      <td>{'DealerName': '宝鸡市新星海新能源科技有限公司', 'Address': '...</td>\n",
       "      <td>经销商获取成功</td>\n",
       "    </tr>\n",
       "    <tr>\n",
       "      <th>138</th>\n",
       "      <td>200</td>\n",
       "      <td>{'DealerName': '贵州海翔汽车贸易服务有限公司', 'Address': '贵...</td>\n",
       "      <td>经销商获取成功</td>\n",
       "    </tr>\n",
       "    <tr>\n",
       "      <th>139</th>\n",
       "      <td>200</td>\n",
       "      <td>{'DealerName': '广安合鑫汽车销售有限公司', 'Address': '四川省...</td>\n",
       "      <td>经销商获取成功</td>\n",
       "    </tr>\n",
       "    <tr>\n",
       "      <th>140</th>\n",
       "      <td>200</td>\n",
       "      <td>{'DealerName': '博卡联（重庆）汽车销售服务有限公司', 'Address':...</td>\n",
       "      <td>经销商获取成功</td>\n",
       "    </tr>\n",
       "    <tr>\n",
       "      <th>141</th>\n",
       "      <td>200</td>\n",
       "      <td>{'DealerName': '重庆古甫新能源汽车有限公司', 'Address': '重庆...</td>\n",
       "      <td>经销商获取成功</td>\n",
       "    </tr>\n",
       "    <tr>\n",
       "      <th>142</th>\n",
       "      <td>200</td>\n",
       "      <td>{'DealerName': '黔西南州鑫吉新能源汽车销售有限公司', 'Address':...</td>\n",
       "      <td>经销商获取成功</td>\n",
       "    </tr>\n",
       "    <tr>\n",
       "      <th>143</th>\n",
       "      <td>200</td>\n",
       "      <td>{'DealerName': '中国第二重型机械集团德阳万路运业有限公司', 'Addres...</td>\n",
       "      <td>经销商获取成功</td>\n",
       "    </tr>\n",
       "    <tr>\n",
       "      <th>144</th>\n",
       "      <td>200</td>\n",
       "      <td>{'DealerName': '四川金信吉新汽车销售有限公司', 'Address': '四...</td>\n",
       "      <td>经销商获取成功</td>\n",
       "    </tr>\n",
       "    <tr>\n",
       "      <th>145</th>\n",
       "      <td>200</td>\n",
       "      <td>{'DealerName': '成都吉圣汽车销售有限公司', 'Address': '四川省...</td>\n",
       "      <td>经销商获取成功</td>\n",
       "    </tr>\n",
       "    <tr>\n",
       "      <th>146</th>\n",
       "      <td>200</td>\n",
       "      <td>{'DealerName': '成都西物汽车有限公司', 'Address': '四川省成都...</td>\n",
       "      <td>经销商获取成功</td>\n",
       "    </tr>\n",
       "    <tr>\n",
       "      <th>147</th>\n",
       "      <td>200</td>\n",
       "      <td>{'DealerName': '成都吉建新能源汽车销售有限公司', 'Address': '...</td>\n",
       "      <td>经销商获取成功</td>\n",
       "    </tr>\n",
       "    <tr>\n",
       "      <th>148</th>\n",
       "      <td>200</td>\n",
       "      <td>{'DealerName': '云南吉兴新能源汽车有限公司', 'Address': '云南...</td>\n",
       "      <td>经销商获取成功</td>\n",
       "    </tr>\n",
       "    <tr>\n",
       "      <th>149</th>\n",
       "      <td>200</td>\n",
       "      <td>{'DealerName': '云南德利邦新能源科技有限公司', 'Address': '云...</td>\n",
       "      <td>经销商获取成功</td>\n",
       "    </tr>\n",
       "    <tr>\n",
       "      <th>150</th>\n",
       "      <td>200</td>\n",
       "      <td>{'DealerName': '云南驭马平川汽车销售有限公司', 'Address': '云...</td>\n",
       "      <td>经销商获取成功</td>\n",
       "    </tr>\n",
       "    <tr>\n",
       "      <th>151</th>\n",
       "      <td>200</td>\n",
       "      <td>{'DealerName': '廊坊市嘉际汽车销售有限公司', 'Address': '河北...</td>\n",
       "      <td>经销商获取成功</td>\n",
       "    </tr>\n",
       "    <tr>\n",
       "      <th>152</th>\n",
       "      <td>200</td>\n",
       "      <td>{'DealerName': '山东省吉利汽车超市有限公司', 'Address': '山东...</td>\n",
       "      <td>经销商获取成功</td>\n",
       "    </tr>\n",
       "  </tbody>\n",
       "</table>\n",
       "<p>153 rows × 3 columns</p>\n",
       "</div>"
      ],
      "text/plain": [
       "     Status                                               Data  Message\n",
       "0       200  {'DealerName': '新疆华新汽车销售有限公司', 'Address': '新疆维...  经销商获取成功\n",
       "1       200  {'DealerName': '伊犁展彦汽车销售服务有限公司', 'Address': '新...  经销商获取成功\n",
       "2       200  {'DealerName': '喀什通工吉沃汽车销售服务有限公司', 'Address': ...  经销商获取成功\n",
       "3       200  {'DealerName': '无锡国昌新能源汽车销售有限公司', 'Address': '...  经销商获取成功\n",
       "4       200  {'DealerName': '宁波甬成优行新能源汽车销售服务有限公司', 'Address...  经销商获取成功\n",
       "5       200  {'DealerName': '上海晋熙汽车销售服务有限公司', 'Address': '上...  经销商获取成功\n",
       "6       200  {'DealerName': '宁波帝豪汽车销售服务有限公司', 'Address': '浙...  经销商获取成功\n",
       "7       200  {'DealerName': '大连福斯达几何汽车销售服务有限公司', 'Address':...  经销商获取成功\n",
       "8       200  {'DealerName': '上海明友泓浩汽车销售有限公司', 'Address': '上...  经销商获取成功\n",
       "9       200  {'DealerName': '上海天麦汽车销售服务有限公司', 'Address': '上...  经销商获取成功\n",
       "10      200  {'DealerName': '台州吉悦电动汽车销售服务有限公司', 'Address': ...  经销商获取成功\n",
       "11      200  {'DealerName': '上海浦之利汽车有限公司', 'Address': '上海市普...  经销商获取成功\n",
       "12      200  {'DealerName': '上海华庭汽车销售服务有限公司', 'Address': '上...  经销商获取成功\n",
       "13      200  {'DealerName': '上海吉庆新能源汽车销售有限公司', 'Address': '...  经销商获取成功\n",
       "14      200  {'DealerName': '温州绿能银盾汽车销售有限公司', 'Address': '浙...  经销商获取成功\n",
       "15      200  {'DealerName': '苏州瑞高汽车服务有限公司', 'Address': '江苏省...  经销商获取成功\n",
       "16      200  {'DealerName': '南通奥易隆汽车销售服务有限公司', 'Address': '...  经销商获取成功\n",
       "17      200  {'DealerName': '温州吉新汽车销售服务有限公司', 'Address': '浙...  经销商获取成功\n",
       "18      200  {'DealerName': '瑞安吉瑞汽车服务有限公司', 'Address': '浙江省...  经销商获取成功\n",
       "19      200  {'DealerName': '温州华云汽车销售服务有限公司', 'Address': '浙...  经销商获取成功\n",
       "20      200  {'DealerName': '绍兴豪庭汽车销售服务有限公司　', 'Address': '...  经销商获取成功\n",
       "21      200  {'DealerName': '苏州市天丰汇汽车销售服务有限公司', 'Address': ...  经销商获取成功\n",
       "22      200  {'DealerName': '绍兴德能汽车销售服务有限公司', 'Address': '浙...  经销商获取成功\n",
       "23      200  {'DealerName': '桐乡市嘉伦汽车销售服务有限公司', 'Address': '...  经销商获取成功\n",
       "24      200  {'DealerName': '绍兴君驰汽车销售服务有限公司', 'Address': '浙...  经销商获取成功\n",
       "25      200  {'DealerName': '青岛康利捷汽车销售服务有限责任公司', 'Address':...  经销商获取成功\n",
       "26      200  {'DealerName': '浙江滨之利汽车有限公司', 'Address': '浙江省杭...  经销商获取成功\n",
       "27      200  {'DealerName': '湖州市利驰汽车销售服务有限公司', 'Address': '...  经销商获取成功\n",
       "28      200  {'DealerName': '杭州骏业汽车销售有限公司', 'Address': '浙江省...  经销商获取成功\n",
       "29      200  {'DealerName': '泰州杰信新能源科技有限公司', 'Address': '江苏...  经销商获取成功\n",
       "..      ...                                                ...      ...\n",
       "123     200  {'DealerName': '海南青胜蓝汽车销售服务有限公司', 'Address': '...  经销商获取成功\n",
       "124     200  {'DealerName': '海南蔚蓝汽车管理有限公司', 'Address': '海南省...  经销商获取成功\n",
       "125     200  {'DealerName': '玉林市先行新能源汽车销售有限公司', 'Address': ...  经销商获取成功\n",
       "126     200  {'DealerName': '鄂尔多斯市福华汽车销售服务有限公司', 'Address':...  经销商获取成功\n",
       "127     200  {'DealerName': '海南和骏汽车销售有限公司', 'Address': '海南省...  经销商获取成功\n",
       "128     200  {'DealerName': '贵州宏吉瑞新能源汽车销售服务有限公司', 'Address'...  经销商获取成功\n",
       "129     200  {'DealerName': '陕西新丰泰新能源汽车销售服务有限公司', 'Address'...  经销商获取成功\n",
       "130     200  {'DealerName': '陕西龙起汽车贸易有限公司', 'Address': '陕西省...  经销商获取成功\n",
       "131     200  {'DealerName': '陕西益新源新能源汽车有限公司', 'Address': '陕...  经销商获取成功\n",
       "132     200  {'DealerName': '西安国利汽车服务有限公司', 'Address': '陕西省...  经销商获取成功\n",
       "133     200  {'DealerName': '陕西时代明珠汽车销售有限公司', 'Address': '陕...  经销商获取成功\n",
       "134     200  {'DealerName': '重庆佳运恒星汽车销售有限公司', 'Address': '重...  经销商获取成功\n",
       "135     200  {'DealerName': '广西吉开汽车销售服务有限公司', 'Address': '广...  经销商获取成功\n",
       "136     200  {'DealerName': '贵州祥隆汽车销售服务有限责任公司', 'Address': ...  经销商获取成功\n",
       "137     200  {'DealerName': '宝鸡市新星海新能源科技有限公司', 'Address': '...  经销商获取成功\n",
       "138     200  {'DealerName': '贵州海翔汽车贸易服务有限公司', 'Address': '贵...  经销商获取成功\n",
       "139     200  {'DealerName': '广安合鑫汽车销售有限公司', 'Address': '四川省...  经销商获取成功\n",
       "140     200  {'DealerName': '博卡联（重庆）汽车销售服务有限公司', 'Address':...  经销商获取成功\n",
       "141     200  {'DealerName': '重庆古甫新能源汽车有限公司', 'Address': '重庆...  经销商获取成功\n",
       "142     200  {'DealerName': '黔西南州鑫吉新能源汽车销售有限公司', 'Address':...  经销商获取成功\n",
       "143     200  {'DealerName': '中国第二重型机械集团德阳万路运业有限公司', 'Addres...  经销商获取成功\n",
       "144     200  {'DealerName': '四川金信吉新汽车销售有限公司', 'Address': '四...  经销商获取成功\n",
       "145     200  {'DealerName': '成都吉圣汽车销售有限公司', 'Address': '四川省...  经销商获取成功\n",
       "146     200  {'DealerName': '成都西物汽车有限公司', 'Address': '四川省成都...  经销商获取成功\n",
       "147     200  {'DealerName': '成都吉建新能源汽车销售有限公司', 'Address': '...  经销商获取成功\n",
       "148     200  {'DealerName': '云南吉兴新能源汽车有限公司', 'Address': '云南...  经销商获取成功\n",
       "149     200  {'DealerName': '云南德利邦新能源科技有限公司', 'Address': '云...  经销商获取成功\n",
       "150     200  {'DealerName': '云南驭马平川汽车销售有限公司', 'Address': '云...  经销商获取成功\n",
       "151     200  {'DealerName': '廊坊市嘉际汽车销售有限公司', 'Address': '河北...  经销商获取成功\n",
       "152     200  {'DealerName': '山东省吉利汽车超市有限公司', 'Address': '山东...  经销商获取成功\n",
       "\n",
       "[153 rows x 3 columns]"
      ]
     },
     "execution_count": 7,
     "metadata": {},
     "output_type": "execute_result"
    }
   ],
   "source": [
    "# 还有一种处理方法是用pandas直接读取\n",
    "import pandas as pd\n",
    "obj = pd.read_json('https://www.geometryauto.com/api/nev/dealer/getdealers?seriesCode=ge11')\n",
    "obj"
   ]
  },
  {
   "cell_type": "markdown",
   "metadata": {},
   "source": [
    "---\n",
    "## 2.14 hashlib\n",
    "python object与json相互转化\n",
    "常用功能：`json.loads` `json.dumps`"
   ]
  },
  {
   "cell_type": "code",
   "execution_count": 47,
   "metadata": {},
   "outputs": [
    {
     "name": "stdout",
     "output_type": "stream",
     "text": [
      "9e49eb8e75b9a87424e388b862ea5f83\n",
      "9e49eb8e75b9a87424e388b862ea5f83\n"
     ]
    }
   ],
   "source": [
    "\n",
    "\n",
    "import hashlib\n",
    "m=hashlib.md5()                               #括号内也可以传值，类型也要求是bytes类型\n",
    "m.update('你好呀！'.encode('utf-8'))\n",
    "print(m.hexdigest())                          #9e49eb8e75b9a87424e388b862ea5f83\n",
    "\n",
    "# 与上述hash的结果一样\n",
    "\n",
    "m=hashlib.md5('你'.encode('utf-8'))          #括号内也可以传值，类型也要求是bytes类型\n",
    "m.update('好呀！'.encode('utf-8'))\n",
    "print(m.hexdigest())   "
   ]
  },
  {
   "cell_type": "markdown",
   "metadata": {},
   "source": [
    "---\n",
    "\n",
    "## 2.15 hmac\n",
    "\n",
    "hmac 提供带key的sha加密方式\n"
   ]
  },
  {
   "cell_type": "code",
   "execution_count": 2,
   "metadata": {},
   "outputs": [
    {
     "data": {
      "text/plain": [
       "'b2a1ec0f3e0607099d7f39791c04e9a4'"
      ]
     },
     "execution_count": 2,
     "metadata": {},
     "output_type": "execute_result"
    }
   ],
   "source": [
    "import hmac\n",
    "message = b'123'\n",
    "key = b'123'\n",
    "h = hmac.new(key, message, digestmod='MD5')\n",
    "# 如果消息很长，可以多次调用h.update(msg)\n",
    "h.hexdigest()\n"
   ]
  },
  {
   "cell_type": "markdown",
   "metadata": {},
   "source": [
    "---\n",
    "## 2.16 bs4\n",
    "beautiful soup 提供更高阶的html解析工具，方便使用xpath/xML/css selector的html解析"
   ]
  },
  {
   "cell_type": "code",
   "execution_count": 8,
   "metadata": {},
   "outputs": [],
   "source": [
    "import requests\n",
    "from bs4 import BeautifulSoup\n",
    "headers = {\n",
    "        \"Accept\": \"text/html,application/xhtml+xml,application/xml;q=0.9,image/webp,image/apng,*/*;q=0.8,application/signed-exchange;v=b3\",\n",
    "        \"Accept-Language\": \"en-US,en;q=0.9,zh-CN;q=0.8,zh;q=0.7\",\n",
    "        \"Cache-Control\": \"max-age=0\",\n",
    "        \"Connection\": \"keep-alive\",\n",
    "        \"Upgrade-Insecure-Requests\": \"1\",\n",
    "        \"User-Agent\": \"Mozilla/5.0 (Windows NT 10.0; Win64; x64) AppleWebKit/537.36 (KHTML, like Gecko) Chrome/74.0.3729.108 Safari/537.36\"\n",
    "    }\n",
    "\n",
    "\n",
    "\n",
    "doc = requests.get(\"https://book.douban.com/\",headers=headers)\n",
    "soup=BeautifulSoup(doc.text,'html.parser')"
   ]
  },
  {
   "cell_type": "code",
   "execution_count": null,
   "metadata": {},
   "outputs": [],
   "source": []
  },
  {
   "cell_type": "code",
   "execution_count": 85,
   "metadata": {},
   "outputs": [
    {
     "name": "stdout",
     "output_type": "stream",
     "text": [
      "['[日]冈岛二人', '罗翔', '[英]安娜·伯恩斯', '[挪威]托尔·海尔达尔', '甘耀明', '[英]哈里·科林斯', '[澳大利亚]格里高利·大卫·罗伯兹', '[美]菲利普·古雷维奇（PhilipGourevitch)', '西西', '[美]吴以义', '[英]露丝·韦尔', '[美]兰迪·胡特尔·爱泼斯坦', '【加】乔安娜·古德曼', '[俄]列夫·马诺维奇', '[美]科马克·麦卡锡', '[瑞士]汉斯·乌尔里希·奥布里斯特', '〔法〕让-克劳德·穆勒瓦', '[英]保罗·法兰奇', '[美]斯蒂芬·金', '[美]大卫·塞达里斯', '[美]安妮·普鲁', '田丰/林凯玄', '[英]斯蒂芬·弗莱（StephenFry）', '王明珂', '[智利]玛丽亚·路易莎·邦巴尔', '[美]罗友枝', '[法]埃尔韦·里谢编/[法]艾菲克斯绘', '[美]珍妮斯·A.拉德威', '赖香吟', '[英]亚当•尼科尔森著；[英]凯特•博克瑟绘', '[英]A·S·拜厄特', '左丘萌/末春', '[日]叶真中显', '[美]詹姆斯·纳雷摩尔', '淡豹', '[美]香奈儿·米勒', '[美]托马斯·品钦', '[美]安德烈娅·欧文/AndreaOwen', '[爱尔兰]席亚拉•格拉蒂', '[美]布赖恩·费根（BrianFagan）', '歪歪兔关键期早教项目组编绘', '[美]塔拉·韦斯特弗', '大J/卢俊', '太宰治', '麦家', '乔安娜柯尔著/布鲁斯迪根图', '张嘉佳', '[英]威廉·萨默塞特·毛姆', '阿兰德·丹姆文/亚历克斯·沃尔弗图', '山下英子']\n"
     ]
    }
   ],
   "source": [
    "output = []\n",
    "for obj in soup.select('div.author'):\n",
    "    output.append(re.sub(r'\\s','',obj.getText()))\n",
    "    \n",
    "print(output)\n",
    "# soup.select('div.author')[0].getText()"
   ]
  },
  {
   "cell_type": "code",
   "execution_count": 94,
   "metadata": {},
   "outputs": [
    {
     "name": "stdout",
     "output_type": "stream",
     "text": [
      "['https://book.douban.com/subject/34998166/?icn=index-latestbook-subject', 'https://book.douban.com/subject/35154591/?icn=index-latestbook-subject', 'https://book.douban.com/subject/34926039/?icn=index-latestbook-subject', 'https://book.douban.com/subject/35006761/?icn=index-latestbook-subject', 'https://book.douban.com/subject/35080704/?icn=index-latestbook-subject', 'https://book.douban.com/subject/35073029/?icn=index-latestbook-subject', 'https://book.douban.com/subject/35093979/?icn=index-latestbook-subject', 'https://book.douban.com/subject/35023969/?icn=index-latestbook-subject', 'https://book.douban.com/subject/35085896/?icn=index-latestbook-subject', 'https://book.douban.com/subject/34912095/?icn=index-latestbook-subject', 'https://book.douban.com/subject/35067595/?icn=index-latestbook-subject', 'https://book.douban.com/subject/35069819/?icn=index-latestbook-subject', 'https://book.douban.com/subject/35090798/?icn=index-latestbook-subject', 'https://book.douban.com/subject/35096966/?icn=index-latestbook-subject', 'https://book.douban.com/subject/35093992/?icn=index-latestbook-subject', 'https://book.douban.com/subject/35060894/?icn=index-latestbook-subject', 'https://book.douban.com/subject/35013040/?icn=index-latestbook-subject', 'https://book.douban.com/subject/35061771/?icn=index-latestbook-subject', 'https://book.douban.com/subject/35084590/?icn=index-latestbook-subject', 'https://book.douban.com/subject/35012939/?icn=index-latestbook-subject', 'https://book.douban.com/subject/34858994/?icn=index-latestbook-subject', 'https://book.douban.com/subject/35134022/?icn=index-latestbook-subject', 'https://book.douban.com/subject/35149238/?icn=index-latestbook-subject', 'https://book.douban.com/subject/35013931/?icn=index-latestbook-subject', 'https://book.douban.com/subject/34933440/?icn=index-latestbook-subject', 'https://book.douban.com/subject/34902755/?icn=index-latestbook-subject', 'https://book.douban.com/subject/35017088/?icn=index-latestbook-subject', 'https://book.douban.com/subject/35032242/?icn=index-latestbook-subject', 'https://book.douban.com/subject/35136072/?icn=index-latestbook-subject', 'https://book.douban.com/subject/35058674/?icn=index-latestbook-subject', 'https://book.douban.com/subject/35080696/?icn=index-latestbook-subject', 'https://book.douban.com/subject/35139915/?icn=index-latestbook-subject', 'https://book.douban.com/subject/35031587/?icn=index-latestbook-subject', 'https://book.douban.com/subject/35094702/?icn=index-latestbook-subject', 'https://book.douban.com/subject/35090811/?icn=index-latestbook-subject', 'https://book.douban.com/subject/35093999/?icn=index-latestbook-subject', 'https://book.douban.com/subject/35069474/?icn=index-latestbook-subject', 'https://book.douban.com/subject/35133888/?icn=index-latestbook-subject', 'https://book.douban.com/subject/35083208/?icn=index-latestbook-subject', 'https://book.douban.com/subject/34868019/?icn=index-latestbook-subject', 'https://book.douban.com/subject/35023731/?icn=index-topchart-subject', 'https://book.douban.com/subject/35092383/?icn=index-topchart-subject', 'https://book.douban.com/subject/35080870/?icn=index-topchart-subject', 'https://book.douban.com/subject/34942789/?icn=index-topchart-subject', 'https://book.douban.com/subject/35067527/?icn=index-topchart-subject', 'https://book.douban.com/subject/35081657/?icn=index-topchart-subject', 'https://book.douban.com/subject/35005098/?icn=index-topchart-subject', 'https://book.douban.com/subject/35025453/?icn=index-topchart-subject', 'https://book.douban.com/subject/35023261/?icn=index-topchart-subject', 'https://book.douban.com/subject/34998019/?icn=index-topchart-subject', 'https://market.douban.com/book/xuanwo?utm_campaign=book_freyr_section&utm_source=douban&utm_medium=pc_web', 'https://market.douban.com/book/gugong?utm_campaign=book_freyr_section&utm_source=douban&utm_medium=pc_web', 'https://market.douban.com/book/japannovel?utm_campaign=book_freyr_section&utm_source=douban&utm_medium=pc_web', 'https://market.douban.com/book/xixi?utm_campaign=book_freyr_section&utm_source=douban&utm_medium=pc_web', 'https://market.douban.com/book/modernart?utm_campaign=book_freyr_section&utm_source=douban&utm_medium=pc_web', 'https://market.douban.com/book/zhishen?utm_campaign=book_freyr_section&utm_source=douban&utm_medium=pc_web']\n"
     ]
    }
   ],
   "source": [
    "output = []\n",
    "#print(dir(soup.select('div.author')[0]))\n",
    "#print(soup.select('div.cover a'))\n",
    "for obj in soup.select('div.cover a'):\n",
    "    output.append(obj['href'])\n",
    "    \n",
    "print(output)\n",
    "# soup.select('div.author')[0].getText()"
   ]
  },
  {
   "cell_type": "markdown",
   "metadata": {},
   "source": [
    "---\n",
    "## 2.17 selenium\n",
    "selenium"
   ]
  },
  {
   "cell_type": "code",
   "execution_count": 1,
   "metadata": {},
   "outputs": [],
   "source": [
    "from selenium import webdriver"
   ]
  },
  {
   "cell_type": "raw",
   "metadata": {},
   "source": [
    "\n",
    "yum -y install fontconfig\n",
    "wget -P /tmp/ https://bitbucket.org/ariya/phantomjs/downloads/phantomjs-2.1.1-linux-x86_64.tar.bz2\n",
    " \n",
    "# 解压\n",
    "tar xjf /tmp/phantomjs-2.1.1-linux-x86_64.tar.bz2 -C /usr/local/\n",
    " \n",
    "# 重命名\n",
    "mv /usr/local/phantomjs-2.1.1-linux-x86_64 /usr/local/phantomjs\n",
    " \n",
    "# 建立软链接\n",
    "ln -s /usr/local/phantomjs/bin/phantomjs /usr/bin/\n",
    " \n"
   ]
  },
  {
   "cell_type": "code",
   "execution_count": 2,
   "metadata": {},
   "outputs": [
    {
     "name": "stderr",
     "output_type": "stream",
     "text": [
      "/usr/local/lib/python3.6/site-packages/selenium/webdriver/phantomjs/webdriver.py:49: UserWarning: Selenium support for PhantomJS has been deprecated, please use headless versions of Chrome or Firefox instead\n",
      "  warnings.warn('Selenium support for PhantomJS has been deprecated, please use headless '\n"
     ]
    },
    {
     "data": {
      "text/plain": [
       "True"
      ]
     },
     "execution_count": 2,
     "metadata": {},
     "output_type": "execute_result"
    }
   ],
   "source": [
    "driver = webdriver.PhantomJS()\n",
    "driver.get('http://wm-motor.com')\n",
    "driver.save_screenshot('123.png')"
   ]
  },
  {
   "cell_type": "markdown",
   "metadata": {},
   "source": [
    "---\n",
    "## 2.18 webbrowser\n",
    "\n"
   ]
  },
  {
   "cell_type": "code",
   "execution_count": 53,
   "metadata": {},
   "outputs": [
    {
     "data": {
      "text/plain": [
       "False"
      ]
     },
     "execution_count": 53,
     "metadata": {},
     "output_type": "execute_result"
    }
   ],
   "source": [
    "import webbrowser\n",
    "webbrowser.open(\"http://baidu.com\")"
   ]
  },
  {
   "cell_type": "markdown",
   "metadata": {},
   "source": [
    "---\n",
    "## 2.19 http.server\n",
    "\n",
    "构建局域网环境/本地服务器 2中为`simpleHTTPServer` 3中为`http.server`"
   ]
  },
  {
   "cell_type": "raw",
   "metadata": {},
   "source": [
    "#python2\n",
    "python -m SimpleHTTPServer 8080\n",
    "#python3\n",
    "python3 -m http.server 8000"
   ]
  },
  {
   "cell_type": "code",
   "execution_count": 54,
   "metadata": {},
   "outputs": [
    {
     "ename": "FileNotFoundError",
     "evalue": "[Errno 2] No such file or directory: './wm-order-screen'",
     "output_type": "error",
     "traceback": [
      "\u001b[0;31m---------------------------------------------------------------------------\u001b[0m",
      "\u001b[0;31mFileNotFoundError\u001b[0m                         Traceback (most recent call last)",
      "\u001b[0;32m<ipython-input-54-8f96501a7adc>\u001b[0m in \u001b[0;36m<module>\u001b[0;34m\u001b[0m\n\u001b[1;32m      4\u001b[0m \u001b[0;32mimport\u001b[0m \u001b[0mos\u001b[0m\u001b[0;34m\u001b[0m\u001b[0m\n\u001b[1;32m      5\u001b[0m \u001b[0;34m\u001b[0m\u001b[0m\n\u001b[0;32m----> 6\u001b[0;31m \u001b[0mos\u001b[0m\u001b[0;34m.\u001b[0m\u001b[0mchdir\u001b[0m\u001b[0;34m(\u001b[0m\u001b[0;34m'./wm-order-screen'\u001b[0m\u001b[0;34m)\u001b[0m\u001b[0;34m\u001b[0m\u001b[0m\n\u001b[0m\u001b[1;32m      7\u001b[0m \u001b[0mPORT\u001b[0m \u001b[0;34m=\u001b[0m \u001b[0;36m8000\u001b[0m\u001b[0;34m\u001b[0m\u001b[0m\n\u001b[1;32m      8\u001b[0m \u001b[0;34m\u001b[0m\u001b[0m\n",
      "\u001b[0;31mFileNotFoundError\u001b[0m: [Errno 2] No such file or directory: './wm-order-screen'"
     ]
    }
   ],
   "source": [
    "import http.server\n",
    "import socketserver\n",
    "import webbrowser\n",
    "import os\n",
    "\n",
    "os.chdir('./wm-order-screen')\n",
    "PORT = 8000\n",
    "\n",
    "Handler = http.server.SimpleHTTPRequestHandler\n",
    "webbrowser.open(\"http://localhost:8000/prscreen/officialM3/aggregation.html\")\n",
    "\n",
    "with socketserver.TCPServer((\"\", PORT), Handler) as httpd:\n",
    "    print(\"serving at port\", PORT)\n",
    "    httpd.serve_forever()\n"
   ]
  },
  {
   "cell_type": "markdown",
   "metadata": {},
   "source": [
    "---\n",
    "## 2.20 numpy\n",
    "\n",
    "1. 基础构造\n",
    "2. 切片索引与操作\n",
    "3. 函数\n",
    "4. 矩阵代数"
   ]
  },
  {
   "cell_type": "markdown",
   "metadata": {},
   "source": [
    "### 基础构造"
   ]
  },
  {
   "cell_type": "code",
   "execution_count": 12,
   "metadata": {},
   "outputs": [
    {
     "name": "stdout",
     "output_type": "stream",
     "text": [
      "[1 2 3]\n",
      "[[2 1]\n",
      " [2 2]]\n",
      "-----------------\n",
      "[[1. 1. 1.]\n",
      " [1. 1. 1.]]\n",
      "[[0. 0. 0.]\n",
      " [0. 0. 0.]]\n",
      "[[1. 1. 1.]\n",
      " [1. 1. 1.]]\n",
      "[1 2 3]\n",
      "-----------------\n",
      "[0 1 2 3 4]\n",
      "[ 1  3  5  7  9 11 13 15 17]\n"
     ]
    }
   ],
   "source": [
    "import numpy as np\n",
    "a = np.array([1,2,3])\n",
    "b = np.array([[2,1],[2,2]])\n",
    "print(a)\n",
    "print(b)\n",
    "\n",
    "print('-----------------')\n",
    "print(np.empty([2,3]))\n",
    "print(np.zeros([2,3]))\n",
    "print(np.ones([2,3]))\n",
    "print(np.asarray([1,2,3]))\n",
    "\n",
    "\n",
    "print('-----------------')\n",
    "print(np.arange(5))\n",
    "print(np.arange(1,19,2))"
   ]
  },
  {
   "cell_type": "code",
   "execution_count": 7,
   "metadata": {},
   "outputs": [
    {
     "name": "stdout",
     "output_type": "stream",
     "text": [
      "1 (3,) 3 int64\n",
      "2 (2, 2) 4 int64\n"
     ]
    }
   ],
   "source": [
    "print(a.ndim,a.shape,a.size,a.dtype)\n",
    "print(b.ndim,b.shape,b.size,b.dtype)"
   ]
  },
  {
   "cell_type": "markdown",
   "metadata": {},
   "source": [
    "### 切片索引与操作"
   ]
  },
  {
   "cell_type": "code",
   "execution_count": 17,
   "metadata": {},
   "outputs": [
    {
     "name": "stdout",
     "output_type": "stream",
     "text": [
      "[1 2 3]\n"
     ]
    }
   ],
   "source": [
    "a = np.arange(20)\n",
    "print(a[1:4])"
   ]
  },
  {
   "cell_type": "code",
   "execution_count": 18,
   "metadata": {},
   "outputs": [
    {
     "name": "stdout",
     "output_type": "stream",
     "text": [
      "[2 4 5]\n",
      "[3 4 5]\n",
      "[[2 3]\n",
      " [4 5]\n",
      " [5 6]]\n"
     ]
    }
   ],
   "source": [
    "a = np.array([[1,2,3],[3,4,5],[4,5,6]])  \n",
    "print (a[...,1])   # 第2列元素\n",
    "print (a[1,...])   # 第2行元素\n",
    "print (a[...,1:])   # 第2列及剩下的所有元素"
   ]
  },
  {
   "cell_type": "code",
   "execution_count": 20,
   "metadata": {},
   "outputs": [
    {
     "name": "stdout",
     "output_type": "stream",
     "text": [
      "[1 4 5]\n"
     ]
    }
   ],
   "source": [
    "x = np.array([[1,  2],  [3,  4],  [5,  6]]) \n",
    "y = x[[0,1,2],  [0,1,0]]  \n",
    "#(0,0) (1,1) (2,0)\n",
    "print (y)"
   ]
  },
  {
   "cell_type": "code",
   "execution_count": 32,
   "metadata": {},
   "outputs": [
    {
     "name": "stdout",
     "output_type": "stream",
     "text": [
      "[[0 1 2]\n",
      " [3 4 5]\n",
      " [6 7 8]]\n",
      "[0 1 2 3 4 5 6 7 8 7 8 9]\n",
      "[[0 1 2]\n",
      " [3 4 5]\n",
      " [6 7 8]\n",
      " [7 8 9]]\n",
      "[[0 1 2 7 8 9]\n",
      " [3 4 5 7 8 9]\n",
      " [6 7 8 7 8 9]]\n"
     ]
    }
   ],
   "source": [
    "a = np.arange(9).reshape(3,3) \n",
    "print(a)\n",
    "\n",
    "print (np.append(a, [[7,8,9]]))\n",
    "print (np.append(a, [[7,8,9]], axis =0))\n",
    "print (np.append(a, [[7,8,9],[7,8,9],[7,8,9]], axis =1))"
   ]
  },
  {
   "cell_type": "markdown",
   "metadata": {},
   "source": [
    "### 函数"
   ]
  },
  {
   "cell_type": "code",
   "execution_count": 40,
   "metadata": {},
   "outputs": [
    {
     "name": "stdout",
     "output_type": "stream",
     "text": [
      "2.0\n",
      "3.0\n",
      "1.4142135623730951\n",
      "2.0\n"
     ]
    }
   ],
   "source": [
    "# np.sin, np.cos, np.tan\n",
    "# np.around()\n",
    "# add()，subtract()，multiply() 和 divide()\n",
    "# amin(array,1) amax(array,1)\n",
    "# 均值\n",
    "print(np.mean(np.arange(5)))\n",
    "# 加权平均\n",
    "print(np.average(np.arange(5),weights =np.arange(5)) )\n",
    "print(np.std(np.arange(5)))\n",
    "print(np.var(np.arange(5)))"
   ]
  },
  {
   "cell_type": "code",
   "execution_count": 42,
   "metadata": {},
   "outputs": [
    {
     "name": "stdout",
     "output_type": "stream",
     "text": [
      "[[3 7]\n",
      " [9 1]]\n",
      "[[3 7]\n",
      " [1 9]]\n"
     ]
    }
   ],
   "source": [
    "a = np.array([[3,7],[9,1]])  \n",
    "print(a)\n",
    "print(np.sort(a))"
   ]
  },
  {
   "cell_type": "markdown",
   "metadata": {},
   "source": [
    "### 矩阵代数"
   ]
  },
  {
   "cell_type": "code",
   "execution_count": 49,
   "metadata": {},
   "outputs": [
    {
     "name": "stdout",
     "output_type": "stream",
     "text": [
      "[[3 7]\n",
      " [9 1]]\n",
      "[[3 9]\n",
      " [7 1]]\n",
      "[[-0.01666667  0.11666667]\n",
      " [ 0.15       -0.05      ]]\n",
      "[[72 28]\n",
      " [36 64]]\n",
      "[[1 2]\n",
      " [3 4]]\n",
      "[[-2.   1. ]\n",
      " [ 1.5 -0.5]]\n",
      "[[1.0000000e+00 0.0000000e+00]\n",
      " [8.8817842e-16 1.0000000e+00]]\n"
     ]
    }
   ],
   "source": [
    "print(a)\n",
    "print(a.T)\n",
    "print(np.linalg.inv(a))\n",
    "\n",
    "print(np.matmul(a,a))"
   ]
  },
  {
   "cell_type": "code",
   "execution_count": 52,
   "metadata": {},
   "outputs": [
    {
     "name": "stdout",
     "output_type": "stream",
     "text": [
      "数组 a：\n",
      "[[ 1  1  1]\n",
      " [ 0  2  5]\n",
      " [ 2  5 -1]]\n",
      "a 的逆：\n",
      "[[ 1.28571429 -0.28571429 -0.14285714]\n",
      " [-0.47619048  0.14285714  0.23809524]\n",
      " [ 0.19047619  0.14285714 -0.0952381 ]]\n",
      "矩阵 b：\n",
      "[[ 6]\n",
      " [-4]\n",
      " [27]]\n",
      "计算：A^(-1)B：\n",
      "[[ 5.]\n",
      " [ 3.]\n",
      " [-2.]]\n"
     ]
    },
    {
     "data": {
      "text/plain": [
       "array([[ 5.],\n",
       "       [ 3.],\n",
       "       [-2.]])"
      ]
     },
     "execution_count": 52,
     "metadata": {},
     "output_type": "execute_result"
    }
   ],
   "source": [
    "a = np.array([[1,1,1],[0,2,5],[2,5,-1]]) \n",
    " \n",
    "print ('数组 a：')\n",
    "print (a)\n",
    "ainv = np.linalg.inv(a) \n",
    " \n",
    "print ('a 的逆：')\n",
    "print (ainv)\n",
    " \n",
    "print ('矩阵 b：')\n",
    "b = np.array([[6],[-4],[27]]) \n",
    "print (b)\n",
    " \n",
    "print ('计算：A^(-1)B：')\n",
    "x = np.linalg.solve(a,b) \n",
    "print (x)\n",
    "# 这就是线性方向 x = 5, y = 3, z = -2 的解\n",
    "\n",
    "np.matmul(ainv,b)"
   ]
  },
  {
   "cell_type": "code",
   "execution_count": null,
   "metadata": {},
   "outputs": [],
   "source": []
  },
  {
   "cell_type": "code",
   "execution_count": null,
   "metadata": {},
   "outputs": [],
   "source": []
  },
  {
   "cell_type": "markdown",
   "metadata": {},
   "source": [
    "---\n",
    "## 2.2X \n",
    "\n",
    "一些知道但不想用的模块\n",
    "\n",
    "- 类似requests（所以可以不用）：\n",
    "    - httplib\n",
    "    - urllib\n",
    "    - urllib2\n",
    "\n",
    "- 爬虫框架（不如自己写）\n",
    "    - scrapy\n",
    "    - pyspider\n",
    "\n",
    "- 无头浏览器\n",
    "    - selenium"
   ]
  }
 ],
 "metadata": {
  "kernelspec": {
   "display_name": "Python 3",
   "language": "python",
   "name": "python3"
  },
  "language_info": {
   "codemirror_mode": {
    "name": "ipython",
    "version": 3
   },
   "file_extension": ".py",
   "mimetype": "text/x-python",
   "name": "python",
   "nbconvert_exporter": "python",
   "pygments_lexer": "ipython3",
   "version": "3.7.0"
  }
 },
 "nbformat": 4,
 "nbformat_minor": 4
}
