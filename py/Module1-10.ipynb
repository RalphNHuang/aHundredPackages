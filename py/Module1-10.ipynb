{
 "cells": [
  {
   "cell_type": "markdown",
   "metadata": {},
   "source": [
    "# Module1~10\n",
    "## 20200810-20200814\n",
    "\n",
    "1. os\n",
    "1. shutil\n",
    "1. copy\n",
    "1. sys\n",
    "1. time\n",
    "1. datetime\n",
    "1. calendar\n",
    "1. random \n",
    "1. math\n",
    "1. logging  "
   ]
  },
  {
   "cell_type": "markdown",
   "metadata": {},
   "source": [
    "---\n",
    "\n",
    "## 1.1 os\n",
    "os 模块提供了非常丰富的方法用来处理文件和目录。常用的方法如下表所示：\n",
    "\n",
    "- 工作路径类： `os.chdir(wd)` `os.getcwd()`\n",
    "- 文件列表类： `os.listdir(path)`\n",
    "- 文件处理类： `os.mkdir()` `os.rename()` `os.remove()` `os.removedirs()`\n",
    "- 系统类：`os.System()`"
   ]
  },
  {
   "cell_type": "code",
   "execution_count": 5,
   "metadata": {},
   "outputs": [
    {
     "name": "stdout",
     "output_type": "stream",
     "text": [
      "/data/python/tmp/ldw\n",
      "['output.xlsx', 'lixiang.xlsx', 'dtw路径聚类-Copy1.ipynb', '.ipynb_checkpoints', 'face', '市场报告-城市', '吉利几何数据.ipynb', 'Untitled.ipynb', 'dtw路径聚类.ipynb']\n",
      "0\n"
     ]
    }
   ],
   "source": [
    "import os\n",
    "print(os.getcwd())\n",
    "print(os.listdir())\n",
    "print(os.system('python3 -V'))\n",
    "\n",
    "\n",
    "# os.chdir(path)\n",
    "# os.getcwd()\n",
    "# os.listdir(path)\n",
    "# os.mkdir()\n",
    "# os.rename(src, dst)\n",
    "# os.remove(path)\n",
    "# os.removedirs(path)\n",
    "# os.system"
   ]
  },
  {
   "cell_type": "markdown",
   "metadata": {},
   "source": [
    "---\n",
    "\n",
    "## 1.2 shutil\n",
    "shutil提供一些高阶文件操作，主要为copy,move这类的功能，还可以保存文件的权限等\n",
    "\n",
    "- 复制移动类: `shutil.copy` `shutil.move`\n"
   ]
  },
  {
   "cell_type": "code",
   "execution_count": 7,
   "metadata": {},
   "outputs": [
    {
     "name": "stdout",
     "output_type": "stream",
     "text": [
      "['output2.xlsx', 'output.xlsx', 'lixiang.xlsx', 'dtw路径聚类-Copy1.ipynb', '.ipynb_checkpoints', 'face', '市场报告-城市', '吉利几何数据.ipynb', 'Untitled.ipynb', 'dtw路径聚类.ipynb']\n",
      "['output3.xlsx', 'output.xlsx', 'lixiang.xlsx', 'dtw路径聚类-Copy1.ipynb', '.ipynb_checkpoints', 'face', '市场报告-城市', '吉利几何数据.ipynb', 'Untitled.ipynb', 'dtw路径聚类.ipynb']\n",
      "['output.xlsx', 'lixiang.xlsx', 'dtw路径聚类-Copy1.ipynb', '.ipynb_checkpoints', 'face', '市场报告-城市', '吉利几何数据.ipynb', 'Untitled.ipynb', 'dtw路径聚类.ipynb']\n"
     ]
    }
   ],
   "source": [
    "import shutil\n",
    "shutil.copy('output.xlsx','output2.xlsx')\n",
    "print(os.listdir())\n",
    "shutil.move('output2.xlsx','output3.xlsx')\n",
    "print(os.listdir())\n",
    "os.remove('output3.xlsx')\n",
    "print(os.listdir())"
   ]
  },
  {
   "cell_type": "markdown",
   "metadata": {},
   "source": [
    "---\n",
    "\n",
    "## 1.3 copy\n",
    "copy提供复制相关函数 \n",
    "复杂的 object， 如 list 中套着 list 的情况，shallow copy 中的 子list，并未从原 object 真的「独立」出来。也就是说，如果你改变原 object 的子 list 中的一个元素，你的 copy 就会跟着一起变。这跟我们直觉上对「复制」的理解不同。\n",
    "\n",
    "- 浅复制 `copy.copy`\n",
    "- 深复制 `copy.deepcopy()`"
   ]
  },
  {
   "cell_type": "code",
   "execution_count": 30,
   "metadata": {},
   "outputs": [
    {
     "name": "stdout",
     "output_type": "stream",
     "text": [
      "[1, 2, ['hey!', 4]]\n",
      "[1, 2, ['hey!', 4]]\n",
      "[1, 2, [3, 4]]\n"
     ]
    }
   ],
   "source": [
    "import copy\n",
    "origin = [1, 2, [3, 4]]\n",
    "cop1 = copy.copy(origin)\n",
    "cop2 = copy.deepcopy(origin)\n",
    "cop1 == cop2\n",
    "True\n",
    "cop1 is cop2\n",
    "False \n",
    "#cop1 和 cop2 看上去相同，但已不再是同一个object\n",
    "origin[2][0] = \"hey!\" \n",
    "print(origin)\n",
    "\n",
    "print(cop1)\n",
    "\n",
    "print(cop2)\n",
    "\n",
    "#把origin内的子list [3, 4] 改掉了一个元素，观察 cop1 和 cop2"
   ]
  },
  {
   "cell_type": "markdown",
   "metadata": {},
   "source": [
    "---\n",
    "\n",
    "## 1.4 sys\n",
    "sys在使用脚本调用的时候可以方便的做参数处理等功能\n",
    "- 参数处理 `sys.argv`\n",
    "- 获取系统 `sys.platform`"
   ]
  },
  {
   "cell_type": "code",
   "execution_count": 12,
   "metadata": {},
   "outputs": [
    {
     "name": "stdout",
     "output_type": "stream",
     "text": [
      "linux\n",
      "['/usr/local/lib/python36.zip', '/usr/local/lib/python3.6', '/usr/local/lib/python3.6/lib-dynload', '', '/usr/local/lib/python3.6/site-packages', '/usr/local/lib/python3.6/site-packages/dlib-19.17.99-py3.6-linux-x86_64.egg', '/usr/local/lib/python3.6/site-packages/IPython/extensions', '/root/.ipython']\n"
     ]
    }
   ],
   "source": [
    "import sys\n",
    "#sys.argv()\n",
    "print(sys.platform)\n",
    "print(sys.path)"
   ]
  },
  {
   "cell_type": "markdown",
   "metadata": {},
   "source": [
    "---\n",
    "\n",
    "## 1.5 time\n",
    "\n",
    "Python 提供了一个 time 和 calendar 模块可以用于格式化日期和时间。\n",
    "\n",
    "时间间隔是以秒为单位的浮点小数。\n",
    "\n",
    "每个时间戳都以自从1970年1月1日午夜（历元）经过了多长时间来表示。\n",
    "- 时间获取`time.time()` `time.localtime()` `time.clock()`\n",
    "- 时间格式 `time.asctime` `time.shart` `time.strftime` `timestrptime`\n",
    "- 其他类 系统暂停`time.sleep()`\n",
    "\n",
    "\n",
    "- %y 两位数的年份表示（00-99）\n",
    "- %Y 四位数的年份表示（000-9999）\n",
    "- %m 月份（01-12）\n",
    "- %d 月内中的一天（0-31）\n",
    "- %H 24小时制小时数（0-23）\n",
    "- %I 12小时制小时数（01-12）\n",
    "- %M 分钟数（00-59）\n",
    "- %S 秒（00-59）\n",
    "- %a 本地简化星期名称\n",
    "- %A 本地完整星期名称\n",
    "- %b 本地简化的月份名称\n",
    "- %B 本地完整的月份名称\n",
    "- %c 本地相应的日期表示和时间表示\n",
    "- %j 年内的一天（001-366）\n",
    "- %p 本地A.M.或P.M.的等价符\n",
    "- %U 一年中的星期数（00-53）星期天为星期的开始\n",
    "- %w 星期（0-6），星期天为星期的开始\n",
    "- %W 一年中的星期数（00-53）星期一为星期的开始\n",
    "- %x 本地相应的日期表示\n",
    "- %X 本地相应的时间表示\n",
    "- %Z 当前时区的名称\n",
    "- %% %号本身"
   ]
  },
  {
   "cell_type": "code",
   "execution_count": 22,
   "metadata": {},
   "outputs": [
    {
     "name": "stdout",
     "output_type": "stream",
     "text": [
      "1597372070.739069\n",
      "time.struct_time(tm_year=2020, tm_mon=8, tm_mday=14, tm_hour=10, tm_min=27, tm_sec=50, tm_wday=4, tm_yday=227, tm_isdst=0)\n",
      "2020\n",
      "8\n",
      "14\n",
      "1.46\n"
     ]
    }
   ],
   "source": [
    "import time\n",
    "print(time.time())\n",
    "print(time.localtime())\n",
    "print(time.localtime().tm_year)\n",
    "print(time.localtime().tm_mon)\n",
    "print(time.localtime().tm_mday)\n",
    "print(time.clock()) # 系统CPU时间"
   ]
  },
  {
   "cell_type": "code",
   "execution_count": 24,
   "metadata": {},
   "outputs": [
    {
     "name": "stdout",
     "output_type": "stream",
     "text": [
      "Fri Aug 14 10:29:06 2020\n"
     ]
    }
   ],
   "source": [
    "#asctime: 可读时间格式\n",
    "localtime = time.asctime( time.localtime(time.time()) )\n",
    "print(localtime)"
   ]
  },
  {
   "cell_type": "markdown",
   "metadata": {},
   "source": [
    "- `strptime` 字符串转时间\n",
    "- `strftime` 时间转字符串\n",
    "- `mktime` 时间转时间戳"
   ]
  },
  {
   "cell_type": "code",
   "execution_count": 26,
   "metadata": {},
   "outputs": [
    {
     "name": "stdout",
     "output_type": "stream",
     "text": [
      "2020-08-14 10:30:18\n",
      "Fri Aug 14 10:30:18 2020\n",
      "1459175064.0\n"
     ]
    }
   ],
   "source": [
    "# 格式化成2016-03-20 11:45:39形式\n",
    "print( time.strftime(\"%Y-%m-%d %H:%M:%S\", time.localtime()) )\n",
    " \n",
    "# 格式化成Sat Mar 28 22:24:24 2016形式\n",
    "print( time.strftime(\"%a %b %d %H:%M:%S %Y\", time.localtime())) \n",
    "  \n",
    "# 将格式字符串转换为时间戳\n",
    "a = \"Sat Mar 28 22:24:24 2016\"\n",
    "print (time.mktime(time.strptime(a,\"%a %b %d %H:%M:%S %Y\")))"
   ]
  },
  {
   "cell_type": "code",
   "execution_count": 29,
   "metadata": {},
   "outputs": [],
   "source": [
    "time.sleep(1)"
   ]
  },
  {
   "cell_type": "markdown",
   "metadata": {},
   "source": [
    "---\n",
    "\n",
    "## 1.6 datetime \n",
    "- 制作日期对象 `datetime.date`\n",
    "    - `.year` `.month`等\n",
    "    - `datedelta`\n",
    "- 制作时间对象 `datetime.time`\n",
    "    - `.year` `.month`等\n",
    "    - `datedelta`\n"
   ]
  },
  {
   "cell_type": "code",
   "execution_count": 37,
   "metadata": {},
   "outputs": [
    {
     "name": "stdout",
     "output_type": "stream",
     "text": [
      "2020-08-14 2020 8\n"
     ]
    }
   ],
   "source": [
    "import datetime\n",
    "a = datetime.date.today()\n",
    "print(a,a.year,a.month)"
   ]
  },
  {
   "cell_type": "code",
   "execution_count": 36,
   "metadata": {},
   "outputs": [
    {
     "data": {
      "text/plain": [
       "datetime.timedelta(4)"
      ]
     },
     "execution_count": 36,
     "metadata": {},
     "output_type": "execute_result"
    }
   ],
   "source": [
    "b = datetime.date(2020,8,10)\n",
    "a-b"
   ]
  },
  {
   "cell_type": "code",
   "execution_count": 38,
   "metadata": {},
   "outputs": [
    {
     "name": "stdout",
     "output_type": "stream",
     "text": [
      "12:20:59.000899 12\n"
     ]
    }
   ],
   "source": [
    "a = datetime.time(12,20,59,899)\n",
    "print(a,a.hour)"
   ]
  },
  {
   "cell_type": "markdown",
   "metadata": {},
   "source": [
    "---\n",
    "\n",
    "## 1.7  calenda\n",
    "\n",
    "- 日期函数 `calendar.month`"
   ]
  },
  {
   "cell_type": "code",
   "execution_count": 46,
   "metadata": {},
   "outputs": [
    {
     "name": "stdout",
     "output_type": "stream",
     "text": [
      "    January 2016\n",
      "Sa Su Mo Tu We Th Fr\n",
      "                   1\n",
      " 2  3  4  5  6  7  8\n",
      " 9 10 11 12 13 14 15\n",
      "16 17 18 19 20 21 22\n",
      "23 24 25 26 27 28 29\n",
      "30 31\n",
      "\n",
      "None\n",
      "    January 2016\n",
      "Sa Su Mo Tu We Th Fr\n",
      "                   1\n",
      " 2  3  4  5  6  7  8\n",
      " 9 10 11 12 13 14 15\n",
      "16 17 18 19 20 21 22\n",
      "23 24 25 26 27 28 29\n",
      "30 31\n",
      "\n"
     ]
    }
   ],
   "source": [
    "import calendar\n",
    "cal = calendar.month(2016, 1)\n",
    "print(cal)\n",
    "\n",
    "print (calendar.setfirstweekday(5))\n",
    "cal = calendar.month(2016, 1)\n",
    "print(cal)"
   ]
  },
  {
   "cell_type": "markdown",
   "metadata": {},
   "source": [
    "---\n",
    "## 1.8 math\n",
    "\n",
    "没啥好说的\n",
    "- 三角函数 `sin`,`cos`,`tan`,`acos`,`asin`,`asinh`,`acos`,`acosh`,`atan`,`atanh`\n",
    "- 其他 `exp`,`inf`,`log`,`sqrt`,`pi`"
   ]
  },
  {
   "cell_type": "markdown",
   "metadata": {},
   "source": [
    "---\n",
    "## 1.9 random\n",
    "\n",
    "- 随机数种子 `random.seed`\n",
    "- 随机0-1 `random.random()`\n",
    "- 分布抽样：`random.gauss` ,`random.uniform`, `random.expovariate`, `random.`\n",
    "- 抽样 `random.choice` `random.sample` `random,shuffle`"
   ]
  },
  {
   "cell_type": "code",
   "execution_count": 90,
   "metadata": {},
   "outputs": [
    {
     "name": "stdout",
     "output_type": "stream",
     "text": [
      "随机抽样\n",
      "0.3405217408821978\n",
      "正态抽样\n",
      "36.26890940223777\n",
      "均匀\n",
      "-98.02989814640556\n",
      "[0, 1, 2, 3, 4, 5, 6, 7, 8, 9, 10, 11, 12, 13, 14, 15, 16, 17, 18, 19]\n",
      "抽一个\n",
      "4\n",
      "按权重抽多个\n",
      "[15, 2, 17, 15, 19, 11, 15, 16, 12, 13, 19, 18, 11, 9]\n",
      "打乱顺序\n",
      "[3, 9, 1, 16, 7, 13, 18, 11, 2, 4, 8, 19, 17, 0, 15, 12, 5, 6, 10, 14]\n"
     ]
    }
   ],
   "source": [
    "import random\n",
    "#random.seed(123)\n",
    "print('随机抽样')\n",
    "print(random.random())\n",
    "print('正态抽样')\n",
    "print(random.gauss(5,19))\n",
    "print('均匀')\n",
    "print(random.gauss(0,100))\n",
    "\n",
    "a = list(range(20))\n",
    "print(a)\n",
    "print('抽一个')\n",
    "print(random.choice(a))\n",
    "print('按权重抽多个')\n",
    "print(random.choices(a, weights = list(range(20)), k = 14))\n",
    "print('打乱顺序')\n",
    "random.shuffle(a)\n",
    "print(a)"
   ]
  },
  {
   "cell_type": "markdown",
   "metadata": {},
   "source": [
    "---\n",
    "## 1.10 logging\n",
    "\n",
    "日志打印的模块\n",
    "- 基本设置 `logging.basicConfig(level,format)`\n",
    "    - level: \n",
    "        - `logging.DEBUG` debug : 打印全部的日志,详细的信息,通常只出现在诊断问题上\n",
    "        - `logging.INFO` info : 打印info,warning,error,critical级别的日志,确认一切按预期运行\n",
    "        - `logging.WARNING` warning : 打印warning,error,critical级别的日志,一个迹象表明,一些意想不到的事情发生了,或表明一些问题在不久的将来(例如。磁盘空间低”),这个软件还能按预期工作\n",
    "        - `logging.ERROR` error : 打印error,critical级别的日志,更严重的问题,软件没能执行一些功能\n",
    "        - `logging.CRITICAL` critical : 打印critical级别,一个严重的错误,这表明程序本身可能无法继续运行\n",
    "    - format:\n",
    "        - %(levelno)s: 打印日志级别的数值\n",
    "        - %(levelname)s: 打印日志级别名称\n",
    "        - %(pathname)s: 打印当前执行程序的路径，其实就是sys.argv[0]\n",
    "        - %(filename)s: 打印当前执行程序名\n",
    "        - %(funcName)s: 打印日志的当前函数\n",
    "        - %(lineno)d: 打印日志的当前行号\n",
    "        - %(asctime)s: 打印日志的时间\n",
    "        - %(thread)d: 打印线程ID\n",
    "        - %(threadName)s: 打印线程名称\n",
    "        - %(process)d: 打印进程ID\n",
    "        - %(message)s: 打印日志信息\n",
    "- 创建文件输出链接 `logging.FileHandler`\n",
    "- 其他操作函数 `logger.addHandler`, `logger.removeHandler`, `logger.setLevel`,`logger.setFormat`"
   ]
  },
  {
   "cell_type": "code",
   "execution_count": 57,
   "metadata": {},
   "outputs": [
    {
     "name": "stderr",
     "output_type": "stream",
     "text": [
      "2020-08-14 13:57:34,831 - <ipython-input-57-6866a8da3961>[line:5] - INFO: this is a loggging info message\n",
      "2020-08-14 13:57:34,831 - <ipython-input-57-6866a8da3961>[line:6] - DEBUG: this is a loggging debug message\n",
      "2020-08-14 13:57:34,832 - <ipython-input-57-6866a8da3961>[line:7] - WARNING: this is loggging a warning message\n",
      "2020-08-14 13:57:34,833 - <ipython-input-57-6866a8da3961>[line:8] - ERROR: this is an loggging error message\n",
      "2020-08-14 13:57:34,833 - <ipython-input-57-6866a8da3961>[line:9] - CRITICAL: this is a loggging critical message\n"
     ]
    }
   ],
   "source": [
    "import logging  # 引入logging模块\n",
    "logging.basicConfig(level=logging.DEBUG,\n",
    "                    format='%(asctime)s - %(filename)s[line:%(lineno)d] - %(levelname)s: %(message)s')  # logging.basicConfig函数对日志的输出格式及方式做相关配置\n",
    "# 由于日志基本配置中级别设置为DEBUG，所以一下打印信息将会全部显示在控制台上\n",
    "logging.info('this is a loggging info message')\n",
    "logging.debug('this is a loggging debug message')\n",
    "logging.warning('this is loggging a warning message')\n",
    "logging.error('this is an loggging error message')\n",
    "logging.critical('this is a loggging critical message')"
   ]
  },
  {
   "cell_type": "code",
   "execution_count": 49,
   "metadata": {},
   "outputs": [],
   "source": [
    "\n",
    "import logging  # 引入logging模块\n",
    "import os.path\n",
    "import time\n",
    "# 第一步，创建一个logger\n",
    "logger = logging.getLogger()\n",
    "logger.setLevel(logging.INFO)  # Log等级总开关\n",
    "# 第二步，创建一个handler，用于写入日志文件\n",
    "rq = time.strftime('%Y%m%d%H%M', time.localtime(time.time()))\n",
    "log_path = os.path.dirname(os.getcwd()) \n",
    "log_name = log_path + rq + '.log'\n",
    "logfile = log_name\n",
    "fh = logging.FileHandler(logfile, mode='w')\n",
    "fh.setLevel(logging.DEBUG)  # 输出到file的log等级的开关\n",
    "# 第三步，定义handler的输出格式\n",
    "formatter = logging.Formatter(\"%(asctime)s - %(filename)s[line:%(lineno)d] - %(levelname)s: %(message)s\")\n",
    "fh.setFormatter(formatter)\n",
    "# 第四步，将logger添加到handler里面\n",
    "logger.addHandler(fh)\n",
    "# 日志\n",
    "logger.debug('this is a logger debug message')\n",
    "logger.info('this is a logger info message')\n",
    "logger.warning('this is a logger warning message')\n",
    "logger.error('this is a logger error message')\n",
    "logger.critical('this is a logger critical message')\n",
    "logger.removeHandler(fh)"
   ]
  },
  {
   "cell_type": "markdown",
   "metadata": {},
   "source": [
    "2020-08-14 13:48:33,715 - <ipython-input-49-ef29134fea0f>[line:22] - INFO: this is a logger info message\n",
    "2020-08-14 13:48:33,715 - <ipython-input-49-ef29134fea0f>[line:23] - WARNING: this is a logger warning message\n",
    "2020-08-14 13:48:33,715 - <ipython-input-49-ef29134fea0f>[line:24] - ERROR: this is a logger error message\n",
    "2020-08-14 13:48:33,715 - <ipython-input-49-ef29134fea0f>[line:25] - CRITICAL: this is a logger critical message"
   ]
  },
  {
   "cell_type": "code",
   "execution_count": 56,
   "metadata": {},
   "outputs": [],
   "source": [
    "\n"
   ]
  }
 ],
 "metadata": {
  "kernelspec": {
   "display_name": "Python 3",
   "language": "python",
   "name": "python3"
  },
  "language_info": {
   "codemirror_mode": {
    "name": "ipython",
    "version": 3
   },
   "file_extension": ".py",
   "mimetype": "text/x-python",
   "name": "python",
   "nbconvert_exporter": "python",
   "pygments_lexer": "ipython3",
   "version": "3.7.0"
  }
 },
 "nbformat": 4,
 "nbformat_minor": 4
}
