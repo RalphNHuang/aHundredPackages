{
 "cells": [
  {
   "cell_type": "markdown",
   "metadata": {},
   "source": [
    "# Module51-60\n",
    "## 20200915-20200920\n",
    "\n",
    "1. sklearn\n",
    "1. graphviz\n",
    "1. xgboost\n",
    "1. lightgbm\n",
    "1. tpot\n",
    "1. mlbox\n",
    "1. imbanlanced-learn\n",
    "1. tsfresh\n",
    "1. featuretools\n",
    "1. networkx"
   ]
  },
  {
   "cell_type": "code",
   "execution_count": null,
   "metadata": {},
   "outputs": [],
   "source": []
  },
  {
   "cell_type": "markdown",
   "metadata": {},
   "source": [
    "## 6.51 sklearn"
   ]
  },
  {
   "cell_type": "markdown",
   "metadata": {},
   "source": [
    "### Part1 Examples"
   ]
  },
  {
   "cell_type": "code",
   "execution_count": 3,
   "metadata": {},
   "outputs": [
    {
     "data": {
      "text/plain": [
       "RandomForestClassifier(random_state=0)"
      ]
     },
     "execution_count": 3,
     "metadata": {},
     "output_type": "execute_result"
    }
   ],
   "source": [
    "from sklearn.ensemble import RandomForestClassifier\n",
    "clf = RandomForestClassifier(random_state=0)\n",
    "X = [[ 1,  2,  3],  # 2 samples, 3 features\n",
    "     [11, 12, 13]]\n",
    "y = [0, 1]  # classes of each sample\n",
    "clf.fit(X, y)\n",
    "RandomForestClassifier(random_state=0)"
   ]
  },
  {
   "cell_type": "code",
   "execution_count": 4,
   "metadata": {},
   "outputs": [
    {
     "data": {
      "text/plain": [
       "array([0, 1])"
      ]
     },
     "execution_count": 4,
     "metadata": {},
     "output_type": "execute_result"
    }
   ],
   "source": [
    "clf.predict(X)  # predict classes of the training data\n",
    "\n",
    "clf.predict([[4, 5, 6], [14, 15, 16]])  # predict classes of new data\n"
   ]
  },
  {
   "cell_type": "code",
   "execution_count": null,
   "metadata": {},
   "outputs": [],
   "source": []
  },
  {
   "cell_type": "code",
   "execution_count": 8,
   "metadata": {},
   "outputs": [
    {
     "data": {
      "text/plain": [
       "0.9736842105263158"
      ]
     },
     "execution_count": 8,
     "metadata": {},
     "output_type": "execute_result"
    }
   ],
   "source": [
    "from sklearn.preprocessing import StandardScaler\n",
    "from sklearn.linear_model import LogisticRegression\n",
    "from sklearn.pipeline import make_pipeline\n",
    "from sklearn.datasets import load_iris\n",
    "from sklearn.model_selection import train_test_split\n",
    "from sklearn.metrics import accuracy_score\n",
    "\n",
    "# create a pipeline object\n",
    "pipe = make_pipeline(\n",
    "    StandardScaler(),\n",
    "    LogisticRegression(random_state=0)\n",
    ")\n",
    "# load the iris dataset and split it into train and test sets\n",
    "X, y = load_iris(return_X_y=True)\n",
    "X_train, X_test, y_train, y_test = train_test_split(X, y, random_state=0)\n",
    "# fit the whole pipeline\n",
    "pipe.fit(X_train, y_train)\n",
    "\n",
    "# we can now use it like any other estimator\n",
    "accuracy_score(pipe.predict(X_test), y_test)\n"
   ]
  },
  {
   "cell_type": "code",
   "execution_count": null,
   "metadata": {},
   "outputs": [],
   "source": []
  },
  {
   "cell_type": "code",
   "execution_count": null,
   "metadata": {},
   "outputs": [],
   "source": []
  },
  {
   "cell_type": "code",
   "execution_count": 11,
   "metadata": {},
   "outputs": [
    {
     "name": "stdout",
     "output_type": "stream",
     "text": [
      "{'max_depth': 9, 'n_estimators': 4}\n"
     ]
    },
    {
     "data": {
      "text/plain": [
       "0.735363411343253"
      ]
     },
     "execution_count": 11,
     "metadata": {},
     "output_type": "execute_result"
    }
   ],
   "source": [
    "from sklearn.datasets import fetch_california_housing\n",
    "from sklearn.ensemble import RandomForestRegressor\n",
    "from sklearn.model_selection import RandomizedSearchCV\n",
    "from sklearn.model_selection import train_test_split\n",
    "from scipy.stats import randint\n",
    "X, y = fetch_california_housing(return_X_y=True)\n",
    "X_train, X_test, y_train, y_test = train_test_split(X, y, random_state=0)\n",
    "\n",
    "# define the parameter space that will be searched over\n",
    "param_distributions = {'n_estimators': randint(1, 5),\n",
    "                        'max_depth': randint(5, 10)}\n",
    "\n",
    "# now create a searchCV object and fit it to the data\n",
    "search = RandomizedSearchCV(estimator=RandomForestRegressor(random_state=0),\n",
    "                             n_iter=5,\n",
    "                             param_distributions=param_distributions,\n",
    "                             random_state=0)\n",
    "search.fit(X_train, y_train)\n",
    "RandomizedSearchCV(estimator=RandomForestRegressor(random_state=0), n_iter=5,\n",
    "                   param_distributions={'max_depth': ...,\n",
    "                                        'n_estimators': ...},\n",
    "                   random_state=0)\n",
    "print(search.best_params_)\n",
    "#{'max_depth': 9, 'n_estimators': 4}\n",
    "\n",
    "# the search object now acts like a normal random forest estimator\n",
    "# with max_depth=9 and n_estimators=4\n",
    "search.score(X_test, y_test)\n"
   ]
  },
  {
   "cell_type": "markdown",
   "metadata": {},
   "source": [
    "### Part2 各类算法工具导入"
   ]
  },
  {
   "cell_type": "code",
   "execution_count": null,
   "metadata": {},
   "outputs": [],
   "source": [
    "\n",
    "# Linear Regression\n",
    "from sklearn.linear_model import LinearRegression\n",
    "lr = LinearRegression(normalize=True)\n",
    "\n",
    "# Logistic Regression\n",
    "from sklearn.linear_model import LogisticRegression\n",
    "clf_l1_LR = LogisticRegression(C=C, penalty='l1', tol=0.01, solver='saga')\n",
    "\n",
    "# lasso\n",
    "from sklearn.linear_model import lasso\n",
    "ls = lasso(alpha=0.1)\n",
    "\n",
    "# elastic-net\n",
    "from sklearn.linear_model import ElasticNet\n",
    "en = ElasticNet(alpha=0.1, l1_ratio=0.7)\n",
    "\n",
    "# knn\n",
    "from sklearn.neighbors import KNeighborsClassifier\n",
    "knn = KNeighborsClassifier(n_neighbors= 5)\n",
    "\n",
    "# Naive Bayes\n",
    "from sklearn.naive_bayes import GaussianNB\n",
    "gnb = GaussianNB()\n",
    "\n",
    "# svm\n",
    "from sklearn.svm import SVC\n",
    "svc = SVC(kernel='linear')\n",
    "\n",
    "# cart\n",
    "from sklearn.tree import DecisionTreeClassifier\n",
    "clf = DecisionTreeClassifier()\n",
    "\n",
    "# randomforest\n",
    "from sklearn.ensemble import RandomForestClassifier\n",
    "rf = RandomForestClassifier(n_estimators=10)\n",
    "\n",
    "\n",
    "# adab\n",
    "from sklearn.ensemble import AdaBoostClassifier\n",
    "ab = AdaBoostClassifier(n_estimators=100)\n",
    "\n",
    "# GBM\n",
    "from sklearn.ensemble import GradientBoostingClassifier\n",
    "gb = GradientBoostingClassifier(n_estimators=100, learning_rate=1.0,\n",
    "                                max_depth=1, random_state=0)\n",
    "\n",
    "# kmeans\n",
    "from sklearn.cluster import KMeans\n",
    "km = kmeans = KMeans(n_clusters=2, random_state=0)\n",
    "\n",
    "#DBSCAN\n",
    "from sklearn.cluster import DBSCAN\n",
    "dbscan = DBSCAN(eps=3, min_samples=2)"
   ]
  },
  {
   "cell_type": "markdown",
   "metadata": {},
   "source": [
    "### Part3 cv"
   ]
  },
  {
   "cell_type": "code",
   "execution_count": 12,
   "metadata": {},
   "outputs": [
    {
     "data": {
      "text/plain": [
       "((150, 4), (150,))"
      ]
     },
     "execution_count": 12,
     "metadata": {},
     "output_type": "execute_result"
    }
   ],
   "source": [
    "# train/test\n",
    "import numpy as np\n",
    "from sklearn.model_selection import train_test_split\n",
    "from sklearn import datasets\n",
    "from sklearn import svm\n",
    "\n",
    "X, y = datasets.load_iris(return_X_y=True)\n",
    "X.shape, y.shape\n"
   ]
  },
  {
   "cell_type": "code",
   "execution_count": 13,
   "metadata": {},
   "outputs": [
    {
     "name": "stdout",
     "output_type": "stream",
     "text": [
      "(90, 4) (90,)\n",
      "(60, 4) (60,)\n"
     ]
    },
    {
     "data": {
      "text/plain": [
       "0.9666666666666667"
      ]
     },
     "execution_count": 13,
     "metadata": {},
     "output_type": "execute_result"
    }
   ],
   "source": [
    "X_train, X_test, y_train, y_test = train_test_split(\n",
    "    X, y, test_size=0.4, random_state=0)\n",
    "\n",
    "print(X_train.shape, y_train.shape)\n",
    "\n",
    "print(X_test.shape, y_test.shape)\n",
    "\n",
    "\n",
    "clf = svm.SVC(kernel='linear', C=1).fit(X_train, y_train)\n",
    "clf.score(X_test, y_test)"
   ]
  },
  {
   "cell_type": "code",
   "execution_count": null,
   "metadata": {},
   "outputs": [],
   "source": [
    "# k-fold-CV"
   ]
  },
  {
   "cell_type": "code",
   "execution_count": 14,
   "metadata": {},
   "outputs": [
    {
     "data": {
      "text/plain": [
       "array([0.96666667, 1.        , 0.96666667, 0.96666667, 1.        ])"
      ]
     },
     "execution_count": 14,
     "metadata": {},
     "output_type": "execute_result"
    }
   ],
   "source": [
    "from sklearn.model_selection import cross_val_score\n",
    "clf = svm.SVC(kernel='linear', C=1)\n",
    "scores = cross_val_score(clf, X, y, cv=5)\n",
    "scores\n"
   ]
  },
  {
   "cell_type": "code",
   "execution_count": null,
   "metadata": {},
   "outputs": [],
   "source": [
    "### Part4 模型评价"
   ]
  },
  {
   "cell_type": "code",
   "execution_count": 15,
   "metadata": {},
   "outputs": [
    {
     "data": {
      "text/plain": [
       "array([[2, 0, 0],\n",
       "       [0, 0, 1],\n",
       "       [1, 0, 2]])"
      ]
     },
     "execution_count": 15,
     "metadata": {},
     "output_type": "execute_result"
    }
   ],
   "source": [
    "from sklearn.metrics import confusion_matrix\n",
    "y_true = [2, 0, 2, 2, 0, 1]\n",
    "y_pred = [0, 0, 2, 2, 0, 2]\n",
    "confusion_matrix(y_true, y_pred)"
   ]
  },
  {
   "cell_type": "code",
   "execution_count": 18,
   "metadata": {},
   "outputs": [
    {
     "name": "stdout",
     "output_type": "stream",
     "text": [
      "              precision    recall  f1-score   support\n",
      "\n",
      "     class 0       0.67      1.00      0.80         2\n",
      "     class 1       0.00      0.00      0.00         1\n",
      "     class 2       0.67      0.67      0.67         3\n",
      "\n",
      "    accuracy                           0.67         6\n",
      "   macro avg       0.44      0.56      0.49         6\n",
      "weighted avg       0.56      0.67      0.60         6\n",
      "\n"
     ]
    }
   ],
   "source": [
    "from sklearn.metrics import classification_report\n",
    "target_names = ['class 0', 'class 1', 'class 2']\n",
    "print(classification_report(y_true, y_pred,target_names=target_names))"
   ]
  },
  {
   "cell_type": "code",
   "execution_count": 30,
   "metadata": {},
   "outputs": [
    {
     "data": {
      "image/png": "[encoded data removed]",
      "text/plain": [
       "<Figure size 432x288 with 1 Axes>"
      ]
     },
     "metadata": {
      "needs_background": "light"
     },
     "output_type": "display_data"
    }
   ],
   "source": [
    "from sklearn.model_selection import train_test_split\n",
    "from sklearn.svm import SVC\n",
    "from sklearn.metrics import plot_roc_curve\n",
    "from sklearn.datasets import load_wine\n",
    "X, y = load_breast_cancer(return_X_y=True)\n",
    "X_train, X_test, y_train, y_test = train_test_split(X, y, random_state=42)\n",
    "svc = SVC(random_state=42)\n",
    "svc.fit(X_train, y_train)\n",
    "\n",
    "svc_disp = plot_roc_curve(svc, X_test, y_test)"
   ]
  },
  {
   "cell_type": "code",
   "execution_count": 31,
   "metadata": {},
   "outputs": [
    {
     "data": {
      "text/plain": [
       "<sklearn.metrics._plot.roc_curve.RocCurveDisplay at 0x7ff3b7fca0b8>"
      ]
     },
     "execution_count": 31,
     "metadata": {},
     "output_type": "execute_result"
    },
    {
     "data": {
      "image/png": "[encoded data removed]",
      "text/plain": [
       "<Figure size 432x288 with 1 Axes>"
      ]
     },
     "metadata": {
      "needs_background": "light"
     },
     "output_type": "display_data"
    }
   ],
   "source": [
    "import matplotlib.pyplot as plt\n",
    "from sklearn.ensemble import RandomForestClassifier\n",
    "from sklearn.datasets import load_breast_cancer\n",
    "\n",
    "X, y = load_breast_cancer(return_X_y=True)\n",
    "\n",
    "rfc = RandomForestClassifier(random_state=42)\n",
    "rfc.fit(X_train, y_train)\n",
    "\n",
    "ax = plt.gca()\n",
    "rfc_disp = plot_roc_curve(rfc, X_test, y_test, ax=ax, alpha=0.8)\n",
    "svc_disp.plot(ax=ax, alpha=0.8)"
   ]
  },
  {
   "cell_type": "markdown",
   "metadata": {},
   "source": [
    "---\n",
    "## 6.52 grathviz"
   ]
  },
  {
   "cell_type": "code",
   "execution_count": 36,
   "metadata": {},
   "outputs": [],
   "source": [
    "from sklearn import tree\n",
    "X, y = load_iris(return_X_y=True)\n",
    "clf = tree.DecisionTreeClassifier()\n",
    "clf = clf.fit(X, y)"
   ]
  },
  {
   "cell_type": "code",
   "execution_count": 38,
   "metadata": {},
   "outputs": [
    {
     "data": {
      "image/svg+xml": [
       "<?xml version=\"1.0\" encoding=\"UTF-8\" standalone=\"no\"?>\n",
       "<!DOCTYPE svg PUBLIC \"-//W3C//DTD SVG 1.1//EN\"\n",
       " \"http://www.w3.org/Graphics/SVG/1.1/DTD/svg11.dtd\">\n",
       "<!-- Generated by graphviz version 2.30.1 (20180420.1509)\n",
       " -->\n",
       "<!-- Title: Tree Pages: 1 -->\n",
       "<svg width=\"748pt\" height=\"582pt\"\n",
       " viewBox=\"0.00 0.00 748.00 582.00\" xmlns=\"http://www.w3.org/2000/svg\" xmlns:xlink=\"http://www.w3.org/1999/xlink\">\n",
       "<g id=\"graph0\" class=\"graph\" transform=\"scale(1 1) rotate(0) translate(4 578)\">\n",
       "<title>Tree</title>\n",
       "<polygon fill=\"white\" stroke=\"white\" points=\"-4,5 -4,-578 745,-578 745,5 -4,5\"/>\n",
       "<!-- 0 -->\n",
       "<g id=\"node1\" class=\"node\"><title>0</title>\n",
       "<polygon fill=\"none\" stroke=\"black\" points=\"459,-574 333,-574 333,-506 459,-506 459,-574\"/>\n",
       "<text text-anchor=\"middle\" x=\"396\" y=\"-558.8\" font-family=\"Times,serif\" font-size=\"14.00\">X[3] &lt;= 0.8</text>\n",
       "<text text-anchor=\"middle\" x=\"396\" y=\"-543.8\" font-family=\"Times,serif\" font-size=\"14.00\">gini = 0.667</text>\n",
       "<text text-anchor=\"middle\" x=\"396\" y=\"-528.8\" font-family=\"Times,serif\" font-size=\"14.00\">samples = 150</text>\n",
       "<text text-anchor=\"middle\" x=\"396\" y=\"-513.8\" font-family=\"Times,serif\" font-size=\"14.00\">value = [50, 50, 50]</text>\n",
       "</g>\n",
       "<!-- 1 -->\n",
       "<g id=\"node2\" class=\"node\"><title>1</title>\n",
       "<polygon fill=\"none\" stroke=\"black\" points=\"385.25,-462.5 272.75,-462.5 272.75,-409.5 385.25,-409.5 385.25,-462.5\"/>\n",
       "<text text-anchor=\"middle\" x=\"329\" y=\"-447.3\" font-family=\"Times,serif\" font-size=\"14.00\">gini = 0.0</text>\n",
       "<text text-anchor=\"middle\" x=\"329\" y=\"-432.3\" font-family=\"Times,serif\" font-size=\"14.00\">samples = 50</text>\n",
       "<text text-anchor=\"middle\" x=\"329\" y=\"-417.3\" font-family=\"Times,serif\" font-size=\"14.00\">value = [50, 0, 0]</text>\n",
       "</g>\n",
       "<!-- 0&#45;&gt;1 -->\n",
       "<g id=\"edge1\" class=\"edge\"><title>0&#45;&gt;1</title>\n",
       "<path fill=\"none\" stroke=\"black\" d=\"M374.247,-505.884C366.951,-494.776 358.803,-482.372 351.454,-471.184\"/>\n",
       "<polygon fill=\"black\" stroke=\"black\" points=\"354.179,-468.957 345.763,-462.52 348.328,-472.8 354.179,-468.957\"/>\n",
       "<text text-anchor=\"middle\" x=\"340.693\" y=\"-483.3\" font-family=\"Times,serif\" font-size=\"14.00\">True</text>\n",
       "</g>\n",
       "<!-- 2 -->\n",
       "<g id=\"node3\" class=\"node\"><title>2</title>\n",
       "<polygon fill=\"none\" stroke=\"black\" points=\"522.25,-470 403.75,-470 403.75,-402 522.25,-402 522.25,-470\"/>\n",
       "<text text-anchor=\"middle\" x=\"463\" y=\"-454.8\" font-family=\"Times,serif\" font-size=\"14.00\">X[3] &lt;= 1.75</text>\n",
       "<text text-anchor=\"middle\" x=\"463\" y=\"-439.8\" font-family=\"Times,serif\" font-size=\"14.00\">gini = 0.5</text>\n",
       "<text text-anchor=\"middle\" x=\"463\" y=\"-424.8\" font-family=\"Times,serif\" font-size=\"14.00\">samples = 100</text>\n",
       "<text text-anchor=\"middle\" x=\"463\" y=\"-409.8\" font-family=\"Times,serif\" font-size=\"14.00\">value = [0, 50, 50]</text>\n",
       "</g>\n",
       "<!-- 0&#45;&gt;2 -->\n",
       "<g id=\"edge2\" class=\"edge\"><title>0&#45;&gt;2</title>\n",
       "<path fill=\"none\" stroke=\"black\" d=\"M417.753,-505.884C423.428,-497.243 429.619,-487.819 435.548,-478.793\"/>\n",
       "<polygon fill=\"black\" stroke=\"black\" points=\"438.562,-480.579 441.127,-470.299 432.711,-476.736 438.562,-480.579\"/>\n",
       "<text text-anchor=\"middle\" x=\"446.197\" y=\"-491.08\" font-family=\"Times,serif\" font-size=\"14.00\">False</text>\n",
       "</g>\n",
       "<!-- 3 -->\n",
       "<g id=\"node4\" class=\"node\"><title>3</title>\n",
       "<polygon fill=\"none\" stroke=\"black\" points=\"425.25,-366 312.75,-366 312.75,-298 425.25,-298 425.25,-366\"/>\n",
       "<text text-anchor=\"middle\" x=\"369\" y=\"-350.8\" font-family=\"Times,serif\" font-size=\"14.00\">X[2] &lt;= 4.95</text>\n",
       "<text text-anchor=\"middle\" x=\"369\" y=\"-335.8\" font-family=\"Times,serif\" font-size=\"14.00\">gini = 0.168</text>\n",
       "<text text-anchor=\"middle\" x=\"369\" y=\"-320.8\" font-family=\"Times,serif\" font-size=\"14.00\">samples = 54</text>\n",
       "<text text-anchor=\"middle\" x=\"369\" y=\"-305.8\" font-family=\"Times,serif\" font-size=\"14.00\">value = [0, 49, 5]</text>\n",
       "</g>\n",
       "<!-- 2&#45;&gt;3 -->\n",
       "<g id=\"edge3\" class=\"edge\"><title>2&#45;&gt;3</title>\n",
       "<path fill=\"none\" stroke=\"black\" d=\"M432.481,-401.884C424.19,-392.887 415.116,-383.041 406.488,-373.678\"/>\n",
       "<polygon fill=\"black\" stroke=\"black\" points=\"409.038,-371.281 399.688,-366.299 403.891,-376.025 409.038,-371.281\"/>\n",
       "</g>\n",
       "<!-- 12 -->\n",
       "<g id=\"node13\" class=\"node\"><title>12</title>\n",
       "<polygon fill=\"none\" stroke=\"black\" points=\"612.25,-366 499.75,-366 499.75,-298 612.25,-298 612.25,-366\"/>\n",
       "<text text-anchor=\"middle\" x=\"556\" y=\"-350.8\" font-family=\"Times,serif\" font-size=\"14.00\">X[2] &lt;= 4.85</text>\n",
       "<text text-anchor=\"middle\" x=\"556\" y=\"-335.8\" font-family=\"Times,serif\" font-size=\"14.00\">gini = 0.043</text>\n",
       "<text text-anchor=\"middle\" x=\"556\" y=\"-320.8\" font-family=\"Times,serif\" font-size=\"14.00\">samples = 46</text>\n",
       "<text text-anchor=\"middle\" x=\"556\" y=\"-305.8\" font-family=\"Times,serif\" font-size=\"14.00\">value = [0, 1, 45]</text>\n",
       "</g>\n",
       "<!-- 2&#45;&gt;12 -->\n",
       "<g id=\"edge12\" class=\"edge\"><title>2&#45;&gt;12</title>\n",
       "<path fill=\"none\" stroke=\"black\" d=\"M493.194,-401.884C501.316,-392.976 510.197,-383.235 518.657,-373.957\"/>\n",
       "<polygon fill=\"black\" stroke=\"black\" points=\"521.488,-376.047 525.639,-366.299 516.315,-371.331 521.488,-376.047\"/>\n",
       "</g>\n",
       "<!-- 4 -->\n",
       "<g id=\"node5\" class=\"node\"><title>4</title>\n",
       "<polygon fill=\"none\" stroke=\"black\" points=\"240.25,-262 127.75,-262 127.75,-194 240.25,-194 240.25,-262\"/>\n",
       "<text text-anchor=\"middle\" x=\"184\" y=\"-246.8\" font-family=\"Times,serif\" font-size=\"14.00\">X[3] &lt;= 1.65</text>\n",
       "<text text-anchor=\"middle\" x=\"184\" y=\"-231.8\" font-family=\"Times,serif\" font-size=\"14.00\">gini = 0.041</text>\n",
       "<text text-anchor=\"middle\" x=\"184\" y=\"-216.8\" font-family=\"Times,serif\" font-size=\"14.00\">samples = 48</text>\n",
       "<text text-anchor=\"middle\" x=\"184\" y=\"-201.8\" font-family=\"Times,serif\" font-size=\"14.00\">value = [0, 47, 1]</text>\n",
       "</g>\n",
       "<!-- 3&#45;&gt;4 -->\n",
       "<g id=\"edge4\" class=\"edge\"><title>3&#45;&gt;4</title>\n",
       "<path fill=\"none\" stroke=\"black\" d=\"M312.74,-299.981C292.649,-288.904 269.848,-276.332 249.075,-264.879\"/>\n",
       "<polygon fill=\"black\" stroke=\"black\" points=\"250.758,-261.81 240.311,-260.047 247.378,-267.94 250.758,-261.81\"/>\n",
       "</g>\n",
       "<!-- 7 -->\n",
       "<g id=\"node8\" class=\"node\"><title>7</title>\n",
       "<polygon fill=\"none\" stroke=\"black\" points=\"422,-262 316,-262 316,-194 422,-194 422,-262\"/>\n",
       "<text text-anchor=\"middle\" x=\"369\" y=\"-246.8\" font-family=\"Times,serif\" font-size=\"14.00\">X[3] &lt;= 1.55</text>\n",
       "<text text-anchor=\"middle\" x=\"369\" y=\"-231.8\" font-family=\"Times,serif\" font-size=\"14.00\">gini = 0.444</text>\n",
       "<text text-anchor=\"middle\" x=\"369\" y=\"-216.8\" font-family=\"Times,serif\" font-size=\"14.00\">samples = 6</text>\n",
       "<text text-anchor=\"middle\" x=\"369\" y=\"-201.8\" font-family=\"Times,serif\" font-size=\"14.00\">value = [0, 2, 4]</text>\n",
       "</g>\n",
       "<!-- 3&#45;&gt;7 -->\n",
       "<g id=\"edge7\" class=\"edge\"><title>3&#45;&gt;7</title>\n",
       "<path fill=\"none\" stroke=\"black\" d=\"M369,-297.884C369,-289.778 369,-280.982 369,-272.472\"/>\n",
       "<polygon fill=\"black\" stroke=\"black\" points=\"372.5,-272.299 369,-262.299 365.5,-272.299 372.5,-272.299\"/>\n",
       "</g>\n",
       "<!-- 5 -->\n",
       "<g id=\"node6\" class=\"node\"><title>5</title>\n",
       "<polygon fill=\"none\" stroke=\"black\" points=\"112.25,-150.5 -0.25,-150.5 -0.25,-97.5 112.25,-97.5 112.25,-150.5\"/>\n",
       "<text text-anchor=\"middle\" x=\"56\" y=\"-135.3\" font-family=\"Times,serif\" font-size=\"14.00\">gini = 0.0</text>\n",
       "<text text-anchor=\"middle\" x=\"56\" y=\"-120.3\" font-family=\"Times,serif\" font-size=\"14.00\">samples = 47</text>\n",
       "<text text-anchor=\"middle\" x=\"56\" y=\"-105.3\" font-family=\"Times,serif\" font-size=\"14.00\">value = [0, 47, 0]</text>\n",
       "</g>\n",
       "<!-- 4&#45;&gt;5 -->\n",
       "<g id=\"edge5\" class=\"edge\"><title>4&#45;&gt;5</title>\n",
       "<path fill=\"none\" stroke=\"black\" d=\"M142.442,-193.884C127.537,-182.006 110.772,-168.646 96.0013,-156.876\"/>\n",
       "<polygon fill=\"black\" stroke=\"black\" points=\"98.0269,-154.015 88.025,-150.52 93.6644,-159.489 98.0269,-154.015\"/>\n",
       "</g>\n",
       "<!-- 6 -->\n",
       "<g id=\"node7\" class=\"node\"><title>6</title>\n",
       "<polygon fill=\"none\" stroke=\"black\" points=\"237,-150.5 131,-150.5 131,-97.5 237,-97.5 237,-150.5\"/>\n",
       "<text text-anchor=\"middle\" x=\"184\" y=\"-135.3\" font-family=\"Times,serif\" font-size=\"14.00\">gini = 0.0</text>\n",
       "<text text-anchor=\"middle\" x=\"184\" y=\"-120.3\" font-family=\"Times,serif\" font-size=\"14.00\">samples = 1</text>\n",
       "<text text-anchor=\"middle\" x=\"184\" y=\"-105.3\" font-family=\"Times,serif\" font-size=\"14.00\">value = [0, 0, 1]</text>\n",
       "</g>\n",
       "<!-- 4&#45;&gt;6 -->\n",
       "<g id=\"edge6\" class=\"edge\"><title>4&#45;&gt;6</title>\n",
       "<path fill=\"none\" stroke=\"black\" d=\"M184,-193.884C184,-183.326 184,-171.597 184,-160.854\"/>\n",
       "<polygon fill=\"black\" stroke=\"black\" points=\"187.5,-160.52 184,-150.52 180.5,-160.52 187.5,-160.52\"/>\n",
       "</g>\n",
       "<!-- 8 -->\n",
       "<g id=\"node9\" class=\"node\"><title>8</title>\n",
       "<polygon fill=\"none\" stroke=\"black\" points=\"361,-150.5 255,-150.5 255,-97.5 361,-97.5 361,-150.5\"/>\n",
       "<text text-anchor=\"middle\" x=\"308\" y=\"-135.3\" font-family=\"Times,serif\" font-size=\"14.00\">gini = 0.0</text>\n",
       "<text text-anchor=\"middle\" x=\"308\" y=\"-120.3\" font-family=\"Times,serif\" font-size=\"14.00\">samples = 3</text>\n",
       "<text text-anchor=\"middle\" x=\"308\" y=\"-105.3\" font-family=\"Times,serif\" font-size=\"14.00\">value = [0, 0, 3]</text>\n",
       "</g>\n",
       "<!-- 7&#45;&gt;8 -->\n",
       "<g id=\"edge8\" class=\"edge\"><title>7&#45;&gt;8</title>\n",
       "<path fill=\"none\" stroke=\"black\" d=\"M349.195,-193.884C342.552,-182.776 335.134,-170.372 328.443,-159.184\"/>\n",
       "<polygon fill=\"black\" stroke=\"black\" points=\"331.398,-157.306 323.262,-150.52 325.391,-160.899 331.398,-157.306\"/>\n",
       "</g>\n",
       "<!-- 9 -->\n",
       "<g id=\"node10\" class=\"node\"><title>9</title>\n",
       "<polygon fill=\"none\" stroke=\"black\" points=\"485,-158 379,-158 379,-90 485,-90 485,-158\"/>\n",
       "<text text-anchor=\"middle\" x=\"432\" y=\"-142.8\" font-family=\"Times,serif\" font-size=\"14.00\">X[2] &lt;= 5.45</text>\n",
       "<text text-anchor=\"middle\" x=\"432\" y=\"-127.8\" font-family=\"Times,serif\" font-size=\"14.00\">gini = 0.444</text>\n",
       "<text text-anchor=\"middle\" x=\"432\" y=\"-112.8\" font-family=\"Times,serif\" font-size=\"14.00\">samples = 3</text>\n",
       "<text text-anchor=\"middle\" x=\"432\" y=\"-97.8\" font-family=\"Times,serif\" font-size=\"14.00\">value = [0, 2, 1]</text>\n",
       "</g>\n",
       "<!-- 7&#45;&gt;9 -->\n",
       "<g id=\"edge9\" class=\"edge\"><title>7&#45;&gt;9</title>\n",
       "<path fill=\"none\" stroke=\"black\" d=\"M389.454,-193.884C394.736,-185.332 400.492,-176.013 406.014,-167.072\"/>\n",
       "<polygon fill=\"black\" stroke=\"black\" points=\"409.156,-168.647 411.433,-158.299 403.2,-164.968 409.156,-168.647\"/>\n",
       "</g>\n",
       "<!-- 10 -->\n",
       "<g id=\"node11\" class=\"node\"><title>10</title>\n",
       "<polygon fill=\"none\" stroke=\"black\" points=\"423,-53.5 317,-53.5 317,-0.5 423,-0.5 423,-53.5\"/>\n",
       "<text text-anchor=\"middle\" x=\"370\" y=\"-38.3\" font-family=\"Times,serif\" font-size=\"14.00\">gini = 0.0</text>\n",
       "<text text-anchor=\"middle\" x=\"370\" y=\"-23.3\" font-family=\"Times,serif\" font-size=\"14.00\">samples = 2</text>\n",
       "<text text-anchor=\"middle\" x=\"370\" y=\"-8.3\" font-family=\"Times,serif\" font-size=\"14.00\">value = [0, 2, 0]</text>\n",
       "</g>\n",
       "<!-- 9&#45;&gt;10 -->\n",
       "<g id=\"edge10\" class=\"edge\"><title>9&#45;&gt;10</title>\n",
       "<path fill=\"none\" stroke=\"black\" d=\"M410.315,-89.7736C404.441,-80.772 398.074,-71.0165 392.173,-61.9743\"/>\n",
       "<polygon fill=\"black\" stroke=\"black\" points=\"395.085,-60.033 386.689,-53.5715 389.223,-63.8588 395.085,-60.033\"/>\n",
       "</g>\n",
       "<!-- 11 -->\n",
       "<g id=\"node12\" class=\"node\"><title>11</title>\n",
       "<polygon fill=\"none\" stroke=\"black\" points=\"547,-53.5 441,-53.5 441,-0.5 547,-0.5 547,-53.5\"/>\n",
       "<text text-anchor=\"middle\" x=\"494\" y=\"-38.3\" font-family=\"Times,serif\" font-size=\"14.00\">gini = 0.0</text>\n",
       "<text text-anchor=\"middle\" x=\"494\" y=\"-23.3\" font-family=\"Times,serif\" font-size=\"14.00\">samples = 1</text>\n",
       "<text text-anchor=\"middle\" x=\"494\" y=\"-8.3\" font-family=\"Times,serif\" font-size=\"14.00\">value = [0, 0, 1]</text>\n",
       "</g>\n",
       "<!-- 9&#45;&gt;11 -->\n",
       "<g id=\"edge11\" class=\"edge\"><title>9&#45;&gt;11</title>\n",
       "<path fill=\"none\" stroke=\"black\" d=\"M453.685,-89.7736C459.559,-80.772 465.926,-71.0165 471.827,-61.9743\"/>\n",
       "<polygon fill=\"black\" stroke=\"black\" points=\"474.777,-63.8588 477.311,-53.5715 468.915,-60.033 474.777,-63.8588\"/>\n",
       "</g>\n",
       "<!-- 13 -->\n",
       "<g id=\"node14\" class=\"node\"><title>13</title>\n",
       "<polygon fill=\"none\" stroke=\"black\" points=\"609,-262 503,-262 503,-194 609,-194 609,-262\"/>\n",
       "<text text-anchor=\"middle\" x=\"556\" y=\"-246.8\" font-family=\"Times,serif\" font-size=\"14.00\">X[1] &lt;= 3.1</text>\n",
       "<text text-anchor=\"middle\" x=\"556\" y=\"-231.8\" font-family=\"Times,serif\" font-size=\"14.00\">gini = 0.444</text>\n",
       "<text text-anchor=\"middle\" x=\"556\" y=\"-216.8\" font-family=\"Times,serif\" font-size=\"14.00\">samples = 3</text>\n",
       "<text text-anchor=\"middle\" x=\"556\" y=\"-201.8\" font-family=\"Times,serif\" font-size=\"14.00\">value = [0, 1, 2]</text>\n",
       "</g>\n",
       "<!-- 12&#45;&gt;13 -->\n",
       "<g id=\"edge13\" class=\"edge\"><title>12&#45;&gt;13</title>\n",
       "<path fill=\"none\" stroke=\"black\" d=\"M556,-297.884C556,-289.778 556,-280.982 556,-272.472\"/>\n",
       "<polygon fill=\"black\" stroke=\"black\" points=\"559.5,-272.299 556,-262.299 552.5,-272.299 559.5,-272.299\"/>\n",
       "</g>\n",
       "<!-- 16 -->\n",
       "<g id=\"node17\" class=\"node\"><title>16</title>\n",
       "<polygon fill=\"none\" stroke=\"black\" points=\"740.25,-254.5 627.75,-254.5 627.75,-201.5 740.25,-201.5 740.25,-254.5\"/>\n",
       "<text text-anchor=\"middle\" x=\"684\" y=\"-239.3\" font-family=\"Times,serif\" font-size=\"14.00\">gini = 0.0</text>\n",
       "<text text-anchor=\"middle\" x=\"684\" y=\"-224.3\" font-family=\"Times,serif\" font-size=\"14.00\">samples = 43</text>\n",
       "<text text-anchor=\"middle\" x=\"684\" y=\"-209.3\" font-family=\"Times,serif\" font-size=\"14.00\">value = [0, 0, 43]</text>\n",
       "</g>\n",
       "<!-- 12&#45;&gt;16 -->\n",
       "<g id=\"edge16\" class=\"edge\"><title>12&#45;&gt;16</title>\n",
       "<path fill=\"none\" stroke=\"black\" d=\"M597.558,-297.884C612.463,-286.006 629.228,-272.646 643.999,-260.876\"/>\n",
       "<polygon fill=\"black\" stroke=\"black\" points=\"646.336,-263.489 651.975,-254.52 641.973,-258.015 646.336,-263.489\"/>\n",
       "</g>\n",
       "<!-- 14 -->\n",
       "<g id=\"node15\" class=\"node\"><title>14</title>\n",
       "<polygon fill=\"none\" stroke=\"black\" points=\"609,-150.5 503,-150.5 503,-97.5 609,-97.5 609,-150.5\"/>\n",
       "<text text-anchor=\"middle\" x=\"556\" y=\"-135.3\" font-family=\"Times,serif\" font-size=\"14.00\">gini = 0.0</text>\n",
       "<text text-anchor=\"middle\" x=\"556\" y=\"-120.3\" font-family=\"Times,serif\" font-size=\"14.00\">samples = 2</text>\n",
       "<text text-anchor=\"middle\" x=\"556\" y=\"-105.3\" font-family=\"Times,serif\" font-size=\"14.00\">value = [0, 0, 2]</text>\n",
       "</g>\n",
       "<!-- 13&#45;&gt;14 -->\n",
       "<g id=\"edge14\" class=\"edge\"><title>13&#45;&gt;14</title>\n",
       "<path fill=\"none\" stroke=\"black\" d=\"M556,-193.884C556,-183.326 556,-171.597 556,-160.854\"/>\n",
       "<polygon fill=\"black\" stroke=\"black\" points=\"559.5,-160.52 556,-150.52 552.5,-160.52 559.5,-160.52\"/>\n",
       "</g>\n",
       "<!-- 15 -->\n",
       "<g id=\"node16\" class=\"node\"><title>15</title>\n",
       "<polygon fill=\"none\" stroke=\"black\" points=\"733,-150.5 627,-150.5 627,-97.5 733,-97.5 733,-150.5\"/>\n",
       "<text text-anchor=\"middle\" x=\"680\" y=\"-135.3\" font-family=\"Times,serif\" font-size=\"14.00\">gini = 0.0</text>\n",
       "<text text-anchor=\"middle\" x=\"680\" y=\"-120.3\" font-family=\"Times,serif\" font-size=\"14.00\">samples = 1</text>\n",
       "<text text-anchor=\"middle\" x=\"680\" y=\"-105.3\" font-family=\"Times,serif\" font-size=\"14.00\">value = [0, 1, 0]</text>\n",
       "</g>\n",
       "<!-- 13&#45;&gt;15 -->\n",
       "<g id=\"edge15\" class=\"edge\"><title>13&#45;&gt;15</title>\n",
       "<path fill=\"none\" stroke=\"black\" d=\"M596.259,-193.884C610.699,-182.006 626.94,-168.646 641.249,-156.876\"/>\n",
       "<polygon fill=\"black\" stroke=\"black\" points=\"643.476,-159.576 648.976,-150.52 639.029,-154.17 643.476,-159.576\"/>\n",
       "</g>\n",
       "</g>\n",
       "</svg>\n"
      ],
      "text/plain": [
       "<graphviz.files.Source at 0x7ff3b8038cc0>"
      ]
     },
     "execution_count": 38,
     "metadata": {},
     "output_type": "execute_result"
    }
   ],
   "source": [
    "import graphviz \n",
    "from sklearn import tree\n",
    "dot_data = tree.export_graphviz(clf, out_file=None) \n",
    "graph = graphviz.Source(dot_data) \n",
    "graph"
   ]
  },
  {
   "cell_type": "markdown",
   "metadata": {},
   "source": [
    "---\n",
    "## 6.53 xgboost"
   ]
  },
  {
   "cell_type": "code",
   "execution_count": 43,
   "metadata": {},
   "outputs": [],
   "source": [
    "import pandas\n",
    "import xgboost as xgb\n",
    "\n",
    "X, y = datasets.load_iris(return_X_y=True)\n",
    "dtrain = xgb.DMatrix(X, label=y)"
   ]
  },
  {
   "cell_type": "code",
   "execution_count": 48,
   "metadata": {},
   "outputs": [
    {
     "name": "stdout",
     "output_type": "stream",
     "text": [
      "[0 0 0 0 0 0 0 0 0 0 0 0 0 0 0 0 0 0 0 0 0 0 0 0 0 0 0 0 0 0 0 0 0 0 0 0 0\n",
      " 0 0 0 0 0 0 0 0 0 0 0 0 0 1 1 1 1 1 1 1 1 1 1 1 1 1 1 1 1 1 1 1 1 1 1 1 1\n",
      " 1 1 1 1 1 1 1 1 1 1 1 1 1 1 1 1 1 1 1 1 1 1 1 1 1 1 2 2 2 2 2 2 2 2 2 2 2\n",
      " 2 2 2 2 2 2 2 2 2 2 2 2 2 2 2 2 2 2 2 2 2 2 2 2 2 2 2 2 2 2 2 2 2 2 2 2 2\n",
      " 2 2]\n",
      "[0]\teval-merror:0.04000\ttrain-merror:0.04000\n",
      "[1]\teval-merror:0.03333\ttrain-merror:0.03333\n",
      "[2]\teval-merror:0.03333\ttrain-merror:0.03333\n",
      "[3]\teval-merror:0.02000\ttrain-merror:0.02000\n",
      "[4]\teval-merror:0.01333\ttrain-merror:0.01333\n",
      "[5]\teval-merror:0.01333\ttrain-merror:0.01333\n",
      "[6]\teval-merror:0.00667\ttrain-merror:0.00667\n",
      "[7]\teval-merror:0.00000\ttrain-merror:0.00000\n",
      "[8]\teval-merror:0.00000\ttrain-merror:0.00000\n",
      "[9]\teval-merror:0.00000\ttrain-merror:0.00000\n"
     ]
    }
   ],
   "source": [
    "print(y)\n",
    "\n",
    "param = {'max_depth': 2, 'eta': 1, 'objective': 'multi:softmax','num_class':3}\n",
    "evallist = [(dtrain, 'eval'), (dtrain, 'train')]\n",
    "num_round = 10\n",
    "bst = xgb.train(param, dtrain, num_round, evallist)\n"
   ]
  },
  {
   "cell_type": "code",
   "execution_count": 50,
   "metadata": {},
   "outputs": [
    {
     "name": "stdout",
     "output_type": "stream",
     "text": [
      "              precision    recall  f1-score   support\n",
      "\n",
      "           0       1.00      1.00      1.00        50\n",
      "           1       1.00      1.00      1.00        50\n",
      "           2       1.00      1.00      1.00        50\n",
      "\n",
      "    accuracy                           1.00       150\n",
      "   macro avg       1.00      1.00      1.00       150\n",
      "weighted avg       1.00      1.00      1.00       150\n",
      "\n",
      "              precision    recall  f1-score   support\n",
      "\n",
      "           0       1.00      1.00      1.00        50\n",
      "           1       1.00      1.00      1.00        50\n",
      "           2       1.00      1.00      1.00        50\n",
      "\n",
      "    accuracy                           1.00       150\n",
      "   macro avg       1.00      1.00      1.00       150\n",
      "weighted avg       1.00      1.00      1.00       150\n",
      "\n"
     ]
    }
   ],
   "source": [
    "\n",
    "ypred1 = bst.predict(dtrain)\n",
    "print(classification_report(y, ypred1))\n",
    "ypred2 = bst.predict(dtrain, ntree_limit=bst.best_ntree_limit)\n",
    "print(classification_report(y, ypred2))"
   ]
  },
  {
   "cell_type": "markdown",
   "metadata": {},
   "source": [
    "---\n",
    "## 6.54 lightgbm\n"
   ]
  },
  {
   "cell_type": "code",
   "execution_count": 61,
   "metadata": {},
   "outputs": [],
   "source": [
    "import lightgbm as gbm\n",
    "\n",
    "X, y = datasets.load_iris(return_X_y=True)\n",
    "dtrain = gbm.Dataset(X, label=y)"
   ]
  },
  {
   "cell_type": "code",
   "execution_count": 58,
   "metadata": {},
   "outputs": [
    {
     "name": "stdout",
     "output_type": "stream",
     "text": [
      "[0 0 0 0 0 0 0 0 0 0 0 0 0 0 0 0 0 0 0 0 0 0 0 0 0 0 0 0 0 0 0 0 0 0 0 0 0\n",
      " 0 0 0 0 0 0 0 0 0 0 0 0 0 1 1 1 1 1 1 1 1 1 1 1 1 1 1 1 1 1 1 1 1 1 1 1 1\n",
      " 1 1 1 1 1 1 1 1 1 1 1 1 1 1 1 1 1 1 1 1 1 1 1 1 1 1 2 2 2 2 2 2 2 2 2 2 2\n",
      " 2 2 2 2 2 2 2 2 2 2 2 2 2 2 2 2 2 2 2 2 2 2 2 2 2 2 2 2 2 2 2 2 2 2 2 2 2\n",
      " 2 2]\n",
      "[LightGBM] [Warning] Auto-choosing col-wise multi-threading, the overhead of testing was 0.025723 seconds.\n",
      "You can set `force_col_wise=true` to remove the overhead.\n",
      "[LightGBM] [Info] Total Bins 98\n",
      "[LightGBM] [Info] Number of data points in the train set: 150, number of used features: 4\n",
      "[LightGBM] [Info] Start training from score -1.098612\n",
      "[LightGBM] [Info] Start training from score -1.098612\n",
      "[LightGBM] [Info] Start training from score -1.098612\n",
      "[LightGBM] [Warning] No further splits with positive gain, best gain: -inf\n",
      "[LightGBM] [Warning] No further splits with positive gain, best gain: -inf\n",
      "[LightGBM] [Warning] No further splits with positive gain, best gain: -inf\n",
      "[LightGBM] [Warning] No further splits with positive gain, best gain: -inf\n",
      "[LightGBM] [Warning] No further splits with positive gain, best gain: -inf\n",
      "[LightGBM] [Warning] No further splits with positive gain, best gain: -inf\n",
      "[LightGBM] [Warning] No further splits with positive gain, best gain: -inf\n",
      "[LightGBM] [Warning] No further splits with positive gain, best gain: -inf\n",
      "[LightGBM] [Warning] No further splits with positive gain, best gain: -inf\n",
      "[LightGBM] [Warning] No further splits with positive gain, best gain: -inf\n",
      "[LightGBM] [Warning] No further splits with positive gain, best gain: -inf\n",
      "[LightGBM] [Warning] No further splits with positive gain, best gain: -inf\n"
     ]
    }
   ],
   "source": [
    "print(y)\n",
    "\n",
    "param = {'max_depth': 2, 'eta': 1, 'objective': 'multiclass','num_class':3}\n",
    "evallist = [(dtrain, 'eval'), (dtrain, 'train')]\n",
    "num_round = 10\n",
    "bst = gbm.train(param, dtrain, num_round)\n"
   ]
  },
  {
   "cell_type": "code",
   "execution_count": 71,
   "metadata": {},
   "outputs": [
    {
     "name": "stdout",
     "output_type": "stream",
     "text": [
      "              precision    recall  f1-score   support\n",
      "\n",
      "           0       1.00      1.00      1.00        50\n",
      "           1       1.00      1.00      1.00        50\n",
      "           2       1.00      1.00      1.00        50\n",
      "\n",
      "    accuracy                           1.00       150\n",
      "   macro avg       1.00      1.00      1.00       150\n",
      "weighted avg       1.00      1.00      1.00       150\n",
      "\n",
      "              precision    recall  f1-score   support\n",
      "\n",
      "           0       1.00      1.00      1.00        50\n",
      "           1       1.00      1.00      1.00        50\n",
      "           2       1.00      1.00      1.00        50\n",
      "\n",
      "    accuracy                           1.00       150\n",
      "   macro avg       1.00      1.00      1.00       150\n",
      "weighted avg       1.00      1.00      1.00       150\n",
      "\n"
     ]
    }
   ],
   "source": [
    "ans = bst.predict(X, raw_score = True)\n",
    "ypred1 = np.argmax(ans,axis = 1)\n",
    "print(classification_report(y, ypred1))\n",
    "ans = bst.predict(X, num_iteration = bst.best_iteration, raw_score = True)\n",
    "ypred2 = np.argmax(ans,axis = 1)\n",
    "print(classification_report(y, ypred2))"
   ]
  },
  {
   "cell_type": "code",
   "execution_count": null,
   "metadata": {},
   "outputs": [],
   "source": []
  },
  {
   "cell_type": "markdown",
   "metadata": {},
   "source": [
    "---\n",
    "## 6.55 tpot"
   ]
  },
  {
   "cell_type": "code",
   "execution_count": 73,
   "metadata": {},
   "outputs": [
    {
     "name": "stderr",
     "output_type": "stream",
     "text": [
      "/usr/local/lib/python3.7/site-packages/tpot/builtins/__init__.py:36: UserWarning: Warning: optional dependency `torch` is not available. - skipping import of NN models.\n",
      "  warnings.warn(\"Warning: optional dependency `torch` is not available. - skipping import of NN models.\")\n"
     ]
    },
    {
     "data": {
      "application/vnd.jupyter.widget-view+json": {
       "model_id": "fd69fa8319b646d6b319729e336e25be",
       "version_major": 2,
       "version_minor": 0
      },
      "text/plain": [
       "HBox(children=(FloatProgress(value=0.0, description='Optimization Progress', max=300.0, style=ProgressStyle(de…"
      ]
     },
     "metadata": {},
     "output_type": "display_data"
    },
    {
     "name": "stdout",
     "output_type": "stream",
     "text": [
      "\n",
      "Generation 1 - Current best internal CV score: 0.9866363761531047\n",
      "Generation 2 - Current best internal CV score: 0.9866363761531047\n",
      "Generation 3 - Current best internal CV score: 0.9866363761531047\n",
      "Generation 4 - Current best internal CV score: 0.9866363761531047\n",
      "Generation 5 - Current best internal CV score: 0.9881178576345864\n",
      "Best pipeline: KNeighborsClassifier(MLPClassifier(input_matrix, alpha=0.1, learning_rate_init=0.1), n_neighbors=1, p=2, weights=uniform)\n",
      "0.9844444444444445\n"
     ]
    }
   ],
   "source": [
    "from tpot import TPOTClassifier\n",
    "from sklearn.datasets import load_digits\n",
    "from sklearn.model_selection import train_test_split\n",
    "\n",
    "digits = load_digits()\n",
    "X_train, X_test, y_train, y_test = train_test_split(digits.data, digits.target,\n",
    "                                                    train_size=0.75, test_size=0.25, random_state=42)\n",
    "\n",
    "tpot = TPOTClassifier(generations=5, population_size=50, verbosity=2, random_state=42)\n",
    "tpot.fit(X_train, y_train)\n",
    "print(tpot.score(X_test, y_test))\n"
   ]
  },
  {
   "cell_type": "code",
   "execution_count": 81,
   "metadata": {},
   "outputs": [
    {
     "name": "stdout",
     "output_type": "stream",
     "text": [
      "import numpy as np\n",
      "import pandas as pd\n",
      "from sklearn.model_selection import train_test_split\n",
      "from sklearn.neighbors import KNeighborsClassifier\n",
      "from sklearn.neural_network import MLPClassifier\n",
      "from sklearn.pipeline import make_pipeline, make_union\n",
      "from tpot.builtins import StackingEstimator\n",
      "from tpot.export_utils import set_param_recursive\n",
      "\n",
      "# NOTE: Make sure that the outcome column is labeled 'target' in the data file\n",
      "tpot_data = pd.read_csv('PATH/TO/DATA/FILE', sep='COLUMN_SEPARATOR', dtype=np.float64)\n",
      "features = tpot_data.drop('target', axis=1)\n",
      "training_features, testing_features, training_target, testing_target = \\\n",
      "            train_test_split(features, tpot_data['target'], random_state=42)\n",
      "\n",
      "# Average CV score on the training set was: 0.9881178576345864\n",
      "exported_pipeline = make_pipeline(\n",
      "    StackingEstimator(estimator=MLPClassifier(alpha=0.1, learning_rate_init=0.1)),\n",
      "    KNeighborsClassifier(n_neighbors=1, p=2, weights=\"uniform\")\n",
      ")\n",
      "# Fix random state for all the steps in exported pipeline\n",
      "set_param_recursive(exported_pipeline.steps, 'random_state', 42)\n",
      "\n",
      "exported_pipeline.fit(training_features, training_target)\n",
      "results = exported_pipeline.predict(testing_features)\n"
     ]
    }
   ],
   "source": [
    "tpot.export('tpot_digits_pipeline.py')\n",
    "!cat tpot_digits_pipeline.py"
   ]
  },
  {
   "cell_type": "markdown",
   "metadata": {},
   "source": [
    "---\n",
    "## 6.56 mlbox"
   ]
  },
  {
   "cell_type": "code",
   "execution_count": 83,
   "metadata": {},
   "outputs": [],
   "source": [
    "from mlbox.preprocessing import *\n",
    "from mlbox.optimisation import *\n",
    "from mlbox.prediction import *"
   ]
  },
  {
   "cell_type": "code",
   "execution_count": 85,
   "metadata": {},
   "outputs": [
    {
     "name": "stdout",
     "output_type": "stream",
     "text": [
      "\n",
      "reading csv : train.csv ...\n",
      "cleaning data ...\n"
     ]
    },
    {
     "ename": "TerminatedWorkerError",
     "evalue": "A worker process managed by the executor was unexpectedly terminated. This could be caused by a segmentation fault while calling the function or by an excessive memory usage causing the Operating System to kill the worker.\n\nThe exit codes of the workers are {EXIT(1)}",
     "output_type": "error",
     "traceback": [
      "\u001b[0;31m---------------------------------------------------------------------------\u001b[0m",
      "\u001b[0;31mTerminatedWorkerError\u001b[0m                     Traceback (most recent call last)",
      "\u001b[0;32m<ipython-input-85-58c95d4b8a75>\u001b[0m in \u001b[0;36m<module>\u001b[0;34m\u001b[0m\n\u001b[1;32m      2\u001b[0m \u001b[0mtarget_name\u001b[0m \u001b[0;34m=\u001b[0m \u001b[0;34m\"Survived\"\u001b[0m\u001b[0;34m\u001b[0m\u001b[0m\n\u001b[1;32m      3\u001b[0m \u001b[0mrd\u001b[0m \u001b[0;34m=\u001b[0m \u001b[0mReader\u001b[0m\u001b[0;34m(\u001b[0m\u001b[0msep\u001b[0m \u001b[0;34m=\u001b[0m \u001b[0;34m\",\"\u001b[0m\u001b[0;34m)\u001b[0m\u001b[0;34m\u001b[0m\u001b[0m\n\u001b[0;32m----> 4\u001b[0;31m \u001b[0mdf\u001b[0m \u001b[0;34m=\u001b[0m \u001b[0mrd\u001b[0m\u001b[0;34m.\u001b[0m\u001b[0mtrain_test_split\u001b[0m\u001b[0;34m(\u001b[0m\u001b[0mpaths\u001b[0m\u001b[0;34m,\u001b[0m \u001b[0mtarget_name\u001b[0m\u001b[0;34m)\u001b[0m\u001b[0;34m\u001b[0m\u001b[0m\n\u001b[0m\u001b[1;32m      5\u001b[0m \u001b[0mdft\u001b[0m \u001b[0;34m=\u001b[0m \u001b[0mDrift_thresholder\u001b[0m\u001b[0;34m(\u001b[0m\u001b[0;34m)\u001b[0m\u001b[0;34m\u001b[0m\u001b[0m\n\u001b[1;32m      6\u001b[0m \u001b[0mdf\u001b[0m \u001b[0;34m=\u001b[0m \u001b[0mdft\u001b[0m\u001b[0;34m.\u001b[0m\u001b[0mfit_transform\u001b[0m\u001b[0;34m(\u001b[0m\u001b[0mdf\u001b[0m\u001b[0;34m)\u001b[0m   \u001b[0;31m#removing non-stable features (like ID,...)\u001b[0m\u001b[0;34m\u001b[0m\u001b[0m\n",
      "\u001b[0;32m/usr/local/lib/python3.7/site-packages/mlbox/preprocessing/reader.py\u001b[0m in \u001b[0;36mtrain_test_split\u001b[0;34m(self, Lpath, target_name)\u001b[0m\n\u001b[1;32m    361\u001b[0m                 \u001b[0;31m# Reading each file\u001b[0m\u001b[0;34m\u001b[0m\u001b[0;34m\u001b[0m\u001b[0m\n\u001b[1;32m    362\u001b[0m \u001b[0;34m\u001b[0m\u001b[0m\n\u001b[0;32m--> 363\u001b[0;31m                 \u001b[0mdf\u001b[0m \u001b[0;34m=\u001b[0m \u001b[0mself\u001b[0m\u001b[0;34m.\u001b[0m\u001b[0mclean\u001b[0m\u001b[0;34m(\u001b[0m\u001b[0mpath\u001b[0m\u001b[0;34m,\u001b[0m \u001b[0mdrop_duplicate\u001b[0m\u001b[0;34m=\u001b[0m\u001b[0;32mFalse\u001b[0m\u001b[0;34m)\u001b[0m\u001b[0;34m\u001b[0m\u001b[0m\n\u001b[0m\u001b[1;32m    364\u001b[0m \u001b[0;34m\u001b[0m\u001b[0m\n\u001b[1;32m    365\u001b[0m                 \u001b[0;31m# Checking if the target exists to split into test and train\u001b[0m\u001b[0;34m\u001b[0m\u001b[0;34m\u001b[0m\u001b[0m\n",
      "\u001b[0;32m/usr/local/lib/python3.7/site-packages/mlbox/preprocessing/reader.py\u001b[0m in \u001b[0;36mclean\u001b[0;34m(self, path, drop_duplicate)\u001b[0m\n\u001b[1;32m    283\u001b[0m             \u001b[0mdf\u001b[0m \u001b[0;34m=\u001b[0m \u001b[0mpd\u001b[0m\u001b[0;34m.\u001b[0m\u001b[0mconcat\u001b[0m\u001b[0;34m(\u001b[0m\u001b[0;34m[\u001b[0m\u001b[0mconvert_float_and_dates\u001b[0m\u001b[0;34m(\u001b[0m\u001b[0mdf\u001b[0m\u001b[0;34m[\u001b[0m\u001b[0mcol\u001b[0m\u001b[0;34m]\u001b[0m\u001b[0;34m)\u001b[0m \u001b[0;32mfor\u001b[0m \u001b[0mcol\u001b[0m \u001b[0;32min\u001b[0m \u001b[0mdf\u001b[0m\u001b[0;34m.\u001b[0m\u001b[0mcolumns\u001b[0m\u001b[0;34m]\u001b[0m\u001b[0;34m,\u001b[0m \u001b[0maxis\u001b[0m\u001b[0;34m=\u001b[0m\u001b[0;36m1\u001b[0m\u001b[0;34m)\u001b[0m\u001b[0;34m\u001b[0m\u001b[0m\n\u001b[1;32m    284\u001b[0m         \u001b[0;32melse\u001b[0m\u001b[0;34m:\u001b[0m\u001b[0;34m\u001b[0m\u001b[0m\n\u001b[0;32m--> 285\u001b[0;31m             df = pd.concat(Parallel(n_jobs=-1)(delayed(convert_list)(df[col]) for col in df.columns),\n\u001b[0m\u001b[1;32m    286\u001b[0m                            axis=1)\n\u001b[1;32m    287\u001b[0m \u001b[0;34m\u001b[0m\u001b[0m\n",
      "\u001b[0;32m/usr/local/lib/python3.7/site-packages/joblib/parallel.py\u001b[0m in \u001b[0;36m__call__\u001b[0;34m(self, iterable)\u001b[0m\n",
      "\u001b[0;32m/usr/local/lib/python3.7/site-packages/joblib/parallel.py\u001b[0m in \u001b[0;36mretrieve\u001b[0;34m(self)\u001b[0m\n\u001b[1;32m    919\u001b[0m \u001b[0;34m\u001b[0m\u001b[0m\n\u001b[1;32m    920\u001b[0m                 \u001b[0;31m# If the backend allows it, cancel or kill remaining running\u001b[0m\u001b[0;34m\u001b[0m\u001b[0;34m\u001b[0m\u001b[0m\n\u001b[0;32m--> 921\u001b[0;31m                 \u001b[0;31m# tasks without waiting for the results as we will raise\u001b[0m\u001b[0;34m\u001b[0m\u001b[0;34m\u001b[0m\u001b[0m\n\u001b[0m\u001b[1;32m    922\u001b[0m                 \u001b[0;31m# the exception we got back to the caller instead of returning\u001b[0m\u001b[0;34m\u001b[0m\u001b[0;34m\u001b[0m\u001b[0m\n\u001b[1;32m    923\u001b[0m                 \u001b[0;31m# any result.\u001b[0m\u001b[0;34m\u001b[0m\u001b[0;34m\u001b[0m\u001b[0m\n",
      "\u001b[0;32m/usr/local/lib/python3.7/site-packages/joblib/_parallel_backends.py\u001b[0m in \u001b[0;36mwrap_future_result\u001b[0;34m(future, timeout)\u001b[0m\n\u001b[1;32m    540\u001b[0m                 warnings.warn(\n\u001b[1;32m    541\u001b[0m                     \u001b[0;34m'Loky-backed parallel loops cannot be nested below '\u001b[0m\u001b[0;34m\u001b[0m\u001b[0m\n\u001b[0;32m--> 542\u001b[0;31m                     \u001b[0;34m'threads, setting n_jobs=1'\u001b[0m\u001b[0;34m,\u001b[0m\u001b[0;34m\u001b[0m\u001b[0m\n\u001b[0m\u001b[1;32m    543\u001b[0m                     stacklevel=3)\n\u001b[1;32m    544\u001b[0m             \u001b[0;32mreturn\u001b[0m \u001b[0;36m1\u001b[0m\u001b[0;34m\u001b[0m\u001b[0m\n",
      "\u001b[0;32m/usr/local/lib/python3.7/concurrent/futures/_base.py\u001b[0m in \u001b[0;36mresult\u001b[0;34m(self, timeout)\u001b[0m\n\u001b[1;32m    430\u001b[0m                 \u001b[0;32mraise\u001b[0m \u001b[0mCancelledError\u001b[0m\u001b[0;34m(\u001b[0m\u001b[0;34m)\u001b[0m\u001b[0;34m\u001b[0m\u001b[0m\n\u001b[1;32m    431\u001b[0m             \u001b[0;32melif\u001b[0m \u001b[0mself\u001b[0m\u001b[0;34m.\u001b[0m\u001b[0m_state\u001b[0m \u001b[0;34m==\u001b[0m \u001b[0mFINISHED\u001b[0m\u001b[0;34m:\u001b[0m\u001b[0;34m\u001b[0m\u001b[0m\n\u001b[0;32m--> 432\u001b[0;31m                 \u001b[0;32mreturn\u001b[0m \u001b[0mself\u001b[0m\u001b[0;34m.\u001b[0m\u001b[0m__get_result\u001b[0m\u001b[0;34m(\u001b[0m\u001b[0;34m)\u001b[0m\u001b[0;34m\u001b[0m\u001b[0m\n\u001b[0m\u001b[1;32m    433\u001b[0m             \u001b[0;32melse\u001b[0m\u001b[0;34m:\u001b[0m\u001b[0;34m\u001b[0m\u001b[0m\n\u001b[1;32m    434\u001b[0m                 \u001b[0;32mraise\u001b[0m \u001b[0mTimeoutError\u001b[0m\u001b[0;34m(\u001b[0m\u001b[0;34m)\u001b[0m\u001b[0;34m\u001b[0m\u001b[0m\n",
      "\u001b[0;32m/usr/local/lib/python3.7/concurrent/futures/_base.py\u001b[0m in \u001b[0;36m__get_result\u001b[0;34m(self)\u001b[0m\n\u001b[1;32m    382\u001b[0m     \u001b[0;32mdef\u001b[0m \u001b[0m__get_result\u001b[0m\u001b[0;34m(\u001b[0m\u001b[0mself\u001b[0m\u001b[0;34m)\u001b[0m\u001b[0;34m:\u001b[0m\u001b[0;34m\u001b[0m\u001b[0m\n\u001b[1;32m    383\u001b[0m         \u001b[0;32mif\u001b[0m \u001b[0mself\u001b[0m\u001b[0;34m.\u001b[0m\u001b[0m_exception\u001b[0m\u001b[0;34m:\u001b[0m\u001b[0;34m\u001b[0m\u001b[0m\n\u001b[0;32m--> 384\u001b[0;31m             \u001b[0;32mraise\u001b[0m \u001b[0mself\u001b[0m\u001b[0;34m.\u001b[0m\u001b[0m_exception\u001b[0m\u001b[0;34m\u001b[0m\u001b[0m\n\u001b[0m\u001b[1;32m    385\u001b[0m         \u001b[0;32melse\u001b[0m\u001b[0;34m:\u001b[0m\u001b[0;34m\u001b[0m\u001b[0m\n\u001b[1;32m    386\u001b[0m             \u001b[0;32mreturn\u001b[0m \u001b[0mself\u001b[0m\u001b[0;34m.\u001b[0m\u001b[0m_result\u001b[0m\u001b[0;34m\u001b[0m\u001b[0m\n",
      "\u001b[0;31mTerminatedWorkerError\u001b[0m: A worker process managed by the executor was unexpectedly terminated. This could be caused by a segmentation fault while calling the function or by an excessive memory usage causing the Operating System to kill the worker.\n\nThe exit codes of the workers are {EXIT(1)}"
     ]
    }
   ],
   "source": [
    "paths = [\"./data/train.csv\",\"./data/test.csv\"]\n",
    "target_name = \"Survived\"\n",
    "rd = Reader(sep = \",\")\n",
    "df = rd.train_test_split(paths, target_name) \n",
    "dft = Drift_thresholder()\n",
    "df = dft.fit_transform(df)   #removing non-stable features (like ID,...)\n",
    "opt = Optimiser(scoring = \"accuracy\", n_folds = 5)\n",
    "space = {\n",
    "    \n",
    "        'est__strategy':{\"search\":\"choice\",\n",
    "                                  \"space\":[\"LightGBM\"]},    \n",
    "        'est__n_estimators':{\"search\":\"choice\",\n",
    "                                  \"space\":[150]},    \n",
    "        'est__colsample_bytree':{\"search\":\"uniform\",\n",
    "                                  \"space\":[0.8,0.95]},\n",
    "        'est__subsample':{\"search\":\"uniform\",\n",
    "                                  \"space\":[0.8,0.95]},\n",
    "        'est__max_depth':{\"search\":\"choice\",\n",
    "                                  \"space\":[5,6,7,8,9]},\n",
    "        'est__learning_rate':{\"search\":\"choice\",\n",
    "                                  \"space\":[0.07]} \n",
    "    \n",
    "        }\n",
    "\n",
    "params = opt.optimise(space, df,15)\n",
    "prd = Predictor()\n",
    "prd.fit_predict(params, df)"
   ]
  },
  {
   "cell_type": "markdown",
   "metadata": {},
   "source": [
    "---\n",
    "## 6.57 imbalanced-learn"
   ]
  },
  {
   "cell_type": "code",
   "execution_count": 52,
   "metadata": {},
   "outputs": [
    {
     "name": "stdout",
     "output_type": "stream",
     "text": [
      "Automatically created module for IPython interactive environment\n"
     ]
    }
   ],
   "source": [
    "# Authors: Guillaume Lemaitre <g.lemaitre58@gmail.com>\n",
    "# License: MIT\n",
    "\n",
    "import numpy as np\n",
    "import matplotlib.pyplot as plt\n",
    "\n",
    "from sklearn.datasets import make_moons, make_blobs\n",
    "from sklearn.ensemble import IsolationForest\n",
    "from sklearn.linear_model import LogisticRegression\n",
    "from sklearn.metrics import classification_report\n",
    "\n",
    "from imblearn import FunctionSampler\n",
    "from imblearn.pipeline import make_pipeline\n",
    "\n",
    "print(__doc__)\n",
    "\n",
    "rng = np.random.RandomState(42)\n",
    "\n",
    "\n",
    "def plot_scatter(X, y, title):\n",
    "    \"\"\"Function to plot some data as a scatter plot.\"\"\"\n",
    "    plt.figure()\n",
    "    plt.scatter(X[y == 1, 0], X[y == 1, 1], label='Class #1')\n",
    "    plt.scatter(X[y == 0, 0], X[y == 0, 1], label='Class #0')\n",
    "    plt.legend()\n",
    "    plt.title(title)"
   ]
  },
  {
   "cell_type": "code",
   "execution_count": 53,
   "metadata": {},
   "outputs": [
    {
     "data": {
      "image/png": "[encoded data removed]",
      "text/plain": [
       "<Figure size 432x288 with 1 Axes>"
      ]
     },
     "metadata": {
      "needs_background": "light"
     },
     "output_type": "display_data"
    }
   ],
   "source": [
    "moons, _ = make_moons(n_samples=500, noise=0.05)\n",
    "blobs, _ = make_blobs(n_samples=500, centers=[(-0.75, 2.25),\n",
    "                                              (1.0, 2.0)],\n",
    "                      cluster_std=0.25)\n",
    "outliers = rng.uniform(low=-3, high=3, size=(500, 2))\n",
    "X_train = np.vstack([moons, blobs, outliers])\n",
    "y_train = np.hstack([np.ones(moons.shape[0], dtype=np.int8),\n",
    "                     np.zeros(blobs.shape[0], dtype=np.int8),\n",
    "                     rng.randint(0, 2, size=outliers.shape[0],\n",
    "                                 dtype=np.int8)])\n",
    "\n",
    "plot_scatter(X_train, y_train, 'Training dataset')"
   ]
  },
  {
   "cell_type": "code",
   "execution_count": 54,
   "metadata": {},
   "outputs": [
    {
     "data": {
      "image/png": "[encoded data removed]",
      "text/plain": [
       "<Figure size 432x288 with 1 Axes>"
      ]
     },
     "metadata": {
      "needs_background": "light"
     },
     "output_type": "display_data"
    }
   ],
   "source": [
    "moons, _ = make_moons(n_samples=50, noise=0.05)\n",
    "blobs, _ = make_blobs(n_samples=50, centers=[(-0.75, 2.25),\n",
    "                                             (1.0, 2.0)],\n",
    "                      cluster_std=0.25)\n",
    "X_test = np.vstack([moons, blobs])\n",
    "y_test = np.hstack([np.ones(moons.shape[0], dtype=np.int8),\n",
    "                    np.zeros(blobs.shape[0], dtype=np.int8)])\n",
    "\n",
    "plot_scatter(X_test, y_test, 'Testing dataset')"
   ]
  },
  {
   "cell_type": "code",
   "execution_count": 59,
   "metadata": {},
   "outputs": [
    {
     "name": "stdout",
     "output_type": "stream",
     "text": [
      "<bound method FunctionSampler.fit_resample of FunctionSampler(accept_sparse=True,\n",
      "                func=<function outlier_rejection at 0x7fd74bd18d90>,\n",
      "                kw_args=None, validate=True)>\n"
     ]
    },
    {
     "ename": "AttributeError",
     "evalue": "'FunctionSampler' object has no attribute '_validate_data'",
     "output_type": "error",
     "traceback": [
      "\u001b[0;31m---------------------------------------------------------------------------\u001b[0m",
      "\u001b[0;31mAttributeError\u001b[0m                            Traceback (most recent call last)",
      "\u001b[0;32m<ipython-input-59-05a0ed902816>\u001b[0m in \u001b[0;36m<module>\u001b[0;34m\u001b[0m\n\u001b[1;32m     11\u001b[0m \u001b[0mreject_sampler\u001b[0m \u001b[0;34m=\u001b[0m \u001b[0mFunctionSampler\u001b[0m\u001b[0;34m(\u001b[0m\u001b[0mfunc\u001b[0m\u001b[0;34m=\u001b[0m\u001b[0moutlier_rejection\u001b[0m\u001b[0;34m)\u001b[0m\u001b[0;34m\u001b[0m\u001b[0m\n\u001b[1;32m     12\u001b[0m \u001b[0mprint\u001b[0m\u001b[0;34m(\u001b[0m\u001b[0mreject_sampler\u001b[0m\u001b[0;34m.\u001b[0m\u001b[0mfit_resample\u001b[0m\u001b[0;34m)\u001b[0m\u001b[0;34m\u001b[0m\u001b[0m\n\u001b[0;32m---> 13\u001b[0;31m \u001b[0mX_inliers\u001b[0m\u001b[0;34m,\u001b[0m \u001b[0my_inliers\u001b[0m \u001b[0;34m=\u001b[0m \u001b[0mreject_sampler\u001b[0m\u001b[0;34m.\u001b[0m\u001b[0mfit_resample\u001b[0m\u001b[0;34m(\u001b[0m\u001b[0mX_train\u001b[0m\u001b[0;34m,\u001b[0m \u001b[0my_train\u001b[0m\u001b[0;34m)\u001b[0m\u001b[0;34m\u001b[0m\u001b[0m\n\u001b[0m\u001b[1;32m     14\u001b[0m \u001b[0mplot_scatter\u001b[0m\u001b[0;34m(\u001b[0m\u001b[0mX_inliers\u001b[0m\u001b[0;34m,\u001b[0m \u001b[0my_inliers\u001b[0m\u001b[0;34m,\u001b[0m \u001b[0;34m'Training data without outliers'\u001b[0m\u001b[0;34m)\u001b[0m\u001b[0;34m\u001b[0m\u001b[0m\n",
      "\u001b[0;32m/usr/local/lib/python3.7/site-packages/imblearn/base.py\u001b[0m in \u001b[0;36mfit_resample\u001b[0;34m(self, X, y)\u001b[0m\n\u001b[1;32m    249\u001b[0m             \u001b[0mcheck_classification_targets\u001b[0m\u001b[0;34m(\u001b[0m\u001b[0my\u001b[0m\u001b[0;34m)\u001b[0m\u001b[0;34m\u001b[0m\u001b[0m\n\u001b[1;32m    250\u001b[0m             X, y, binarize_y = self._check_X_y(\n\u001b[0;32m--> 251\u001b[0;31m                 \u001b[0mX\u001b[0m\u001b[0;34m,\u001b[0m \u001b[0my\u001b[0m\u001b[0;34m,\u001b[0m \u001b[0maccept_sparse\u001b[0m\u001b[0;34m=\u001b[0m\u001b[0mself\u001b[0m\u001b[0;34m.\u001b[0m\u001b[0maccept_sparse\u001b[0m\u001b[0;34m\u001b[0m\u001b[0m\n\u001b[0m\u001b[1;32m    252\u001b[0m             )\n\u001b[1;32m    253\u001b[0m \u001b[0;34m\u001b[0m\u001b[0m\n",
      "\u001b[0;32m/usr/local/lib/python3.7/site-packages/imblearn/base.py\u001b[0m in \u001b[0;36m_check_X_y\u001b[0;34m(self, X, y, accept_sparse)\u001b[0m\n\u001b[1;32m    132\u001b[0m             \u001b[0maccept_sparse\u001b[0m \u001b[0;34m=\u001b[0m \u001b[0;34m[\u001b[0m\u001b[0;34m\"csr\"\u001b[0m\u001b[0;34m,\u001b[0m \u001b[0;34m\"csc\"\u001b[0m\u001b[0;34m]\u001b[0m\u001b[0;34m\u001b[0m\u001b[0m\n\u001b[1;32m    133\u001b[0m         \u001b[0my\u001b[0m\u001b[0;34m,\u001b[0m \u001b[0mbinarize_y\u001b[0m \u001b[0;34m=\u001b[0m \u001b[0mcheck_target_type\u001b[0m\u001b[0;34m(\u001b[0m\u001b[0my\u001b[0m\u001b[0;34m,\u001b[0m \u001b[0mindicate_one_vs_all\u001b[0m\u001b[0;34m=\u001b[0m\u001b[0;32mTrue\u001b[0m\u001b[0;34m)\u001b[0m\u001b[0;34m\u001b[0m\u001b[0m\n\u001b[0;32m--> 134\u001b[0;31m         X, y = self._validate_data(\n\u001b[0m\u001b[1;32m    135\u001b[0m             \u001b[0mX\u001b[0m\u001b[0;34m,\u001b[0m \u001b[0my\u001b[0m\u001b[0;34m,\u001b[0m \u001b[0mreset\u001b[0m\u001b[0;34m=\u001b[0m\u001b[0;32mTrue\u001b[0m\u001b[0;34m,\u001b[0m \u001b[0maccept_sparse\u001b[0m\u001b[0;34m=\u001b[0m\u001b[0maccept_sparse\u001b[0m\u001b[0;34m\u001b[0m\u001b[0m\n\u001b[1;32m    136\u001b[0m         )\n",
      "\u001b[0;31mAttributeError\u001b[0m: 'FunctionSampler' object has no attribute '_validate_data'"
     ]
    }
   ],
   "source": [
    "def outlier_rejection(X, y):\n",
    "    \"\"\"This will be our function used to resample our dataset.\"\"\"\n",
    "    model = IsolationForest(max_samples=100,\n",
    "                            contamination=0.4,\n",
    "                            random_state=rng)\n",
    "    model.fit(X)\n",
    "    y_pred = model.predict(X)\n",
    "    return X[y_pred == 1], y[y_pred == 1]\n",
    "\n",
    "\n",
    "reject_sampler = FunctionSampler(func=outlier_rejection)\n",
    "print(reject_sampler.fit_resample)\n",
    "X_inliers, y_inliers = reject_sampler.fit_resample(X_train, y_train)\n",
    "plot_scatter(X_inliers, y_inliers, 'Training data without outliers')"
   ]
  },
  {
   "cell_type": "code",
   "execution_count": null,
   "metadata": {},
   "outputs": [],
   "source": []
  },
  {
   "cell_type": "markdown",
   "metadata": {},
   "source": [
    "---\n",
    "## 6.58 tsfresh"
   ]
  },
  {
   "cell_type": "code",
   "execution_count": 76,
   "metadata": {},
   "outputs": [
    {
     "name": "stdout",
     "output_type": "stream",
     "text": [
      "True\n"
     ]
    }
   ],
   "source": [
    "from tsfresh.examples.robot_execution_failures import load_robot_execution_failures\n",
    "import os\n",
    "timeseries, y = load_robot_execution_failures()"
   ]
  },
  {
   "cell_type": "code",
   "execution_count": 77,
   "metadata": {},
   "outputs": [
    {
     "name": "stdout",
     "output_type": "stream",
     "text": [
      "   id  time  F_x  F_y  F_z  T_x  T_y  T_z\n",
      "0   1     0   -1   -1   63   -3   -1    0\n",
      "1   1     1    0    0   62   -3   -1    0\n",
      "2   1     2   -1   -1   61   -3    0    0\n",
      "3   1     3   -1   -1   63   -2   -1    0\n",
      "4   1     4   -1   -1   63   -3   -1    0\n"
     ]
    },
    {
     "data": {
      "image/png": "[encoded data removed]",
      "text/plain": [
       "<Figure size 720x720 with 8 Axes>"
      ]
     },
     "metadata": {
      "needs_background": "light"
     },
     "output_type": "display_data"
    }
   ],
   "source": [
    "print(timeseries.head())\n",
    "import matplotlib.pyplot as plt\n",
    "timeseries[timeseries['id'] == 3].plot(subplots=True, sharex=True, figsize=(10,10))\n",
    "plt.show()"
   ]
  },
  {
   "cell_type": "code",
   "execution_count": 78,
   "metadata": {},
   "outputs": [
    {
     "data": {
      "image/png": "[encoded data removed]",
      "text/plain": [
       "<Figure size 720x720 with 8 Axes>"
      ]
     },
     "metadata": {
      "needs_background": "light"
     },
     "output_type": "display_data"
    }
   ],
   "source": [
    "timeseries[timeseries['id'] == 21].plot(subplots=True, sharex=True, figsize=(10,10))\n",
    "plt.show()"
   ]
  },
  {
   "cell_type": "code",
   "execution_count": 82,
   "metadata": {},
   "outputs": [
    {
     "name": "stderr",
     "output_type": "stream",
     "text": [
      "Feature Extraction: 100%|██████████| 20/20 [00:07<00:00,  2.78it/s]\n"
     ]
    },
    {
     "name": "stdout",
     "output_type": "stream",
     "text": [
      "    F_x__variance_larger_than_standard_deviation  F_x__has_duplicate_max  \\\n",
      "1                                            0.0                     0.0   \n",
      "2                                            0.0                     1.0   \n",
      "3                                            0.0                     0.0   \n",
      "4                                            0.0                     1.0   \n",
      "5                                            0.0                     0.0   \n",
      "..                                           ...                     ...   \n",
      "84                                           1.0                     1.0   \n",
      "85                                           1.0                     0.0   \n",
      "86                                           1.0                     0.0   \n",
      "87                                           1.0                     1.0   \n",
      "88                                           1.0                     0.0   \n",
      "\n",
      "    F_x__has_duplicate_min  F_x__has_duplicate  F_x__sum_values  \\\n",
      "1                      1.0                 1.0            -14.0   \n",
      "2                      1.0                 1.0            -13.0   \n",
      "3                      1.0                 1.0            -10.0   \n",
      "4                      1.0                 1.0             -6.0   \n",
      "5                      0.0                 1.0             -9.0   \n",
      "..                     ...                 ...              ...   \n",
      "84                     0.0                 1.0          -1073.0   \n",
      "85                     1.0                 1.0            143.0   \n",
      "86                     0.0                 0.0            961.0   \n",
      "87                     0.0                 1.0           4509.0   \n",
      "88                     1.0                 1.0           -143.0   \n",
      "\n",
      "    F_x__abs_energy  F_x__mean_abs_change  F_x__mean_change  \\\n",
      "1              14.0              0.142857          0.000000   \n",
      "2              25.0              1.000000          0.000000   \n",
      "3              12.0              0.714286          0.000000   \n",
      "4              16.0              1.214286         -0.071429   \n",
      "5              17.0              0.928571         -0.071429   \n",
      "..              ...                   ...               ...   \n",
      "84          96833.0              7.142857         -5.428571   \n",
      "85           1683.0              1.357143          1.071429   \n",
      "86          83497.0              9.071429          9.071429   \n",
      "87        1405437.0             12.928571         12.214286   \n",
      "88           1427.0              0.785714         -0.500000   \n",
      "\n",
      "    F_x__mean_second_derivative_central  F_x__median  ...  \\\n",
      "1                             -0.038462         -1.0  ...   \n",
      "2                             -0.038462         -1.0  ...   \n",
      "3                             -0.038462         -1.0  ...   \n",
      "4                             -0.038462          0.0  ...   \n",
      "5                              0.038462         -1.0  ...   \n",
      "..                                  ...          ...  ...   \n",
      "84                            -0.038462        -98.0  ...   \n",
      "85                             0.076923          8.0  ...   \n",
      "86                             0.807692         52.0  ...   \n",
      "87                            -1.038462        338.0  ...   \n",
      "88                             0.038462         -9.0  ...   \n",
      "\n",
      "    T_z__fourier_entropy__bins_2  T_z__fourier_entropy__bins_3  \\\n",
      "1                            NaN                           NaN   \n",
      "2                       0.562335                      0.562335   \n",
      "3                       0.661563                      1.039721   \n",
      "4                       0.562335                      0.735622   \n",
      "5                       0.562335                      0.562335   \n",
      "..                           ...                           ...   \n",
      "84                      0.376770                      0.735622   \n",
      "85                      0.376770                      0.376770   \n",
      "86                      0.376770                      0.376770   \n",
      "87                      0.376770                      0.376770   \n",
      "88                      0.693147                      1.082196   \n",
      "\n",
      "    T_z__fourier_entropy__bins_5  T_z__fourier_entropy__bins_10  \\\n",
      "1                            NaN                            NaN   \n",
      "2                       1.073543                       1.494175   \n",
      "3                       1.386294                       1.732868   \n",
      "4                       1.073543                       1.494175   \n",
      "5                       0.900256                       1.320888   \n",
      "..                           ...                            ...   \n",
      "84                      0.735622                       0.735622   \n",
      "85                      0.735622                       0.735622   \n",
      "86                      0.735622                       1.073543   \n",
      "87                      0.735622                       0.735622   \n",
      "88                      1.255482                       1.494175   \n",
      "\n",
      "    T_z__fourier_entropy__bins_100  \\\n",
      "1                              NaN   \n",
      "2                         2.079442   \n",
      "3                         2.079442   \n",
      "4                         2.079442   \n",
      "5                         2.079442   \n",
      "..                             ...   \n",
      "84                        1.386294   \n",
      "85                        1.667462   \n",
      "86                        1.732868   \n",
      "87                        1.386294   \n",
      "88                        2.079442   \n",
      "\n",
      "    T_z__permutation_entropy__dimension_3__tau_1  \\\n",
      "1                                      -0.000000   \n",
      "2                                       0.937156   \n",
      "3                                       1.265857   \n",
      "4                                       1.156988   \n",
      "5                                       1.156988   \n",
      "..                                           ...   \n",
      "84                                      1.585771   \n",
      "85                                      1.332245   \n",
      "86                                      0.687092   \n",
      "87                                      0.535961   \n",
      "88                                      0.830518   \n",
      "\n",
      "    T_z__permutation_entropy__dimension_4__tau_1  \\\n",
      "1                                      -0.000000   \n",
      "2                                       1.234268   \n",
      "3                                       1.704551   \n",
      "4                                       1.907284   \n",
      "5                                       1.863680   \n",
      "..                                           ...   \n",
      "84                                      2.253858   \n",
      "85                                      1.589027   \n",
      "86                                      0.983088   \n",
      "87                                      0.836988   \n",
      "88                                      1.242453   \n",
      "\n",
      "    T_z__permutation_entropy__dimension_5__tau_1  \\\n",
      "1                                      -0.000000   \n",
      "2                                       1.540306   \n",
      "3                                       2.019815   \n",
      "4                                       2.397895   \n",
      "5                                       2.271869   \n",
      "..                                           ...   \n",
      "84                                      2.397895   \n",
      "85                                      1.893788   \n",
      "86                                      1.159589   \n",
      "87                                      1.159589   \n",
      "88                                      1.414279   \n",
      "\n",
      "    T_z__permutation_entropy__dimension_6__tau_1  \\\n",
      "1                                      -0.000000   \n",
      "2                                       1.748067   \n",
      "3                                       2.163956   \n",
      "4                                       2.302585   \n",
      "5                                       2.302585   \n",
      "..                                           ...   \n",
      "84                                      2.302585   \n",
      "85                                      2.163956   \n",
      "86                                      1.227529   \n",
      "87                                      1.497866   \n",
      "88                                      1.609438   \n",
      "\n",
      "    T_z__permutation_entropy__dimension_7__tau_1  \n",
      "1                                      -0.000000  \n",
      "2                                       1.831020  \n",
      "3                                       2.197225  \n",
      "4                                       2.197225  \n",
      "5                                       2.197225  \n",
      "..                                           ...  \n",
      "84                                      2.197225  \n",
      "85                                      2.197225  \n",
      "86                                      1.303092  \n",
      "87                                      1.581094  \n",
      "88                                      1.831020  \n",
      "\n",
      "[88 rows x 4674 columns]\n"
     ]
    }
   ],
   "source": [
    "from tsfresh import extract_features\n",
    "extracted_features = extract_features(timeseries, column_id=\"id\", column_sort=\"time\")\n",
    "print(extracted_features)"
   ]
  },
  {
   "cell_type": "code",
   "execution_count": 80,
   "metadata": {},
   "outputs": [
    {
     "name": "stderr",
     "output_type": "stream",
     "text": [
      "/usr/local/lib/python3.7/site-packages/tsfresh/utilities/dataframe_functions.py:172: RuntimeWarning: The columns ['T_x__partial_autocorrelation__lag_7'\n",
      " 'T_x__partial_autocorrelation__lag_8'\n",
      " 'T_x__partial_autocorrelation__lag_9' ...\n",
      " 'F_z__agg_linear_trend__attr_\"stderr\"__chunk_len_50__f_agg_\"min\"'\n",
      " 'F_z__agg_linear_trend__attr_\"stderr\"__chunk_len_50__f_agg_\"mean\"'\n",
      " 'F_z__agg_linear_trend__attr_\"stderr\"__chunk_len_50__f_agg_\"var\"'] did not have any finite values. Filling with zeros.\n",
      "  df.iloc[:, np.where(is_col_non_finite)[0]].columns.values), RuntimeWarning)\n"
     ]
    }
   ],
   "source": [
    "from tsfresh import select_features\n",
    "from tsfresh.utilities.dataframe_functions import impute\n",
    "\n",
    "impute(extracted_features)\n",
    "features_filtered = select_features(extracted_features, y)"
   ]
  },
  {
   "cell_type": "code",
   "execution_count": 83,
   "metadata": {},
   "outputs": [
    {
     "name": "stderr",
     "output_type": "stream",
     "text": [
      "Feature Extraction: 100%|██████████| 20/20 [00:06<00:00,  2.88it/s]\n"
     ]
    },
    {
     "name": "stdout",
     "output_type": "stream",
     "text": [
      "    F_x__value_count__value_-1  F_x__abs_energy  \\\n",
      "1                         14.0             14.0   \n",
      "2                          7.0             25.0   \n",
      "3                         11.0             12.0   \n",
      "4                          5.0             16.0   \n",
      "5                          9.0             17.0   \n",
      "..                         ...              ...   \n",
      "84                         0.0          96833.0   \n",
      "85                         0.0           1683.0   \n",
      "86                         0.0          83497.0   \n",
      "87                         0.0        1405437.0   \n",
      "88                         0.0           1427.0   \n",
      "\n",
      "    F_x__range_count__max_1__min_-1  F_y__abs_energy  T_y__variance  \\\n",
      "1                              15.0             13.0       0.222222   \n",
      "2                              13.0             76.0       4.222222   \n",
      "3                              14.0             40.0       3.128889   \n",
      "4                              10.0             60.0       7.128889   \n",
      "5                              13.0             46.0       4.160000   \n",
      "..                              ...              ...            ...   \n",
      "84                              0.0          42780.0    1563.528889   \n",
      "85                              0.0           1523.0      14.755556   \n",
      "86                              0.0          21064.0    2788.595556   \n",
      "87                              0.0         308658.0    6415.715556   \n",
      "88                              0.0            113.0       6.906667   \n",
      "\n",
      "    T_y__standard_deviation  F_x__fft_coefficient__attr_\"abs\"__coeff_1  \\\n",
      "1                  0.471405                                   1.000000   \n",
      "2                  2.054805                                   0.624118   \n",
      "3                  1.768867                                   2.203858   \n",
      "4                  2.669998                                   0.844394   \n",
      "5                  2.039608                                   2.730599   \n",
      "..                      ...                                        ...   \n",
      "84                39.541483                                 359.248162   \n",
      "85                 3.841296                                  36.770027   \n",
      "86                52.807154                                 312.044052   \n",
      "87                80.098162                                 481.046930   \n",
      "88                 2.628054                                  15.524355   \n",
      "\n",
      "    T_y__fft_coefficient__attr_\"abs\"__coeff_1  T_y__abs_energy  \\\n",
      "1                                    1.165352             10.0   \n",
      "2                                    6.020261             90.0   \n",
      "3                                    8.235442            103.0   \n",
      "4                                   12.067855            124.0   \n",
      "5                                    6.445330            180.0   \n",
      "..                                        ...              ...   \n",
      "84                                 309.190088         171261.0   \n",
      "85                                  26.631007            503.0   \n",
      "86                                 429.697740         118013.0   \n",
      "87                                 683.196535        2430295.0   \n",
      "88                                  16.768541           7630.0   \n",
      "\n",
      "    F_z__standard_deviation  ...  \\\n",
      "1                  1.203698  ...   \n",
      "2                  4.333846  ...   \n",
      "3                  4.616877  ...   \n",
      "4                  3.833188  ...   \n",
      "5                  4.841487  ...   \n",
      "..                      ...  ...   \n",
      "84               291.988082  ...   \n",
      "85                14.501494  ...   \n",
      "86               121.420189  ...   \n",
      "87               204.966621  ...   \n",
      "88                10.627010  ...   \n",
      "\n",
      "    T_x__change_quantiles__f_agg_\"var\"__isabs_True__qh_0.2__ql_0.0  \\\n",
      "1                                            0.000000                \n",
      "2                                            0.000000                \n",
      "3                                            0.000000                \n",
      "4                                            0.000000                \n",
      "5                                            0.000000                \n",
      "..                                                ...                \n",
      "84                                          64.000000                \n",
      "85                                           4.666667                \n",
      "86                                           0.250000                \n",
      "87                                           0.000000                \n",
      "88                                           4.666667                \n",
      "\n",
      "    F_z__change_quantiles__f_agg_\"mean\"__isabs_True__qh_1.0__ql_0.8  \\\n",
      "1                                                 0.0                 \n",
      "2                                                 1.0                 \n",
      "3                                                 3.0                 \n",
      "4                                                 0.0                 \n",
      "5                                                 0.0                 \n",
      "..                                                ...                 \n",
      "84                                               46.0                 \n",
      "85                                                4.5                 \n",
      "86                                                7.0                 \n",
      "87                                               90.5                 \n",
      "88                                                0.0                 \n",
      "\n",
      "    T_x__quantile__q_0.1  F_y__has_duplicate_max  \\\n",
      "1                   -3.0                     1.0   \n",
      "2                   -9.2                     1.0   \n",
      "3                   -6.6                     0.0   \n",
      "4                   -9.0                     0.0   \n",
      "5                   -9.6                     0.0   \n",
      "..                   ...                     ...   \n",
      "84                 203.2                     0.0   \n",
      "85                 -41.6                     0.0   \n",
      "86                 -84.8                     0.0   \n",
      "87                -139.2                     0.0   \n",
      "88                 -24.6                     0.0   \n",
      "\n",
      "    F_y__cwt_coefficients__coeff_14__w_5__widths_(2, 5, 10, 20)  \\\n",
      "1                                           -0.751682             \n",
      "2                                            0.057818             \n",
      "3                                            0.912474             \n",
      "4                                           -0.609735             \n",
      "5                                            0.072771             \n",
      "..                                                ...             \n",
      "84                                          71.641254             \n",
      "85                                          16.349699             \n",
      "86                                          71.095480             \n",
      "87                                         173.699573             \n",
      "88                                           3.226801             \n",
      "\n",
      "    F_y__cwt_coefficients__coeff_13__w_2__widths_(2, 5, 10, 20)  \\\n",
      "1                                           -0.310265             \n",
      "2                                           -0.202951             \n",
      "3                                            0.539121             \n",
      "4                                           -2.641390             \n",
      "5                                            0.591927             \n",
      "..                                                ...             \n",
      "84                                          38.559593             \n",
      "85                                          14.429645             \n",
      "86                                          60.760842             \n",
      "87                                         109.029954             \n",
      "88                                           2.455593             \n",
      "\n",
      "    T_y__quantile__q_0.1  F_z__time_reversal_asymmetry_statistic__lag_1  \\\n",
      "1                   -1.0                                  -5.960000e+02   \n",
      "2                   -3.6                                  -6.803846e+02   \n",
      "3                   -4.0                                  -6.170000e+02   \n",
      "4                   -4.6                                   3.426308e+03   \n",
      "5                   -5.0                                  -2.609000e+03   \n",
      "..                   ...                                            ...   \n",
      "84                  36.4                                  -7.700628e+07   \n",
      "85                   1.0                                  -1.050785e+04   \n",
      "86                  19.6                                  -5.544922e+06   \n",
      "87                 272.6                                  -9.881845e+07   \n",
      "88                 -26.2                                  -1.340477e+04   \n",
      "\n",
      "    F_x__quantile__q_0.2  F_y__quantile__q_0.7  \n",
      "1                   -1.0                  -1.0  \n",
      "2                   -1.0                  -1.0  \n",
      "3                   -1.0                   0.0  \n",
      "4                   -1.0                   1.0  \n",
      "5                   -1.0                   0.8  \n",
      "..                   ...                   ...  \n",
      "84                -105.0                  66.8  \n",
      "85                   5.8                  10.6  \n",
      "86                  30.4                  38.4  \n",
      "87                 246.8                 154.8  \n",
      "88                 -11.2                   3.0  \n",
      "\n",
      "[88 rows x 671 columns]\n"
     ]
    }
   ],
   "source": [
    "from tsfresh import extract_relevant_features\n",
    "\n",
    "features_filtered_direct = extract_relevant_features(timeseries, y,\n",
    "                                                     column_id='id', column_sort='time')\n",
    "print(features_filtered_direct)"
   ]
  },
  {
   "cell_type": "code",
   "execution_count": 68,
   "metadata": {},
   "outputs": [
    {
     "data": {
      "text/plain": [
       "'/data/python/tmp/ldw'"
      ]
     },
     "execution_count": 68,
     "metadata": {},
     "output_type": "execute_result"
    }
   ],
   "source": [
    "os.path.abspath('.')"
   ]
  },
  {
   "cell_type": "markdown",
   "metadata": {},
   "source": [
    "---\n",
    "## 6.59 featuretools"
   ]
  },
  {
   "cell_type": "code",
   "execution_count": 87,
   "metadata": {},
   "outputs": [
    {
     "data": {
      "image/svg+xml": [
       "<?xml version=\"1.0\" encoding=\"UTF-8\" standalone=\"no\"?>\n",
       "<!DOCTYPE svg PUBLIC \"-//W3C//DTD SVG 1.1//EN\"\n",
       " \"http://www.w3.org/Graphics/SVG/1.1/DTD/svg11.dtd\">\n",
       "<!-- Generated by graphviz version 2.30.1 (20180420.1509)\n",
       " -->\n",
       "<!-- Title: transactions Pages: 1 -->\n",
       "<svg width=\"356pt\" height=\"372pt\"\n",
       " viewBox=\"0.00 0.00 356.00 372.00\" xmlns=\"http://www.w3.org/2000/svg\" xmlns:xlink=\"http://www.w3.org/1999/xlink\">\n",
       "<g id=\"graph0\" class=\"graph\" transform=\"scale(1 1) rotate(0) translate(4 368)\">\n",
       "<title>transactions</title>\n",
       "<polygon fill=\"white\" stroke=\"white\" points=\"-4,5 -4,-368 353,-368 353,5 -4,5\"/>\n",
       "<!-- transactions -->\n",
       "<g id=\"node1\" class=\"node\"><title>transactions</title>\n",
       "<polygon fill=\"none\" stroke=\"black\" points=\"33,-257 33,-363 267,-363 267,-257 33,-257\"/>\n",
       "<text text-anchor=\"middle\" x=\"150\" y=\"-347.8\" font-family=\"Times,serif\" font-size=\"14.00\">transactions (500 rows)</text>\n",
       "<polyline fill=\"none\" stroke=\"black\" points=\"33,-340 267,-340 \"/>\n",
       "<text text-anchor=\"start\" x=\"41\" y=\"-324.8\" font-family=\"Times,serif\" font-size=\"14.00\">transaction_id : index</text>\n",
       "<text text-anchor=\"start\" x=\"41\" y=\"-309.8\" font-family=\"Times,serif\" font-size=\"14.00\">session_id : id</text>\n",
       "<text text-anchor=\"start\" x=\"41\" y=\"-294.8\" font-family=\"Times,serif\" font-size=\"14.00\">transaction_time : datetime_time_index</text>\n",
       "<text text-anchor=\"start\" x=\"41\" y=\"-279.8\" font-family=\"Times,serif\" font-size=\"14.00\">amount : numeric</text>\n",
       "<text text-anchor=\"start\" x=\"41\" y=\"-264.8\" font-family=\"Times,serif\" font-size=\"14.00\">product_id : id</text>\n",
       "</g>\n",
       "<!-- products -->\n",
       "<g id=\"node2\" class=\"node\"><title>products</title>\n",
       "<polygon fill=\"none\" stroke=\"black\" points=\"0,-143.5 0,-204.5 118,-204.5 118,-143.5 0,-143.5\"/>\n",
       "<text text-anchor=\"middle\" x=\"59\" y=\"-189.3\" font-family=\"Times,serif\" font-size=\"14.00\">products (5 rows)</text>\n",
       "<polyline fill=\"none\" stroke=\"black\" points=\"0,-181.5 118,-181.5 \"/>\n",
       "<text text-anchor=\"start\" x=\"8\" y=\"-166.3\" font-family=\"Times,serif\" font-size=\"14.00\">product_id : index</text>\n",
       "<text text-anchor=\"start\" x=\"8\" y=\"-151.3\" font-family=\"Times,serif\" font-size=\"14.00\">brand : categorical</text>\n",
       "</g>\n",
       "<!-- transactions&#45;&gt;products -->\n",
       "<g id=\"edge1\" class=\"edge\"><title>transactions&#45;&gt;products</title>\n",
       "<path fill=\"none\" stroke=\"black\" d=\"M75.5,-256.64C75.5,-256.64 75.5,-214.842 75.5,-214.842\"/>\n",
       "<polygon fill=\"black\" stroke=\"black\" points=\"79.0001,-214.842 75.5,-204.842 72.0001,-214.842 79.0001,-214.842\"/>\n",
       "<text text-anchor=\"middle\" x=\"46\" y=\"-239.541\" font-family=\"Times,serif\" font-size=\"14.00\">product_id</text>\n",
       "</g>\n",
       "<!-- sessions -->\n",
       "<g id=\"node3\" class=\"node\"><title>sessions</title>\n",
       "<polygon fill=\"none\" stroke=\"black\" points=\"136,-128.5 136,-219.5 348,-219.5 348,-128.5 136,-128.5\"/>\n",
       "<text text-anchor=\"middle\" x=\"242\" y=\"-204.3\" font-family=\"Times,serif\" font-size=\"14.00\">sessions (35 rows)</text>\n",
       "<polyline fill=\"none\" stroke=\"black\" points=\"136,-196.5 348,-196.5 \"/>\n",
       "<text text-anchor=\"start\" x=\"144\" y=\"-181.3\" font-family=\"Times,serif\" font-size=\"14.00\">session_id : index</text>\n",
       "<text text-anchor=\"start\" x=\"144\" y=\"-166.3\" font-family=\"Times,serif\" font-size=\"14.00\">customer_id : id</text>\n",
       "<text text-anchor=\"start\" x=\"144\" y=\"-151.3\" font-family=\"Times,serif\" font-size=\"14.00\">device : categorical</text>\n",
       "<text text-anchor=\"start\" x=\"144\" y=\"-136.3\" font-family=\"Times,serif\" font-size=\"14.00\">session_start : datetime_time_index</text>\n",
       "</g>\n",
       "<!-- transactions&#45;&gt;sessions -->\n",
       "<g id=\"edge2\" class=\"edge\"><title>transactions&#45;&gt;sessions</title>\n",
       "<path fill=\"none\" stroke=\"black\" d=\"M201.5,-256.64C201.5,-256.64 201.5,-229.721 201.5,-229.721\"/>\n",
       "<polygon fill=\"black\" stroke=\"black\" points=\"205,-229.721 201.5,-219.721 198,-229.721 205,-229.721\"/>\n",
       "<text text-anchor=\"middle\" x=\"173\" y=\"-231.98\" font-family=\"Times,serif\" font-size=\"14.00\">session_id</text>\n",
       "</g>\n",
       "<!-- customers -->\n",
       "<g id=\"node4\" class=\"node\"><title>customers</title>\n",
       "<polygon fill=\"none\" stroke=\"black\" points=\"145,-0.5 145,-91.5 339,-91.5 339,-0.5 145,-0.5\"/>\n",
       "<text text-anchor=\"middle\" x=\"242\" y=\"-76.3\" font-family=\"Times,serif\" font-size=\"14.00\">customers (5 rows)</text>\n",
       "<polyline fill=\"none\" stroke=\"black\" points=\"145,-68.5 339,-68.5 \"/>\n",
       "<text text-anchor=\"start\" x=\"153\" y=\"-53.3\" font-family=\"Times,serif\" font-size=\"14.00\">customer_id : index</text>\n",
       "<text text-anchor=\"start\" x=\"153\" y=\"-38.3\" font-family=\"Times,serif\" font-size=\"14.00\">join_date : datetime_time_index</text>\n",
       "<text text-anchor=\"start\" x=\"153\" y=\"-23.3\" font-family=\"Times,serif\" font-size=\"14.00\">date_of_birth : datetime</text>\n",
       "<text text-anchor=\"start\" x=\"153\" y=\"-8.3\" font-family=\"Times,serif\" font-size=\"14.00\">zip_code : zip_code</text>\n",
       "</g>\n",
       "<!-- sessions&#45;&gt;customers -->\n",
       "<g id=\"edge3\" class=\"edge\"><title>sessions&#45;&gt;customers</title>\n",
       "<path fill=\"none\" stroke=\"black\" d=\"M242,-128.151C242,-128.151 242,-101.529 242,-101.529\"/>\n",
       "<polygon fill=\"black\" stroke=\"black\" points=\"245.5,-101.529 242,-91.5293 238.5,-101.529 245.5,-101.529\"/>\n",
       "<text text-anchor=\"middle\" x=\"208\" y=\"-103.64\" font-family=\"Times,serif\" font-size=\"14.00\">customer_id</text>\n",
       "</g>\n",
       "</g>\n",
       "</svg>\n"
      ],
      "text/plain": [
       "<graphviz.dot.Digraph at 0x7ff3bad8fba8>"
      ]
     },
     "execution_count": 87,
     "metadata": {},
     "output_type": "execute_result"
    }
   ],
   "source": [
    "import featuretools as ft\n",
    "es = ft.demo.load_mock_customer(return_entityset=True)\n",
    "es.plot()"
   ]
  },
  {
   "cell_type": "code",
   "execution_count": 88,
   "metadata": {},
   "outputs": [
    {
     "ename": "ImportError",
     "evalue": "cannot import name '_is_url' from 'pandas.io.common' (/usr/local/lib/python3.7/site-packages/pandas/io/common.py)",
     "output_type": "error",
     "traceback": [
      "\u001b[0;31m---------------------------------------------------------------------------\u001b[0m",
      "\u001b[0;31mImportError\u001b[0m                               Traceback (most recent call last)",
      "\u001b[0;32m/usr/local/lib/python3.7/site-packages/IPython/core/formatters.py\u001b[0m in \u001b[0;36m__call__\u001b[0;34m(self, obj)\u001b[0m\n\u001b[1;32m    343\u001b[0m             \u001b[0mmethod\u001b[0m \u001b[0;34m=\u001b[0m \u001b[0mget_real_method\u001b[0m\u001b[0;34m(\u001b[0m\u001b[0mobj\u001b[0m\u001b[0;34m,\u001b[0m \u001b[0mself\u001b[0m\u001b[0;34m.\u001b[0m\u001b[0mprint_method\u001b[0m\u001b[0;34m)\u001b[0m\u001b[0;34m\u001b[0m\u001b[0m\n\u001b[1;32m    344\u001b[0m             \u001b[0;32mif\u001b[0m \u001b[0mmethod\u001b[0m \u001b[0;32mis\u001b[0m \u001b[0;32mnot\u001b[0m \u001b[0;32mNone\u001b[0m\u001b[0;34m:\u001b[0m\u001b[0;34m\u001b[0m\u001b[0m\n\u001b[0;32m--> 345\u001b[0;31m                 \u001b[0;32mreturn\u001b[0m \u001b[0mmethod\u001b[0m\u001b[0;34m(\u001b[0m\u001b[0;34m)\u001b[0m\u001b[0;34m\u001b[0m\u001b[0m\n\u001b[0m\u001b[1;32m    346\u001b[0m             \u001b[0;32mreturn\u001b[0m \u001b[0;32mNone\u001b[0m\u001b[0;34m\u001b[0m\u001b[0m\n\u001b[1;32m    347\u001b[0m         \u001b[0;32melse\u001b[0m\u001b[0;34m:\u001b[0m\u001b[0;34m\u001b[0m\u001b[0m\n",
      "\u001b[0;32m/usr/local/lib/python3.7/site-packages/pandas/core/frame.py\u001b[0m in \u001b[0;36m_repr_html_\u001b[0;34m(self)\u001b[0m\n\u001b[1;32m    732\u001b[0m         \u001b[0mdecimal\u001b[0m\u001b[0;34m=\u001b[0m\u001b[0;34m\".\"\u001b[0m\u001b[0;34m,\u001b[0m\u001b[0;34m\u001b[0m\u001b[0m\n\u001b[1;32m    733\u001b[0m         \u001b[0mline_width\u001b[0m\u001b[0;34m=\u001b[0m\u001b[0;32mNone\u001b[0m\u001b[0;34m,\u001b[0m\u001b[0;34m\u001b[0m\u001b[0m\n\u001b[0;32m--> 734\u001b[0;31m     ):\n\u001b[0m\u001b[1;32m    735\u001b[0m         \"\"\"\n\u001b[1;32m    736\u001b[0m         \u001b[0mRender\u001b[0m \u001b[0ma\u001b[0m \u001b[0mDataFrame\u001b[0m \u001b[0mto\u001b[0m \u001b[0ma\u001b[0m \u001b[0mconsole\u001b[0m\u001b[0;34m-\u001b[0m\u001b[0mfriendly\u001b[0m \u001b[0mtabular\u001b[0m \u001b[0moutput\u001b[0m\u001b[0;34m.\u001b[0m\u001b[0;34m\u001b[0m\u001b[0m\n",
      "\u001b[0;32m/usr/local/lib/python3.7/site-packages/pandas/io/formats/format.py\u001b[0m in \u001b[0;36mto_html\u001b[0;34m(self, buf, encoding, classes, notebook, border)\u001b[0m\n\u001b[1;32m    977\u001b[0m     \u001b[0mfloat_format\u001b[0m\u001b[0;34m\u001b[0m\u001b[0m\n\u001b[1;32m    978\u001b[0m     \u001b[0mna_rep\u001b[0m\u001b[0;34m\u001b[0m\u001b[0m\n\u001b[0;32m--> 979\u001b[0;31m     \u001b[0mdigits\u001b[0m\u001b[0;34m\u001b[0m\u001b[0m\n\u001b[0m\u001b[1;32m    980\u001b[0m     \u001b[0mspace\u001b[0m\u001b[0;34m\u001b[0m\u001b[0m\n\u001b[1;32m    981\u001b[0m     \u001b[0mjustify\u001b[0m\u001b[0;34m\u001b[0m\u001b[0m\n",
      "\u001b[0;32m/usr/local/lib/python3.7/site-packages/pandas/io/formats/html.py\u001b[0m in \u001b[0;36m<module>\u001b[0;34m\u001b[0m\n\u001b[1;32m     13\u001b[0m \u001b[0;32mfrom\u001b[0m \u001b[0mpandas\u001b[0m \u001b[0;32mimport\u001b[0m \u001b[0moption_context\u001b[0m\u001b[0;34m\u001b[0m\u001b[0m\n\u001b[1;32m     14\u001b[0m \u001b[0;34m\u001b[0m\u001b[0m\n\u001b[0;32m---> 15\u001b[0;31m \u001b[0;32mfrom\u001b[0m \u001b[0mpandas\u001b[0m\u001b[0;34m.\u001b[0m\u001b[0mio\u001b[0m\u001b[0;34m.\u001b[0m\u001b[0mcommon\u001b[0m \u001b[0;32mimport\u001b[0m \u001b[0m_is_url\u001b[0m\u001b[0;34m\u001b[0m\u001b[0m\n\u001b[0m\u001b[1;32m     16\u001b[0m from pandas.io.formats.format import (\n\u001b[1;32m     17\u001b[0m     \u001b[0mDataFrameFormatter\u001b[0m\u001b[0;34m,\u001b[0m\u001b[0;34m\u001b[0m\u001b[0m\n",
      "\u001b[0;31mImportError\u001b[0m: cannot import name '_is_url' from 'pandas.io.common' (/usr/local/lib/python3.7/site-packages/pandas/io/common.py)"
     ]
    },
    {
     "data": {
      "text/plain": [
       "            zip_code  COUNT(sessions) MODE(sessions.device)  \\\n",
       "customer_id                                                   \n",
       "5              60091                6                mobile   \n",
       "4              60091                8                mobile   \n",
       "1              60091                8                mobile   \n",
       "3              13244                6               desktop   \n",
       "2              13244                7               desktop   \n",
       "\n",
       "             NUM_UNIQUE(sessions.device)  COUNT(transactions)  \\\n",
       "customer_id                                                     \n",
       "5                                      3                   79   \n",
       "4                                      3                  109   \n",
       "1                                      3                  126   \n",
       "3                                      3                   93   \n",
       "2                                      3                   93   \n",
       "\n",
       "             MAX(transactions.amount)  MEAN(transactions.amount)  \\\n",
       "customer_id                                                        \n",
       "5                              149.02                  80.375443   \n",
       "4                              149.95                  80.070459   \n",
       "1                              139.43                  71.631905   \n",
       "3                              149.15                  67.060430   \n",
       "2                              146.81                  77.422366   \n",
       "\n",
       "             MIN(transactions.amount)  MODE(transactions.product_id)  \\\n",
       "customer_id                                                            \n",
       "5                                7.55                              5   \n",
       "4                                5.73                              2   \n",
       "1                                5.81                              4   \n",
       "3                                5.89                              1   \n",
       "2                                8.73                              4   \n",
       "\n",
       "             NUM_UNIQUE(transactions.product_id)  ...  \\\n",
       "customer_id                                       ...   \n",
       "5                                              5  ...   \n",
       "4                                              5  ...   \n",
       "1                                              5  ...   \n",
       "3                                              5  ...   \n",
       "2                                              5  ...   \n",
       "\n",
       "             SUM(sessions.MAX(transactions.amount))  \\\n",
       "customer_id                                           \n",
       "5                                            839.76   \n",
       "4                                           1157.99   \n",
       "1                                           1057.97   \n",
       "3                                            847.63   \n",
       "2                                            931.63   \n",
       "\n",
       "             SUM(sessions.MEAN(transactions.amount))  \\\n",
       "customer_id                                            \n",
       "5                                         472.231119   \n",
       "4                                         649.657515   \n",
       "1                                         582.193117   \n",
       "3                                         405.237462   \n",
       "2                                         548.905851   \n",
       "\n",
       "             SUM(sessions.MIN(transactions.amount))  \\\n",
       "customer_id                                           \n",
       "5                                             86.49   \n",
       "4                                            131.51   \n",
       "1                                             78.59   \n",
       "3                                             66.21   \n",
       "2                                            154.60   \n",
       "\n",
       "             SUM(sessions.NUM_UNIQUE(transactions.product_id))  \\\n",
       "customer_id                                                      \n",
       "5                                                           30   \n",
       "4                                                           37   \n",
       "1                                                           40   \n",
       "3                                                           29   \n",
       "2                                                           35   \n",
       "\n",
       "             SUM(sessions.SKEW(transactions.amount))  \\\n",
       "customer_id                                            \n",
       "5                                           0.014384   \n",
       "4                                           0.002764   \n",
       "1                                          -0.476122   \n",
       "3                                           2.286086   \n",
       "2                                          -0.277640   \n",
       "\n",
       "             SUM(sessions.STD(transactions.amount))  \\\n",
       "customer_id                                           \n",
       "5                                        259.873954   \n",
       "4                                        356.125829   \n",
       "1                                        312.745952   \n",
       "3                                        257.299895   \n",
       "2                                        258.700528   \n",
       "\n",
       "             MODE(transactions.sessions.customer_id)  \\\n",
       "customer_id                                            \n",
       "5                                                  5   \n",
       "4                                                  4   \n",
       "1                                                  1   \n",
       "3                                                  3   \n",
       "2                                                  2   \n",
       "\n",
       "             MODE(transactions.sessions.device)  \\\n",
       "customer_id                                       \n",
       "5                                        mobile   \n",
       "4                                        mobile   \n",
       "1                                        mobile   \n",
       "3                                       desktop   \n",
       "2                                       desktop   \n",
       "\n",
       "             NUM_UNIQUE(transactions.sessions.customer_id)  \\\n",
       "customer_id                                                  \n",
       "5                                                        1   \n",
       "4                                                        1   \n",
       "1                                                        1   \n",
       "3                                                        1   \n",
       "2                                                        1   \n",
       "\n",
       "             NUM_UNIQUE(transactions.sessions.device)  \n",
       "customer_id                                            \n",
       "5                                                   3  \n",
       "4                                                   3  \n",
       "1                                                   3  \n",
       "3                                                   3  \n",
       "2                                                   3  \n",
       "\n",
       "[5 rows x 77 columns]"
      ]
     },
     "execution_count": 88,
     "metadata": {},
     "output_type": "execute_result"
    }
   ],
   "source": [
    "feature_matrix, features_defs = ft.dfs(entityset=es, target_entity=\"customers\")\n",
    "feature_matrix.head(5)"
   ]
  },
  {
   "cell_type": "markdown",
   "metadata": {},
   "source": [
    "---\n",
    "## 6.70 networkx"
   ]
  },
  {
   "cell_type": "code",
   "execution_count": 6,
   "metadata": {},
   "outputs": [
    {
     "data": {
      "text/html": [
       "<div>\n",
       "<style scoped>\n",
       "    .dataframe tbody tr th:only-of-type {\n",
       "        vertical-align: middle;\n",
       "    }\n",
       "\n",
       "    .dataframe tbody tr th {\n",
       "        vertical-align: top;\n",
       "    }\n",
       "\n",
       "    .dataframe thead th {\n",
       "        text-align: right;\n",
       "    }\n",
       "</style>\n",
       "<table border=\"1\" class=\"dataframe\">\n",
       "  <thead>\n",
       "    <tr style=\"text-align: right;\">\n",
       "      <th></th>\n",
       "      <th>会员名称</th>\n",
       "      <th>推荐人名称</th>\n",
       "    </tr>\n",
       "  </thead>\n",
       "  <tbody>\n",
       "    <tr>\n",
       "      <th>0</th>\n",
       "      <td>13048115250</td>\n",
       "      <td>厂家</td>\n",
       "    </tr>\n",
       "    <tr>\n",
       "      <th>1</th>\n",
       "      <td>15899960142</td>\n",
       "      <td>厂家</td>\n",
       "    </tr>\n",
       "    <tr>\n",
       "      <th>2</th>\n",
       "      <td>欢乐马</td>\n",
       "      <td>厂家</td>\n",
       "    </tr>\n",
       "    <tr>\n",
       "      <th>3</th>\n",
       "      <td>15718802126</td>\n",
       "      <td>厂家</td>\n",
       "    </tr>\n",
       "    <tr>\n",
       "      <th>4</th>\n",
       "      <td>16630504278</td>\n",
       "      <td>厂家</td>\n",
       "    </tr>\n",
       "  </tbody>\n",
       "</table>\n",
       "</div>"
      ],
      "text/plain": [
       "          会员名称 推荐人名称\n",
       "0  13048115250    厂家\n",
       "1  15899960142    厂家\n",
       "2          欢乐马    厂家\n",
       "3  15718802126    厂家\n",
       "4  16630504278    厂家"
      ]
     },
     "execution_count": 6,
     "metadata": {},
     "output_type": "execute_result"
    }
   ],
   "source": [
    "import pandas as pd\n",
    "import networkx as nx\n",
    "dat = pd.read_excel('./data/会员管理.xlsx')\n",
    "dat[['会员名称','推荐人名称']].head()"
   ]
  },
  {
   "cell_type": "code",
   "execution_count": 38,
   "metadata": {},
   "outputs": [
    {
     "data": {
      "text/html": [
       "<div>\n",
       "<style scoped>\n",
       "    .dataframe tbody tr th:only-of-type {\n",
       "        vertical-align: middle;\n",
       "    }\n",
       "\n",
       "    .dataframe tbody tr th {\n",
       "        vertical-align: top;\n",
       "    }\n",
       "\n",
       "    .dataframe thead th {\n",
       "        text-align: right;\n",
       "    }\n",
       "</style>\n",
       "<table border=\"1\" class=\"dataframe\">\n",
       "  <thead>\n",
       "    <tr style=\"text-align: right;\">\n",
       "      <th></th>\n",
       "      <th>会员Id</th>\n",
       "      <th>会员级别</th>\n",
       "      <th>会员名称</th>\n",
       "      <th>手机号码</th>\n",
       "      <th>推荐人名称</th>\n",
       "      <th>推荐人手机号码</th>\n",
       "      <th>加入时间</th>\n",
       "      <th>idx1</th>\n",
       "      <th>idx2</th>\n",
       "    </tr>\n",
       "  </thead>\n",
       "  <tbody>\n",
       "    <tr>\n",
       "      <th>0</th>\n",
       "      <td>789</td>\n",
       "      <td>会员(2)</td>\n",
       "      <td>13048115250</td>\n",
       "      <td>13048115250</td>\n",
       "      <td>厂家</td>\n",
       "      <td>NaN</td>\n",
       "      <td>2020-09-10 09:30:06</td>\n",
       "      <td>0</td>\n",
       "      <td>196</td>\n",
       "    </tr>\n",
       "    <tr>\n",
       "      <th>1</th>\n",
       "      <td>788</td>\n",
       "      <td>会员(2)</td>\n",
       "      <td>15899960142</td>\n",
       "      <td>15899960142</td>\n",
       "      <td>厂家</td>\n",
       "      <td>NaN</td>\n",
       "      <td>2020-09-09 10:39:11</td>\n",
       "      <td>1</td>\n",
       "      <td>196</td>\n",
       "    </tr>\n",
       "    <tr>\n",
       "      <th>2</th>\n",
       "      <td>786</td>\n",
       "      <td>会员(2)</td>\n",
       "      <td>欢乐马</td>\n",
       "      <td>15210127754</td>\n",
       "      <td>厂家</td>\n",
       "      <td>NaN</td>\n",
       "      <td>2020-09-07 15:31:34</td>\n",
       "      <td>2</td>\n",
       "      <td>196</td>\n",
       "    </tr>\n",
       "    <tr>\n",
       "      <th>3</th>\n",
       "      <td>785</td>\n",
       "      <td>会员(2)</td>\n",
       "      <td>15718802126</td>\n",
       "      <td>15718802126</td>\n",
       "      <td>厂家</td>\n",
       "      <td>NaN</td>\n",
       "      <td>2020-09-06 09:33:39</td>\n",
       "      <td>3</td>\n",
       "      <td>196</td>\n",
       "    </tr>\n",
       "    <tr>\n",
       "      <th>4</th>\n",
       "      <td>784</td>\n",
       "      <td>会员(2)</td>\n",
       "      <td>16630504278</td>\n",
       "      <td>16630504278</td>\n",
       "      <td>厂家</td>\n",
       "      <td>NaN</td>\n",
       "      <td>2020-09-06 09:22:29</td>\n",
       "      <td>4</td>\n",
       "      <td>196</td>\n",
       "    </tr>\n",
       "    <tr>\n",
       "      <th>...</th>\n",
       "      <td>...</td>\n",
       "      <td>...</td>\n",
       "      <td>...</td>\n",
       "      <td>...</td>\n",
       "      <td>...</td>\n",
       "      <td>...</td>\n",
       "      <td>...</td>\n",
       "      <td>...</td>\n",
       "      <td>...</td>\n",
       "    </tr>\n",
       "    <tr>\n",
       "      <th>360</th>\n",
       "      <td>587</td>\n",
       "      <td>会员plus(1)</td>\n",
       "      <td>不靠谱</td>\n",
       "      <td>15811562021</td>\n",
       "      <td>征辉</td>\n",
       "      <td>1.860114e+10</td>\n",
       "      <td>2020-07-07 10:08:00</td>\n",
       "      <td>226</td>\n",
       "      <td>227</td>\n",
       "    </tr>\n",
       "    <tr>\n",
       "      <th>361</th>\n",
       "      <td>585</td>\n",
       "      <td>会员plus(1)</td>\n",
       "      <td>李军艺</td>\n",
       "      <td>13661180188</td>\n",
       "      <td>尹沫儿/122</td>\n",
       "      <td>1.831012e+10</td>\n",
       "      <td>2020-07-07 10:08:00</td>\n",
       "      <td>149</td>\n",
       "      <td>150</td>\n",
       "    </tr>\n",
       "    <tr>\n",
       "      <th>362</th>\n",
       "      <td>585</td>\n",
       "      <td>会员plus(1)</td>\n",
       "      <td>李军艺</td>\n",
       "      <td>13661180188</td>\n",
       "      <td>尹沫儿/122</td>\n",
       "      <td>1.831012e+10</td>\n",
       "      <td>2020-07-07 10:08:00</td>\n",
       "      <td>149</td>\n",
       "      <td>228</td>\n",
       "    </tr>\n",
       "    <tr>\n",
       "      <th>363</th>\n",
       "      <td>585</td>\n",
       "      <td>会员plus(1)</td>\n",
       "      <td>李军艺</td>\n",
       "      <td>13661180188</td>\n",
       "      <td>尹沫儿/122</td>\n",
       "      <td>1.831012e+10</td>\n",
       "      <td>2020-07-07 10:08:00</td>\n",
       "      <td>214</td>\n",
       "      <td>150</td>\n",
       "    </tr>\n",
       "    <tr>\n",
       "      <th>364</th>\n",
       "      <td>585</td>\n",
       "      <td>会员plus(1)</td>\n",
       "      <td>李军艺</td>\n",
       "      <td>13661180188</td>\n",
       "      <td>尹沫儿/122</td>\n",
       "      <td>1.831012e+10</td>\n",
       "      <td>2020-07-07 10:08:00</td>\n",
       "      <td>214</td>\n",
       "      <td>228</td>\n",
       "    </tr>\n",
       "  </tbody>\n",
       "</table>\n",
       "<p>365 rows × 9 columns</p>\n",
       "</div>"
      ],
      "text/plain": [
       "     会员Id       会员级别         会员名称         手机号码    推荐人名称       推荐人手机号码  \\\n",
       "0     789      会员(2)  13048115250  13048115250       厂家           NaN   \n",
       "1     788      会员(2)  15899960142  15899960142       厂家           NaN   \n",
       "2     786      会员(2)          欢乐马  15210127754       厂家           NaN   \n",
       "3     785      会员(2)  15718802126  15718802126       厂家           NaN   \n",
       "4     784      会员(2)  16630504278  16630504278       厂家           NaN   \n",
       "..    ...        ...          ...          ...      ...           ...   \n",
       "360   587  会员plus(1)          不靠谱  15811562021       征辉  1.860114e+10   \n",
       "361   585  会员plus(1)          李军艺  13661180188  尹沫儿/122  1.831012e+10   \n",
       "362   585  会员plus(1)          李军艺  13661180188  尹沫儿/122  1.831012e+10   \n",
       "363   585  会员plus(1)          李军艺  13661180188  尹沫儿/122  1.831012e+10   \n",
       "364   585  会员plus(1)          李军艺  13661180188  尹沫儿/122  1.831012e+10   \n",
       "\n",
       "                    加入时间  idx1  idx2  \n",
       "0    2020-09-10 09:30:06     0   196  \n",
       "1    2020-09-09 10:39:11     1   196  \n",
       "2    2020-09-07 15:31:34     2   196  \n",
       "3    2020-09-06 09:33:39     3   196  \n",
       "4    2020-09-06 09:22:29     4   196  \n",
       "..                   ...   ...   ...  \n",
       "360  2020-07-07 10:08:00   226   227  \n",
       "361  2020-07-07 10:08:00   149   150  \n",
       "362  2020-07-07 10:08:00   149   228  \n",
       "363  2020-07-07 10:08:00   214   150  \n",
       "364  2020-07-07 10:08:00   214   228  \n",
       "\n",
       "[365 rows x 9 columns]"
      ]
     },
     "execution_count": 38,
     "metadata": {},
     "output_type": "execute_result"
    }
   ],
   "source": [
    "d1 = dat[['会员名称']].drop_duplicates()\n",
    "d2 = dat[['推荐人名称']].drop_duplicates()\n",
    "d2.columns = ['会员名称']\n",
    "d_user = d1.append(d2)\n",
    "d_user['idx1'] = range(d_user.shape[0])\n",
    "d_user2 = d_user.copy(deep = True)\n",
    "d_user2.columns = ['推荐人名称', 'idx2']\n",
    "d_final = pd.merge(pd.merge(dat,d_user,on='会员名称'),d_user2,on='推荐人名称')\n",
    "d_final"
   ]
  },
  {
   "cell_type": "code",
   "execution_count": 40,
   "metadata": {},
   "outputs": [
    {
     "name": "stdout",
     "output_type": "stream",
     "text": [
      "Name: Graph from pandas adjacency matrix\n",
      "Type: Graph\n",
      "Number of nodes: 197\n",
      "Number of edges: 197\n",
      "Average degree:   2.0000\n"
     ]
    },
    {
     "name": "stderr",
     "output_type": "stream",
     "text": [
      "/usr/local/lib/python3.7/site-packages/networkx/drawing/nx_pylab.py:611: MatplotlibDeprecationWarning: isinstance(..., numbers.Number)\n",
      "  if cb.is_numlike(alpha):\n"
     ]
    },
    {
     "data": {
      "image/png": "[encoded data removed]",
      "text/plain": [
       "<Figure size 432x288 with 1 Axes>"
      ]
     },
     "metadata": {},
     "output_type": "display_data"
    }
   ],
   "source": [
    "dt = dat[['会员名称','推荐人名称']]\n",
    "dt.columns = ['source','target']\n",
    "G = nx.from_pandas_edgelist(dt)\n",
    "G.name = \"Graph from pandas adjacency matrix\"\n",
    "print(nx.info(G))\n",
    "nx.draw(G, with_labels=True, font_weight='bold')"
   ]
  },
  {
   "cell_type": "code",
   "execution_count": 50,
   "metadata": {},
   "outputs": [
    {
     "name": "stdout",
     "output_type": "stream",
     "text": [
      "['13048115250', '厂家']\n",
      "['15899960142', '厂家']\n",
      "['欢乐马', '厂家']\n",
      "['15718802126', '厂家']\n",
      "['16630504278', '厂家']\n",
      "['15942666634', 'WPP', '厂家']\n",
      "['18019262050', '厂家']\n",
      "['13162583143', '厂家']\n",
      "['追忆～～', '厂家']\n",
      "['13439131567', '厂家']\n",
      "['15901233969', '厂家']\n",
      "['13331163900', '厂家']\n",
      "['15011598741', '厂家']\n",
      "['18211180623', '厂家']\n",
      "['15011263457', '厂家']\n",
      "['19921879620', '厂家']\n",
      "['15040267846', 'WPP', '厂家']\n",
      "['18019282050', '厂家']\n",
      "['13311158999', '厂家']\n",
      "['18819163146', '客服-小美', '厂家']\n",
      "['JUNDY', '厂家']\n",
      "['13810262910', '厂家']\n",
      "['13714748752', '厂家']\n",
      "['17745790019', 'X.4246', '厂家']\n",
      "['13760736136', '厂家']\n",
      "['13586331122', '厂家']\n",
      "['15222510836', '厂家']\n",
      "['小螺子', '厂家']\n",
      "['18680472701', '厂家']\n",
      "['15511111111', '厂家']\n",
      "['13802947724', '厂家']\n",
      "['Jack船长', '厂家']\n",
      "['13853145111', '厂家']\n",
      "['13926564226', '厂家']\n",
      "['17710219323', '郭海文', '厂家']\n",
      "['15048577522', '郭海文', '厂家']\n",
      "['13664003209', '郭海文', '厂家']\n",
      "['17777785089', '厂家']\n",
      "['邓先彬 Jason', '厂家']\n",
      "['13940358971', 'minjie', '厂家']\n",
      "['15110016843', 'minjie', '厂家']\n",
      "['13520988904', 'minjie', '厂家']\n",
      "['13710260445', '厂家']\n",
      "['18249029235', '厂家']\n",
      "['老板加屉小笼包', 'ʚ Crystal.W ɞ', '还是那样', '厂家']\n",
      "['老板加屉小笼包', 'ʚ Crystal.W ɞ', '厂家']\n",
      "['客服-小美', '厂家']\n",
      "['爱吃糖小姐w', '厂家']\n",
      "['13911101912', '厂家']\n",
      "['原力客服', '厂家']\n",
      "['还是那样', '厂家']\n",
      "['还是那样', 'ʚ Crystal.W ɞ', '厂家']\n",
      "['思念', '爱生活', '疼痛', '厂家']\n",
      "['奚利梅', '郭海文', '厂家']\n",
      "['王国庭', '付添豪', '厂家']\n",
      "['妞子(*^_^*)王伟@「贪睡猫的春天」', '付添豪', '厂家']\n",
      "[nan, '赵景毅', 'ʚ Crystal.W ɞ', '还是那样', '厂家']\n",
      "[nan, '赵景毅', 'ʚ Crystal.W ɞ', '厂家']\n",
      "['北方', '赵景毅', 'ʚ Crystal.W ɞ', '还是那样', '厂家']\n",
      "['北方', '赵景毅', 'ʚ Crystal.W ɞ', '厂家']\n",
      "['吉野家店经理刘云鹏', '董红娟', '王宏奎', '疼痛', '厂家']\n",
      "['李娜', 'X.4246', '厂家']\n",
      "['不倒翁女孩', '厂家']\n",
      "['苹果', 'Jon', '厂家']\n",
      "['林', '大猫', '厂家']\n",
      "['董红娟', '王宏奎', '疼痛', '厂家']\n",
      "['雨滴入海', '疼痛', '厂家']\n",
      "['眼眸', '赵晶晶', 'Amy 付静文', '厂家']\n",
      "['Mr. Sun', '赵景毅', 'ʚ Crystal.W ɞ', '还是那样', '厂家']\n",
      "['Mr. Sun', '赵景毅', 'ʚ Crystal.W ɞ', '厂家']\n",
      "['齐冬玲', '付添豪', '厂家']\n",
      "['独一无二', '焱', '付添豪', '厂家']\n",
      "['小惠', '焱', '付添豪', '厂家']\n",
      "['懒的想名字', '赵景毅', 'ʚ Crystal.W ɞ', '还是那样', '厂家']\n",
      "['懒的想名字', '赵景毅', 'ʚ Crystal.W ɞ', '厂家']\n",
      "['张奇', '疼痛', '厂家']\n",
      "['糖雪球er', '郭海文', '厂家']\n",
      "['不给的温柔', '郭海文', '厂家']\n",
      "['贺贺', '老瑞', '疼痛', '厂家']\n",
      "['．玲子~', '李军艺', '尹沫儿/122', '亚楠', '厂家']\n",
      "['焱', '付添豪', '厂家']\n",
      "['斌', '孔维荣', 'Amy 付静文', '厂家']\n",
      "['程少伟', '赵景毅', 'ʚ Crystal.W ɞ', '还是那样', '厂家']\n",
      "['程少伟', '赵景毅', 'ʚ Crystal.W ɞ', '厂家']\n",
      "['文文岳', 'minjie', '厂家']\n",
      "['A泽舅舅', '赵晶晶', 'Amy 付静文', '厂家']\n",
      "['五百年前', 'minjie', '厂家']\n",
      "['娜', '厂家']\n",
      "['零代表什么', '疼痛', '厂家']\n",
      "['midili', '爱生活', '疼痛', '厂家']\n",
      "['石宇晨', '郭海文', '厂家']\n",
      "['萍－kang', '付添豪', '厂家']\n",
      "['zhay张颖', 'X.4246', '厂家']\n",
      "['学峰', '付添豪', '厂家']\n",
      "['绿水长流', '付添豪', '厂家']\n",
      "['孙伟', '疼痛', '厂家']\n",
      "['新大老虎', '付添豪', '厂家']\n",
      "['浅陌', '任翠银吉野家', '郭海文', '厂家']\n",
      "['三园', '李军艺', '尹沫儿/122', '亚楠', '厂家']\n",
      "['赵晶晶', 'Amy 付静文', '厂家']\n",
      "['还是那样', '厂家']\n",
      "['还是那样', 'ʚ Crystal.W ɞ', '厂家']\n",
      "['大光', '赵晶晶', 'Amy 付静文', '厂家']\n",
      "['逍遥@火凤凰', 'Amy 付静文', '厂家']\n",
      "['林海雪原', '厂家']\n",
      "['大勃雪&小芋头', '疼痛', '厂家']\n",
      "['明明胖胖', '付添豪', '厂家']\n",
      "['「Lucifer」', '汪玲', '厂家']\n",
      "['小hu', 'Jon', '厂家']\n",
      "['A盼盼', '范好龙', '疼痛', '厂家']\n",
      "['隐身守候', '亚楠', '厂家']\n",
      "['杜', '疼痛', '厂家']\n",
      "['冯伟', '大猫', '厂家']\n",
      "['星星', 'Amy 付静文', '厂家']\n",
      "['猪猪爱睡觉', 'ʚ Crystal.W ɞ', '还是那样', '厂家']\n",
      "['猪猪爱睡觉', 'ʚ Crystal.W ɞ', '厂家']\n",
      "['枫', '范好龙', '疼痛', '厂家']\n",
      "['王晓东', '疼痛', '厂家']\n",
      "['兰博悉尼', '疼痛', '厂家']\n",
      "['小燕子', '疼痛', '厂家']\n",
      "['孙建', '陈凯铭', '厂家']\n",
      "['太阳花', '陈凯铭', '厂家']\n",
      "['CXH', 'Amy 付静文', '厂家']\n",
      "['婴宁echo', '陈凯铭', '厂家']\n",
      "['周晓倩', '原力青汁 曹蒙', '厂家']\n",
      "['执 ＠卓', '郭海文', '厂家']\n",
      "['孔维荣', 'Amy 付静文', '厂家']\n",
      "['陈晓芸', '付添豪', '厂家']\n",
      "['顺其自然', '疼痛', '厂家']\n",
      "['爱生活', '疼痛', '厂家']\n",
      "['郭继阳', '郭海文', '厂家']\n",
      "['蓝色海洋', '厂家']\n",
      "['旧事酒浓', '曲景', '厂家']\n",
      "['味道', '付添豪', '厂家']\n",
      "['刘强', '疼痛', '厂家']\n",
      "['刘变伟', '疼痛', '厂家']\n",
      "['Lyndon', '厂家']\n",
      "['有莘', '郭海文', '厂家']\n",
      "['菓菓妈', '哈哈', '厂家']\n",
      "['Andy Chen', 'Hey！土豆', '厂家']\n",
      "['Hey！土豆', '厂家']\n",
      "['梁倩艳', '付添豪', '厂家']\n",
      "['昨天的回忆', '郭海文', '厂家']\n",
      "['心在岁月中慢慢磨砺', '郭海文', '厂家']\n",
      "['王宏奎', '疼痛', '厂家']\n",
      "['往事清零', '疼痛', '厂家']\n",
      "['吉野家用户运营·胡丹', '付添豪', '厂家']\n",
      "['老瑞', '疼痛', '厂家']\n",
      "['爱你，宝贝', '郭海文', '厂家']\n",
      "['培培', 'Jon', '厂家']\n",
      "['有尔的地方@就是家', '郭海文', '厂家']\n",
      "['zxdengl', '郭海文', '厂家']\n",
      "['黄久军', '郭海文', '厂家']\n",
      "['抱歉-nl゛不配', 'Jon', '厂家']\n",
      "['绚烂烟火    leo', '亚楠', '厂家']\n",
      "['永恒的爱', '原力青汁 曹蒙', '厂家']\n",
      "['Aiz~嫚', '不靠谱', '征辉', '疼痛', '厂家']\n",
      "['不靠谱', '征辉', '疼痛', '厂家']\n",
      "['征辉', '疼痛', '厂家']\n",
      "['李军艺', '尹沫儿/122', '亚楠', '厂家']\n",
      "['尹沫儿/122', '亚楠', '厂家']\n",
      "['白雪公主湾湾', '亚楠', '厂家']\n",
      "['余生如歌', 'minjie', '厂家']\n",
      "['佟宇', '疼痛', '厂家']\n",
      "['摄像师\\ue03d', '疼痛', '厂家']\n",
      "['I、Y', '疼痛', '厂家']\n",
      "['黯然', '疼痛', '厂家']\n",
      "['人生难得几回搏，', '疼痛', '厂家']\n",
      "['曲Nana', 'Jon', '厂家']\n",
      "['范好龙', '疼痛', '厂家']\n",
      "['任翠银吉野家', '郭海文', '厂家']\n",
      "['倩妞儿', '疼痛', '厂家']\n",
      "['A呦胖小媛', '疼痛', '厂家']\n",
      "['hee雅巍', '疼痛', '厂家']\n",
      "['Thorn_姗', '疼痛', '厂家']\n",
      "['水儿', '厂家']\n",
      "['涤生2020', '厂家']\n",
      "['云之梦', '厂家']\n",
      "['赵景毅', 'ʚ Crystal.W ɞ', '还是那样', '厂家']\n",
      "['赵景毅', 'ʚ Crystal.W ɞ', '厂家']\n",
      "['ʚ Crystal.W ɞ', '还是那样', '厂家']\n",
      "['ʚ Crystal.W ɞ', '厂家']\n",
      "['原力青汁 曹蒙', '厂家']\n",
      "['郭海文', '厂家']\n",
      "['Jon', '厂家']\n",
      "['汪玲', '厂家']\n",
      "['Amy 付静文', '厂家']\n",
      "['拥你入怀\\ue524', '厂家']\n",
      "['曲景', '厂家']\n",
      "['原力青汁  朱志侠', '厂家']\n",
      "['疼痛', '厂家']\n",
      "['大猫', '厂家']\n",
      "['minjie', '厂家']\n",
      "['X.4246', '厂家']\n",
      "['亚楠', '厂家']\n",
      "['原力青汁 高燕', '厂家']\n",
      "['哈哈', '厂家']\n",
      "['啊哈', '厂家']\n",
      "['王君清', '厂家']\n",
      "['陈凯铭', '厂家']\n",
      "['付添豪', '厂家']\n",
      "['吴贞', '厂家']\n",
      "['刘忠侠', '厂家']\n",
      "['默认代理', '厂家']\n",
      "['bamboo', '厂家']\n",
      "['13918933595', '厂家']\n",
      "['17898897736', '厂家']\n",
      "['WPP', '厂家']\n"
     ]
    }
   ],
   "source": [
    "for i in range(dat.shape[0]):\n",
    "    opt = nx.all_simple_paths(G, source=dat['会员名称'][i], target='厂家')\n",
    "    for path in opt:\n",
    "        print(path)"
   ]
  },
  {
   "cell_type": "code",
   "execution_count": 51,
   "metadata": {},
   "outputs": [
    {
     "data": {
      "text/plain": [
       "['__class__',\n",
       " '__del__',\n",
       " '__delattr__',\n",
       " '__dir__',\n",
       " '__doc__',\n",
       " '__eq__',\n",
       " '__format__',\n",
       " '__ge__',\n",
       " '__getattribute__',\n",
       " '__gt__',\n",
       " '__hash__',\n",
       " '__init__',\n",
       " '__init_subclass__',\n",
       " '__iter__',\n",
       " '__le__',\n",
       " '__lt__',\n",
       " '__name__',\n",
       " '__ne__',\n",
       " '__new__',\n",
       " '__next__',\n",
       " '__qualname__',\n",
       " '__reduce__',\n",
       " '__reduce_ex__',\n",
       " '__repr__',\n",
       " '__setattr__',\n",
       " '__sizeof__',\n",
       " '__str__',\n",
       " '__subclasshook__',\n",
       " 'close',\n",
       " 'gi_code',\n",
       " 'gi_frame',\n",
       " 'gi_running',\n",
       " 'gi_yieldfrom',\n",
       " 'send',\n",
       " 'throw']"
      ]
     },
     "execution_count": 51,
     "metadata": {},
     "output_type": "execute_result"
    }
   ],
   "source": [
    "dir(opt)"
   ]
  }
 ],
 "metadata": {
  "kernelspec": {
   "display_name": "Python 3",
   "language": "python",
   "name": "python3"
  },
  "language_info": {
   "codemirror_mode": {
    "name": "ipython",
    "version": 3
   },
   "file_extension": ".py",
   "mimetype": "text/x-python",
   "name": "python",
   "nbconvert_exporter": "python",
   "pygments_lexer": "ipython3",
   "version": "3.7.0"
  }
 },
 "nbformat": 4,
 "nbformat_minor": 4
}
